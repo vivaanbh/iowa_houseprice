{
 "cells": [
  {
   "cell_type": "code",
   "execution_count": 783,
   "metadata": {},
   "outputs": [],
   "source": [
    "# Importing necessary packages\n",
    "import os\n",
    "import pandas as pd # python's data handling package\n",
    "import numpy as np # python's scientific computing package\n",
    "import matplotlib.pyplot as plt # python's plotting package\n",
    "from sklearn.metrics import mean_squared_error as mse\n",
    "\n",
    "from pandas import concat\n",
    "from sklearn.linear_model import LinearRegression\n",
    "from sklearn.linear_model import Ridge\n",
    "from sklearn.linear_model import Lasso\n",
    "from sklearn.metrics import mean_squared_error as mse"
   ]
  },
  {
   "cell_type": "markdown",
   "metadata": {},
   "source": [
    "##### Loading data."
   ]
  },
  {
   "cell_type": "code",
   "execution_count": 784,
   "metadata": {},
   "outputs": [],
   "source": [
    "# Both features and target have already been scaled: mean = 0; SD = 1\n",
    "DATA_FOLDER = './'\n",
    "data = pd.read_csv(os.path.join(DATA_FOLDER, 'Houseprice_data_scaled.csv'))\n",
    "data_1 = pd.read_csv(os.path.join(DATA_FOLDER, 'Original_Data.csv'))\n",
    "#data = pd.read_csv(r'Houseprice_data_scaled.csv')\n",
    "#data_1 = pd.read_csv(r'Original_Data.csv')"
   ]
  },
  {
   "cell_type": "code",
   "execution_count": 785,
   "metadata": {},
   "outputs": [],
   "source": [
    "data_1 = pd.DataFrame(data_1)"
   ]
  },
  {
   "cell_type": "code",
   "execution_count": 786,
   "metadata": {},
   "outputs": [],
   "source": [
    "# First 1800 data items are training set; the next 600 are the validation set\n",
    "train = data.iloc[:1800] \n",
    "val = data.iloc[1800:2400]"
   ]
  },
  {
   "cell_type": "code",
   "execution_count": 787,
   "metadata": {},
   "outputs": [
    {
     "data": {
      "text/plain": [
       "True"
      ]
     },
     "execution_count": 787,
     "metadata": {},
     "output_type": "execute_result"
    }
   ],
   "source": [
    "len(data) == len(data_1)"
   ]
  },
  {
   "cell_type": "code",
   "execution_count": 788,
   "metadata": {},
   "outputs": [],
   "source": [
    "# Creating the \"X\" and \"y\" variables. We drop sale price from \"X\"\n",
    "X_train, X_val = train.drop('Sale Price', axis=1), val.drop('Sale Price', axis=1)\n",
    "y_train, y_val = train[['Sale Price']], val[['Sale Price']] "
   ]
  },
  {
   "cell_type": "code",
   "execution_count": 789,
   "metadata": {},
   "outputs": [
    {
     "data": {
      "text/plain": [
       "<AxesSubplot:ylabel='Frequency'>"
      ]
     },
     "execution_count": 789,
     "metadata": {},
     "output_type": "execute_result"
    },
    {
     "data": {
      "image/png": "[encoded data removed]",
      "text/plain": [
       "<Figure size 432x288 with 1 Axes>"
      ]
     },
     "metadata": {
      "needs_background": "light"
     },
     "output_type": "display_data"
    }
   ],
   "source": [
    "data_1.plot(kind='hist', y='LotFrontage', density=True)\n"
   ]
  },
  {
   "cell_type": "code",
   "execution_count": 790,
   "metadata": {},
   "outputs": [
    {
     "data": {
      "text/plain": [
       "count    2422.000000\n",
       "mean       69.083815\n",
       "std        22.691072\n",
       "min        21.000000\n",
       "25%        59.000000\n",
       "50%        68.000000\n",
       "75%        80.000000\n",
       "max       313.000000\n",
       "Name: LotFrontage, dtype: float64"
      ]
     },
     "execution_count": 790,
     "metadata": {},
     "output_type": "execute_result"
    }
   ],
   "source": [
    "data_1['LotFrontage'].describe()"
   ]
  },
  {
   "cell_type": "markdown",
   "metadata": {},
   "source": [
    "***Cleaning Data***\n",
    "\n",
    "Dealing with missing values. Following ways:\n",
    "\n",
    "1. Removing missing values\n",
    "2. Assigning Mean value\n",
    "3. Assigning Random values from set of observations for the variable"
   ]
  },
  {
   "cell_type": "markdown",
   "metadata": {},
   "source": [
    "***Removing Missing Values***"
   ]
  },
  {
   "cell_type": "code",
   "execution_count": 791,
   "metadata": {},
   "outputs": [],
   "source": [
    "a = ['Id', 'LotFrontage']"
   ]
  },
  {
   "cell_type": "code",
   "execution_count": 792,
   "metadata": {},
   "outputs": [
    {
     "data": {
      "text/html": [
       "<div>\n",
       "<style scoped>\n",
       "    .dataframe tbody tr th:only-of-type {\n",
       "        vertical-align: middle;\n",
       "    }\n",
       "\n",
       "    .dataframe tbody tr th {\n",
       "        vertical-align: top;\n",
       "    }\n",
       "\n",
       "    .dataframe thead th {\n",
       "        text-align: right;\n",
       "    }\n",
       "</style>\n",
       "<table border=\"1\" class=\"dataframe\">\n",
       "  <thead>\n",
       "    <tr style=\"text-align: right;\">\n",
       "      <th></th>\n",
       "      <th>Id</th>\n",
       "      <th>LotFrontage</th>\n",
       "    </tr>\n",
       "  </thead>\n",
       "  <tbody>\n",
       "    <tr>\n",
       "      <th>0</th>\n",
       "      <td>1</td>\n",
       "      <td>65.0</td>\n",
       "    </tr>\n",
       "    <tr>\n",
       "      <th>1</th>\n",
       "      <td>2</td>\n",
       "      <td>80.0</td>\n",
       "    </tr>\n",
       "    <tr>\n",
       "      <th>2</th>\n",
       "      <td>3</td>\n",
       "      <td>68.0</td>\n",
       "    </tr>\n",
       "    <tr>\n",
       "      <th>3</th>\n",
       "      <td>4</td>\n",
       "      <td>60.0</td>\n",
       "    </tr>\n",
       "    <tr>\n",
       "      <th>4</th>\n",
       "      <td>5</td>\n",
       "      <td>84.0</td>\n",
       "    </tr>\n",
       "    <tr>\n",
       "      <th>...</th>\n",
       "      <td>...</td>\n",
       "      <td>...</td>\n",
       "    </tr>\n",
       "    <tr>\n",
       "      <th>2903</th>\n",
       "      <td>2915</td>\n",
       "      <td>21.0</td>\n",
       "    </tr>\n",
       "    <tr>\n",
       "      <th>2904</th>\n",
       "      <td>2916</td>\n",
       "      <td>21.0</td>\n",
       "    </tr>\n",
       "    <tr>\n",
       "      <th>2905</th>\n",
       "      <td>2917</td>\n",
       "      <td>160.0</td>\n",
       "    </tr>\n",
       "    <tr>\n",
       "      <th>2906</th>\n",
       "      <td>2918</td>\n",
       "      <td>62.0</td>\n",
       "    </tr>\n",
       "    <tr>\n",
       "      <th>2907</th>\n",
       "      <td>2919</td>\n",
       "      <td>74.0</td>\n",
       "    </tr>\n",
       "  </tbody>\n",
       "</table>\n",
       "<p>2908 rows × 2 columns</p>\n",
       "</div>"
      ],
      "text/plain": [
       "        Id  LotFrontage\n",
       "0        1         65.0\n",
       "1        2         80.0\n",
       "2        3         68.0\n",
       "3        4         60.0\n",
       "4        5         84.0\n",
       "...    ...          ...\n",
       "2903  2915         21.0\n",
       "2904  2916         21.0\n",
       "2905  2917        160.0\n",
       "2906  2918         62.0\n",
       "2907  2919         74.0\n",
       "\n",
       "[2908 rows x 2 columns]"
      ]
     },
     "execution_count": 792,
     "metadata": {},
     "output_type": "execute_result"
    }
   ],
   "source": [
    "i=0\n",
    "b = list(data_1.columns)\n",
    "c = data_1\n",
    "for i in range(len(b)):\n",
    "    if b[i] in a:\n",
    "        i=i+1\n",
    "    else:\n",
    "        c = c.drop(b[i], axis=1)\n",
    "        i=i+1\n",
    "c"
   ]
  },
  {
   "cell_type": "code",
   "execution_count": 793,
   "metadata": {},
   "outputs": [
    {
     "data": {
      "text/html": [
       "<div>\n",
       "<style scoped>\n",
       "    .dataframe tbody tr th:only-of-type {\n",
       "        vertical-align: middle;\n",
       "    }\n",
       "\n",
       "    .dataframe tbody tr th {\n",
       "        vertical-align: top;\n",
       "    }\n",
       "\n",
       "    .dataframe thead th {\n",
       "        text-align: right;\n",
       "    }\n",
       "</style>\n",
       "<table border=\"1\" class=\"dataframe\">\n",
       "  <thead>\n",
       "    <tr style=\"text-align: right;\">\n",
       "      <th></th>\n",
       "      <th>LotArea</th>\n",
       "      <th>OverallQual</th>\n",
       "      <th>OverallCond</th>\n",
       "      <th>YearBuilt</th>\n",
       "      <th>YearRemodAdd</th>\n",
       "      <th>BsmtFinSF1</th>\n",
       "      <th>BsmtUnfSF</th>\n",
       "      <th>TotalBsmtSF</th>\n",
       "      <th>1stFlrSF</th>\n",
       "      <th>2ndFlrSF</th>\n",
       "      <th>...</th>\n",
       "      <th>Sawyer</th>\n",
       "      <th>SawyerW</th>\n",
       "      <th>Somerst</th>\n",
       "      <th>StoneBr</th>\n",
       "      <th>Timber</th>\n",
       "      <th>Veenker</th>\n",
       "      <th>Bsmt Qual</th>\n",
       "      <th>Sale Price</th>\n",
       "      <th>Id</th>\n",
       "      <th>LotFrontage</th>\n",
       "    </tr>\n",
       "  </thead>\n",
       "  <tbody>\n",
       "    <tr>\n",
       "      <th>0</th>\n",
       "      <td>-0.199572</td>\n",
       "      <td>0.652747</td>\n",
       "      <td>-0.512407</td>\n",
       "      <td>1.038851</td>\n",
       "      <td>0.875754</td>\n",
       "      <td>0.597837</td>\n",
       "      <td>-0.937245</td>\n",
       "      <td>-0.482464</td>\n",
       "      <td>-0.808820</td>\n",
       "      <td>1.203988</td>\n",
       "      <td>...</td>\n",
       "      <td>-0.2253</td>\n",
       "      <td>-0.214192</td>\n",
       "      <td>-0.268378</td>\n",
       "      <td>-0.127929</td>\n",
       "      <td>-0.152629</td>\n",
       "      <td>-0.091644</td>\n",
       "      <td>0.584308</td>\n",
       "      <td>0.358489</td>\n",
       "      <td>1</td>\n",
       "      <td>65.0</td>\n",
       "    </tr>\n",
       "    <tr>\n",
       "      <th>1</th>\n",
       "      <td>-0.072005</td>\n",
       "      <td>-0.072527</td>\n",
       "      <td>2.189741</td>\n",
       "      <td>0.136810</td>\n",
       "      <td>-0.432225</td>\n",
       "      <td>1.218528</td>\n",
       "      <td>-0.635042</td>\n",
       "      <td>0.490326</td>\n",
       "      <td>0.276358</td>\n",
       "      <td>-0.789421</td>\n",
       "      <td>...</td>\n",
       "      <td>-0.2253</td>\n",
       "      <td>-0.214192</td>\n",
       "      <td>-0.268378</td>\n",
       "      <td>-0.127929</td>\n",
       "      <td>-0.152629</td>\n",
       "      <td>10.905682</td>\n",
       "      <td>0.584308</td>\n",
       "      <td>0.008849</td>\n",
       "      <td>2</td>\n",
       "      <td>80.0</td>\n",
       "    </tr>\n",
       "    <tr>\n",
       "      <th>2</th>\n",
       "      <td>0.111026</td>\n",
       "      <td>0.652747</td>\n",
       "      <td>-0.512407</td>\n",
       "      <td>0.972033</td>\n",
       "      <td>0.827310</td>\n",
       "      <td>0.095808</td>\n",
       "      <td>-0.296754</td>\n",
       "      <td>-0.329118</td>\n",
       "      <td>-0.637758</td>\n",
       "      <td>1.231999</td>\n",
       "      <td>...</td>\n",
       "      <td>-0.2253</td>\n",
       "      <td>-0.214192</td>\n",
       "      <td>-0.268378</td>\n",
       "      <td>-0.127929</td>\n",
       "      <td>-0.152629</td>\n",
       "      <td>-0.091644</td>\n",
       "      <td>0.584308</td>\n",
       "      <td>0.552733</td>\n",
       "      <td>3</td>\n",
       "      <td>68.0</td>\n",
       "    </tr>\n",
       "    <tr>\n",
       "      <th>3</th>\n",
       "      <td>-0.077551</td>\n",
       "      <td>0.652747</td>\n",
       "      <td>-0.512407</td>\n",
       "      <td>-1.901135</td>\n",
       "      <td>-0.722887</td>\n",
       "      <td>-0.520319</td>\n",
       "      <td>-0.057698</td>\n",
       "      <td>-0.722067</td>\n",
       "      <td>-0.528171</td>\n",
       "      <td>0.975236</td>\n",
       "      <td>...</td>\n",
       "      <td>-0.2253</td>\n",
       "      <td>-0.214192</td>\n",
       "      <td>-0.268378</td>\n",
       "      <td>-0.127929</td>\n",
       "      <td>-0.152629</td>\n",
       "      <td>-0.091644</td>\n",
       "      <td>-0.577852</td>\n",
       "      <td>-0.528560</td>\n",
       "      <td>4</td>\n",
       "      <td>60.0</td>\n",
       "    </tr>\n",
       "    <tr>\n",
       "      <th>4</th>\n",
       "      <td>0.444919</td>\n",
       "      <td>1.378022</td>\n",
       "      <td>-0.512407</td>\n",
       "      <td>0.938624</td>\n",
       "      <td>0.730423</td>\n",
       "      <td>0.481458</td>\n",
       "      <td>-0.170461</td>\n",
       "      <td>0.209990</td>\n",
       "      <td>-0.036366</td>\n",
       "      <td>1.668495</td>\n",
       "      <td>...</td>\n",
       "      <td>-0.2253</td>\n",
       "      <td>-0.214192</td>\n",
       "      <td>-0.268378</td>\n",
       "      <td>-0.127929</td>\n",
       "      <td>-0.152629</td>\n",
       "      <td>-0.091644</td>\n",
       "      <td>0.584308</td>\n",
       "      <td>0.895898</td>\n",
       "      <td>5</td>\n",
       "      <td>84.0</td>\n",
       "    </tr>\n",
       "  </tbody>\n",
       "</table>\n",
       "<p>5 rows × 50 columns</p>\n",
       "</div>"
      ],
      "text/plain": [
       "    LotArea  OverallQual  OverallCond  YearBuilt  YearRemodAdd  BsmtFinSF1  \\\n",
       "0 -0.199572     0.652747    -0.512407   1.038851      0.875754    0.597837   \n",
       "1 -0.072005    -0.072527     2.189741   0.136810     -0.432225    1.218528   \n",
       "2  0.111026     0.652747    -0.512407   0.972033      0.827310    0.095808   \n",
       "3 -0.077551     0.652747    -0.512407  -1.901135     -0.722887   -0.520319   \n",
       "4  0.444919     1.378022    -0.512407   0.938624      0.730423    0.481458   \n",
       "\n",
       "   BsmtUnfSF  TotalBsmtSF  1stFlrSF  2ndFlrSF  ...  Sawyer   SawyerW  \\\n",
       "0  -0.937245    -0.482464 -0.808820  1.203988  ... -0.2253 -0.214192   \n",
       "1  -0.635042     0.490326  0.276358 -0.789421  ... -0.2253 -0.214192   \n",
       "2  -0.296754    -0.329118 -0.637758  1.231999  ... -0.2253 -0.214192   \n",
       "3  -0.057698    -0.722067 -0.528171  0.975236  ... -0.2253 -0.214192   \n",
       "4  -0.170461     0.209990 -0.036366  1.668495  ... -0.2253 -0.214192   \n",
       "\n",
       "    Somerst   StoneBr    Timber    Veenker  Bsmt Qual  Sale Price  Id  \\\n",
       "0 -0.268378 -0.127929 -0.152629  -0.091644   0.584308    0.358489   1   \n",
       "1 -0.268378 -0.127929 -0.152629  10.905682   0.584308    0.008849   2   \n",
       "2 -0.268378 -0.127929 -0.152629  -0.091644   0.584308    0.552733   3   \n",
       "3 -0.268378 -0.127929 -0.152629  -0.091644  -0.577852   -0.528560   4   \n",
       "4 -0.268378 -0.127929 -0.152629  -0.091644   0.584308    0.895898   5   \n",
       "\n",
       "   LotFrontage  \n",
       "0         65.0  \n",
       "1         80.0  \n",
       "2         68.0  \n",
       "3         60.0  \n",
       "4         84.0  \n",
       "\n",
       "[5 rows x 50 columns]"
      ]
     },
     "execution_count": 793,
     "metadata": {},
     "output_type": "execute_result"
    }
   ],
   "source": [
    "data[\"Id\"]=c[\"Id\"]\n",
    "same = pd.merge(data, c, on='Id')\n",
    "#same = pd.concat([data, c],axis=1)\n",
    "same.head()"
   ]
  },
  {
   "cell_type": "code",
   "execution_count": 794,
   "metadata": {},
   "outputs": [
    {
     "data": {
      "text/plain": [
       "2908"
      ]
     },
     "execution_count": 794,
     "metadata": {},
     "output_type": "execute_result"
    }
   ],
   "source": [
    "len(same)"
   ]
  },
  {
   "cell_type": "code",
   "execution_count": 795,
   "metadata": {},
   "outputs": [],
   "source": [
    "miss = same.dropna()"
   ]
  },
  {
   "cell_type": "code",
   "execution_count": 796,
   "metadata": {},
   "outputs": [
    {
     "name": "stderr",
     "output_type": "stream",
     "text": [
      "/var/folders/3p/nwvghs2n18z16lx14xfm72j40000gn/T/ipykernel_13681/255569117.py:1: SettingWithCopyWarning: \n",
      "A value is trying to be set on a copy of a slice from a DataFrame.\n",
      "Try using .loc[row_indexer,col_indexer] = value instead\n",
      "\n",
      "See the caveats in the documentation: https://pandas.pydata.org/pandas-docs/stable/user_guide/indexing.html#returning-a-view-versus-a-copy\n",
      "  miss['LotFrontage'] = miss['LotFrontage'].astype(int)\n"
     ]
    }
   ],
   "source": [
    "miss['LotFrontage'] = miss['LotFrontage'].astype(int)"
   ]
  },
  {
   "cell_type": "code",
   "execution_count": 797,
   "metadata": {},
   "outputs": [
    {
     "name": "stderr",
     "output_type": "stream",
     "text": [
      "/var/folders/3p/nwvghs2n18z16lx14xfm72j40000gn/T/ipykernel_13681/2411698412.py:2: SettingWithCopyWarning: \n",
      "A value is trying to be set on a copy of a slice from a DataFrame.\n",
      "Try using .loc[row_indexer,col_indexer] = value instead\n",
      "\n",
      "See the caveats in the documentation: https://pandas.pydata.org/pandas-docs/stable/user_guide/indexing.html#returning-a-view-versus-a-copy\n",
      "  miss['streetft'] = (d - d.mean()) / d.std()\n"
     ]
    }
   ],
   "source": [
    "d = miss['LotFrontage'] \n",
    "miss['streetft'] = (d - d.mean()) / d.std()"
   ]
  },
  {
   "cell_type": "code",
   "execution_count": 798,
   "metadata": {},
   "outputs": [
    {
     "data": {
      "text/plain": [
       "0      -0.179975\n",
       "1       0.481078\n",
       "2      -0.047764\n",
       "3      -0.400326\n",
       "4       0.657359\n",
       "          ...   \n",
       "2903   -2.119063\n",
       "2904   -2.119063\n",
       "2905    4.006694\n",
       "2906   -0.312185\n",
       "2907    0.216657\n",
       "Name: streetft, Length: 2422, dtype: float64"
      ]
     },
     "execution_count": 798,
     "metadata": {},
     "output_type": "execute_result"
    }
   ],
   "source": [
    "miss['streetft']"
   ]
  },
  {
   "cell_type": "code",
   "execution_count": 799,
   "metadata": {
    "scrolled": true
   },
   "outputs": [],
   "source": [
    "miss = miss.drop('LotFrontage', axis=1)"
   ]
  },
  {
   "cell_type": "code",
   "execution_count": 800,
   "metadata": {},
   "outputs": [],
   "source": [
    "miss_f = miss.drop('Id', axis=1)"
   ]
  },
  {
   "cell_type": "code",
   "execution_count": 801,
   "metadata": {},
   "outputs": [
    {
     "data": {
      "text/plain": [
       "False"
      ]
     },
     "execution_count": 801,
     "metadata": {},
     "output_type": "execute_result"
    }
   ],
   "source": [
    "e = miss_f.isnull()\n",
    "True in e"
   ]
  },
  {
   "cell_type": "code",
   "execution_count": 802,
   "metadata": {},
   "outputs": [],
   "source": [
    "miss_f.to_csv(DATA_FOLDER+'B_dataset.csv',header=True)"
   ]
  },
  {
   "cell_type": "code",
   "execution_count": 803,
   "metadata": {},
   "outputs": [],
   "source": [
    "train_m = miss_f.iloc[:1600]\n",
    "val_m = miss_f.iloc[1600:2100]\n",
    "test_m = miss_f.iloc[2100:]"
   ]
  },
  {
   "cell_type": "code",
   "execution_count": 804,
   "metadata": {},
   "outputs": [],
   "source": [
    "X_train_m, X_val_m, X_test_m = train_m.drop('Sale Price', axis=1), val_m.drop('Sale Price', axis=1), test_m.drop('Sale Price', axis=1)\n",
    "y_train_m, y_val_m, y_test_m = train_m[['Sale Price']], val_m[['Sale Price']], test_m[['Sale Price']]"
   ]
  },
  {
   "cell_type": "markdown",
   "metadata": {},
   "source": [
    "***Assigning Mean value***"
   ]
  },
  {
   "cell_type": "code",
   "execution_count": 805,
   "metadata": {},
   "outputs": [],
   "source": [
    "avg = same.fillna(value=d.mean())"
   ]
  },
  {
   "cell_type": "code",
   "execution_count": 806,
   "metadata": {},
   "outputs": [
    {
     "data": {
      "text/plain": [
       "False"
      ]
     },
     "execution_count": 806,
     "metadata": {},
     "output_type": "execute_result"
    }
   ],
   "source": [
    "e = avg.isnull()\n",
    "True in e"
   ]
  },
  {
   "cell_type": "code",
   "execution_count": 807,
   "metadata": {},
   "outputs": [],
   "source": [
    "lot = avg['LotFrontage']\n",
    "avg['streetft'] = (lot - lot.mean()) / lot.std()"
   ]
  },
  {
   "cell_type": "code",
   "execution_count": 808,
   "metadata": {},
   "outputs": [],
   "source": [
    "avg = avg.drop('LotFrontage', axis=1)"
   ]
  },
  {
   "cell_type": "code",
   "execution_count": 809,
   "metadata": {},
   "outputs": [],
   "source": [
    "avg_f = avg.drop('Id', axis=1)"
   ]
  },
  {
   "cell_type": "code",
   "execution_count": 810,
   "metadata": {},
   "outputs": [],
   "source": [
    "train_av = avg_f.iloc[:1800]\n",
    "val_av = avg_f.iloc[1800:2400]\n",
    "test_av = avg_f.iloc[2400:]"
   ]
  },
  {
   "cell_type": "code",
   "execution_count": 811,
   "metadata": {},
   "outputs": [],
   "source": [
    "X_train_av, X_val_av, X_test_av = train_av.drop('Sale Price', axis=1), val_av.drop('Sale Price', axis=1), test_av.drop('Sale Price', axis=1)\n",
    "y_train_av, y_val_av, y_test_av = train_av[['Sale Price']], val_av[['Sale Price']], test_av[['Sale Price']]"
   ]
  },
  {
   "cell_type": "markdown",
   "metadata": {},
   "source": [
    "***Assigning Random values from set of observations for the variable***"
   ]
  },
  {
   "cell_type": "code",
   "execution_count": 812,
   "metadata": {},
   "outputs": [],
   "source": [
    "import random"
   ]
  },
  {
   "cell_type": "code",
   "execution_count": 813,
   "metadata": {},
   "outputs": [],
   "source": [
    "f = d.unique()"
   ]
  },
  {
   "cell_type": "code",
   "execution_count": 814,
   "metadata": {},
   "outputs": [],
   "source": [
    "g = list(same['Id'])\n",
    "h= list(miss['Id'])"
   ]
  },
  {
   "cell_type": "code",
   "execution_count": 815,
   "metadata": {},
   "outputs": [],
   "source": [
    "i=0\n",
    "j = []\n",
    "for i in range(len(g)):\n",
    "    if g[i] in h:\n",
    "        i=i+1\n",
    "    else:\n",
    "        j.append(g[i])"
   ]
  },
  {
   "cell_type": "code",
   "execution_count": 816,
   "metadata": {},
   "outputs": [
    {
     "data": {
      "text/plain": [
       "486"
      ]
     },
     "execution_count": 816,
     "metadata": {},
     "output_type": "execute_result"
    }
   ],
   "source": [
    "len(j)"
   ]
  },
  {
   "cell_type": "code",
   "execution_count": 817,
   "metadata": {},
   "outputs": [],
   "source": [
    "rd = same\n",
    "rd = pd.DataFrame(rd)\n",
    "rd.set_index('Id', inplace=True)"
   ]
  },
  {
   "cell_type": "code",
   "execution_count": 818,
   "metadata": {},
   "outputs": [],
   "source": [
    "i=0\n",
    "for i in range(len(g)):\n",
    "    if g[i] in j:\n",
    "        i=i+1\n",
    "    else:\n",
    "        rd = rd.drop(g[i], axis=0)\n",
    "        i=i+1"
   ]
  },
  {
   "cell_type": "code",
   "execution_count": 819,
   "metadata": {},
   "outputs": [],
   "source": [
    "rd.reset_index(inplace=True)"
   ]
  },
  {
   "cell_type": "code",
   "execution_count": 820,
   "metadata": {},
   "outputs": [
    {
     "name": "stderr",
     "output_type": "stream",
     "text": [
      "/var/folders/3p/nwvghs2n18z16lx14xfm72j40000gn/T/ipykernel_13681/531391326.py:4: SettingWithCopyWarning: \n",
      "A value is trying to be set on a copy of a slice from a DataFrame\n",
      "\n",
      "See the caveats in the documentation: https://pandas.pydata.org/pandas-docs/stable/user_guide/indexing.html#returning-a-view-versus-a-copy\n",
      "  rd['LotFrontage'][i] = f[rand_idx]\n"
     ]
    }
   ],
   "source": [
    "i=0\n",
    "for i in range(len(rd)):\n",
    "    rand_idx = random.randrange(len(f))\n",
    "    rd['LotFrontage'][i] = f[rand_idx] \n",
    "    i=i+1"
   ]
  },
  {
   "cell_type": "code",
   "execution_count": 821,
   "metadata": {},
   "outputs": [],
   "source": [
    "rd['LotFrontage'] = rd['LotFrontage'].astype(int)"
   ]
  },
  {
   "cell_type": "code",
   "execution_count": 822,
   "metadata": {},
   "outputs": [],
   "source": [
    "rd['streetft'] = (rd['LotFrontage'] - rd['LotFrontage'].mean()) / rd['LotFrontage'].std()"
   ]
  },
  {
   "cell_type": "code",
   "execution_count": 823,
   "metadata": {},
   "outputs": [],
   "source": [
    "rd = rd.drop('LotFrontage', axis=1)"
   ]
  },
  {
   "cell_type": "code",
   "execution_count": 824,
   "metadata": {},
   "outputs": [],
   "source": [
    "rd1 = pd.concat([miss, rd], axis=0)"
   ]
  },
  {
   "cell_type": "code",
   "execution_count": 825,
   "metadata": {
    "scrolled": true
   },
   "outputs": [],
   "source": [
    "rd1 = rd1.drop('Id', axis=1)"
   ]
  },
  {
   "cell_type": "code",
   "execution_count": 826,
   "metadata": {},
   "outputs": [
    {
     "data": {
      "text/html": [
       "<div>\n",
       "<style scoped>\n",
       "    .dataframe tbody tr th:only-of-type {\n",
       "        vertical-align: middle;\n",
       "    }\n",
       "\n",
       "    .dataframe tbody tr th {\n",
       "        vertical-align: top;\n",
       "    }\n",
       "\n",
       "    .dataframe thead th {\n",
       "        text-align: right;\n",
       "    }\n",
       "</style>\n",
       "<table border=\"1\" class=\"dataframe\">\n",
       "  <thead>\n",
       "    <tr style=\"text-align: right;\">\n",
       "      <th></th>\n",
       "      <th>LotArea</th>\n",
       "      <th>OverallQual</th>\n",
       "      <th>OverallCond</th>\n",
       "      <th>YearBuilt</th>\n",
       "      <th>YearRemodAdd</th>\n",
       "      <th>BsmtFinSF1</th>\n",
       "      <th>BsmtUnfSF</th>\n",
       "      <th>TotalBsmtSF</th>\n",
       "      <th>1stFlrSF</th>\n",
       "      <th>2ndFlrSF</th>\n",
       "      <th>...</th>\n",
       "      <th>SWISU</th>\n",
       "      <th>Sawyer</th>\n",
       "      <th>SawyerW</th>\n",
       "      <th>Somerst</th>\n",
       "      <th>StoneBr</th>\n",
       "      <th>Timber</th>\n",
       "      <th>Veenker</th>\n",
       "      <th>Bsmt Qual</th>\n",
       "      <th>Sale Price</th>\n",
       "      <th>streetft</th>\n",
       "    </tr>\n",
       "  </thead>\n",
       "  <tbody>\n",
       "    <tr>\n",
       "      <th>0</th>\n",
       "      <td>-0.199572</td>\n",
       "      <td>0.652747</td>\n",
       "      <td>-0.512407</td>\n",
       "      <td>1.038851</td>\n",
       "      <td>0.875754</td>\n",
       "      <td>0.597837</td>\n",
       "      <td>-0.937245</td>\n",
       "      <td>-0.482464</td>\n",
       "      <td>-0.808820</td>\n",
       "      <td>1.203988</td>\n",
       "      <td>...</td>\n",
       "      <td>-0.136621</td>\n",
       "      <td>-0.2253</td>\n",
       "      <td>-0.214192</td>\n",
       "      <td>-0.268378</td>\n",
       "      <td>-0.127929</td>\n",
       "      <td>-0.152629</td>\n",
       "      <td>-0.091644</td>\n",
       "      <td>0.584308</td>\n",
       "      <td>0.358489</td>\n",
       "      <td>-0.179975</td>\n",
       "    </tr>\n",
       "    <tr>\n",
       "      <th>1</th>\n",
       "      <td>-0.072005</td>\n",
       "      <td>-0.072527</td>\n",
       "      <td>2.189741</td>\n",
       "      <td>0.136810</td>\n",
       "      <td>-0.432225</td>\n",
       "      <td>1.218528</td>\n",
       "      <td>-0.635042</td>\n",
       "      <td>0.490326</td>\n",
       "      <td>0.276358</td>\n",
       "      <td>-0.789421</td>\n",
       "      <td>...</td>\n",
       "      <td>-0.136621</td>\n",
       "      <td>-0.2253</td>\n",
       "      <td>-0.214192</td>\n",
       "      <td>-0.268378</td>\n",
       "      <td>-0.127929</td>\n",
       "      <td>-0.152629</td>\n",
       "      <td>10.905682</td>\n",
       "      <td>0.584308</td>\n",
       "      <td>0.008849</td>\n",
       "      <td>0.481078</td>\n",
       "    </tr>\n",
       "    <tr>\n",
       "      <th>2</th>\n",
       "      <td>0.111026</td>\n",
       "      <td>0.652747</td>\n",
       "      <td>-0.512407</td>\n",
       "      <td>0.972033</td>\n",
       "      <td>0.827310</td>\n",
       "      <td>0.095808</td>\n",
       "      <td>-0.296754</td>\n",
       "      <td>-0.329118</td>\n",
       "      <td>-0.637758</td>\n",
       "      <td>1.231999</td>\n",
       "      <td>...</td>\n",
       "      <td>-0.136621</td>\n",
       "      <td>-0.2253</td>\n",
       "      <td>-0.214192</td>\n",
       "      <td>-0.268378</td>\n",
       "      <td>-0.127929</td>\n",
       "      <td>-0.152629</td>\n",
       "      <td>-0.091644</td>\n",
       "      <td>0.584308</td>\n",
       "      <td>0.552733</td>\n",
       "      <td>-0.047764</td>\n",
       "    </tr>\n",
       "    <tr>\n",
       "      <th>3</th>\n",
       "      <td>-0.077551</td>\n",
       "      <td>0.652747</td>\n",
       "      <td>-0.512407</td>\n",
       "      <td>-1.901135</td>\n",
       "      <td>-0.722887</td>\n",
       "      <td>-0.520319</td>\n",
       "      <td>-0.057698</td>\n",
       "      <td>-0.722067</td>\n",
       "      <td>-0.528171</td>\n",
       "      <td>0.975236</td>\n",
       "      <td>...</td>\n",
       "      <td>-0.136621</td>\n",
       "      <td>-0.2253</td>\n",
       "      <td>-0.214192</td>\n",
       "      <td>-0.268378</td>\n",
       "      <td>-0.127929</td>\n",
       "      <td>-0.152629</td>\n",
       "      <td>-0.091644</td>\n",
       "      <td>-0.577852</td>\n",
       "      <td>-0.528560</td>\n",
       "      <td>-0.400326</td>\n",
       "    </tr>\n",
       "    <tr>\n",
       "      <th>4</th>\n",
       "      <td>0.444919</td>\n",
       "      <td>1.378022</td>\n",
       "      <td>-0.512407</td>\n",
       "      <td>0.938624</td>\n",
       "      <td>0.730423</td>\n",
       "      <td>0.481458</td>\n",
       "      <td>-0.170461</td>\n",
       "      <td>0.209990</td>\n",
       "      <td>-0.036366</td>\n",
       "      <td>1.668495</td>\n",
       "      <td>...</td>\n",
       "      <td>-0.136621</td>\n",
       "      <td>-0.2253</td>\n",
       "      <td>-0.214192</td>\n",
       "      <td>-0.268378</td>\n",
       "      <td>-0.127929</td>\n",
       "      <td>-0.152629</td>\n",
       "      <td>-0.091644</td>\n",
       "      <td>0.584308</td>\n",
       "      <td>0.895898</td>\n",
       "      <td>0.657359</td>\n",
       "    </tr>\n",
       "  </tbody>\n",
       "</table>\n",
       "<p>5 rows × 49 columns</p>\n",
       "</div>"
      ],
      "text/plain": [
       "    LotArea  OverallQual  OverallCond  YearBuilt  YearRemodAdd  BsmtFinSF1  \\\n",
       "0 -0.199572     0.652747    -0.512407   1.038851      0.875754    0.597837   \n",
       "1 -0.072005    -0.072527     2.189741   0.136810     -0.432225    1.218528   \n",
       "2  0.111026     0.652747    -0.512407   0.972033      0.827310    0.095808   \n",
       "3 -0.077551     0.652747    -0.512407  -1.901135     -0.722887   -0.520319   \n",
       "4  0.444919     1.378022    -0.512407   0.938624      0.730423    0.481458   \n",
       "\n",
       "   BsmtUnfSF  TotalBsmtSF  1stFlrSF  2ndFlrSF  ...     SWISU  Sawyer  \\\n",
       "0  -0.937245    -0.482464 -0.808820  1.203988  ... -0.136621 -0.2253   \n",
       "1  -0.635042     0.490326  0.276358 -0.789421  ... -0.136621 -0.2253   \n",
       "2  -0.296754    -0.329118 -0.637758  1.231999  ... -0.136621 -0.2253   \n",
       "3  -0.057698    -0.722067 -0.528171  0.975236  ... -0.136621 -0.2253   \n",
       "4  -0.170461     0.209990 -0.036366  1.668495  ... -0.136621 -0.2253   \n",
       "\n",
       "    SawyerW   Somerst   StoneBr    Timber    Veenker  Bsmt Qual  Sale Price  \\\n",
       "0 -0.214192 -0.268378 -0.127929 -0.152629  -0.091644   0.584308    0.358489   \n",
       "1 -0.214192 -0.268378 -0.127929 -0.152629  10.905682   0.584308    0.008849   \n",
       "2 -0.214192 -0.268378 -0.127929 -0.152629  -0.091644   0.584308    0.552733   \n",
       "3 -0.214192 -0.268378 -0.127929 -0.152629  -0.091644  -0.577852   -0.528560   \n",
       "4 -0.214192 -0.268378 -0.127929 -0.152629  -0.091644   0.584308    0.895898   \n",
       "\n",
       "   streetft  \n",
       "0 -0.179975  \n",
       "1  0.481078  \n",
       "2 -0.047764  \n",
       "3 -0.400326  \n",
       "4  0.657359  \n",
       "\n",
       "[5 rows x 49 columns]"
      ]
     },
     "execution_count": 826,
     "metadata": {},
     "output_type": "execute_result"
    }
   ],
   "source": [
    "rd1.head()"
   ]
  },
  {
   "cell_type": "code",
   "execution_count": 827,
   "metadata": {},
   "outputs": [],
   "source": [
    "train_r = rd1.iloc[:1800] \n",
    "val_r = rd1.iloc[1800:2400]\n",
    "test_r = rd1.iloc[2400:]"
   ]
  },
  {
   "cell_type": "code",
   "execution_count": 828,
   "metadata": {},
   "outputs": [],
   "source": [
    "X_train_r, X_val_r, X_test_r = train_r.drop('Sale Price', axis=1), val_r.drop('Sale Price', axis=1), test_r.drop('Sale Price', axis=1)\n",
    "y_train_r, y_val_r, y_test_r = train_r[['Sale Price']], val_r[['Sale Price']], test_r[['Sale Price']] \n",
    "\n",
    "\n"
   ]
  },
  {
   "cell_type": "markdown",
   "metadata": {},
   "source": [
    "###### Linear Regression"
   ]
  },
  {
   "cell_type": "code",
   "execution_count": 829,
   "metadata": {},
   "outputs": [],
   "source": [
    "# Importing models\n",
    "from sklearn.linear_model import LinearRegression"
   ]
  },
  {
   "cell_type": "code",
   "execution_count": 830,
   "metadata": {},
   "outputs": [
    {
     "data": {
      "text/html": [
       "<style>#sk-container-id-43 {color: black;background-color: white;}#sk-container-id-43 pre{padding: 0;}#sk-container-id-43 div.sk-toggleable {background-color: white;}#sk-container-id-43 label.sk-toggleable__label {cursor: pointer;display: block;width: 100%;margin-bottom: 0;padding: 0.3em;box-sizing: border-box;text-align: center;}#sk-container-id-43 label.sk-toggleable__label-arrow:before {content: \"▸\";float: left;margin-right: 0.25em;color: #696969;}#sk-container-id-43 label.sk-toggleable__label-arrow:hover:before {color: black;}#sk-container-id-43 div.sk-estimator:hover label.sk-toggleable__label-arrow:before {color: black;}#sk-container-id-43 div.sk-toggleable__content {max-height: 0;max-width: 0;overflow: hidden;text-align: left;background-color: #f0f8ff;}#sk-container-id-43 div.sk-toggleable__content pre {margin: 0.2em;color: black;border-radius: 0.25em;background-color: #f0f8ff;}#sk-container-id-43 input.sk-toggleable__control:checked~div.sk-toggleable__content {max-height: 200px;max-width: 100%;overflow: auto;}#sk-container-id-43 input.sk-toggleable__control:checked~label.sk-toggleable__label-arrow:before {content: \"▾\";}#sk-container-id-43 div.sk-estimator input.sk-toggleable__control:checked~label.sk-toggleable__label {background-color: #d4ebff;}#sk-container-id-43 div.sk-label input.sk-toggleable__control:checked~label.sk-toggleable__label {background-color: #d4ebff;}#sk-container-id-43 input.sk-hidden--visually {border: 0;clip: rect(1px 1px 1px 1px);clip: rect(1px, 1px, 1px, 1px);height: 1px;margin: -1px;overflow: hidden;padding: 0;position: absolute;width: 1px;}#sk-container-id-43 div.sk-estimator {font-family: monospace;background-color: #f0f8ff;border: 1px dotted black;border-radius: 0.25em;box-sizing: border-box;margin-bottom: 0.5em;}#sk-container-id-43 div.sk-estimator:hover {background-color: #d4ebff;}#sk-container-id-43 div.sk-parallel-item::after {content: \"\";width: 100%;border-bottom: 1px solid gray;flex-grow: 1;}#sk-container-id-43 div.sk-label:hover label.sk-toggleable__label {background-color: #d4ebff;}#sk-container-id-43 div.sk-serial::before {content: \"\";position: absolute;border-left: 1px solid gray;box-sizing: border-box;top: 0;bottom: 0;left: 50%;z-index: 0;}#sk-container-id-43 div.sk-serial {display: flex;flex-direction: column;align-items: center;background-color: white;padding-right: 0.2em;padding-left: 0.2em;position: relative;}#sk-container-id-43 div.sk-item {position: relative;z-index: 1;}#sk-container-id-43 div.sk-parallel {display: flex;align-items: stretch;justify-content: center;background-color: white;position: relative;}#sk-container-id-43 div.sk-item::before, #sk-container-id-43 div.sk-parallel-item::before {content: \"\";position: absolute;border-left: 1px solid gray;box-sizing: border-box;top: 0;bottom: 0;left: 50%;z-index: -1;}#sk-container-id-43 div.sk-parallel-item {display: flex;flex-direction: column;z-index: 1;position: relative;background-color: white;}#sk-container-id-43 div.sk-parallel-item:first-child::after {align-self: flex-end;width: 50%;}#sk-container-id-43 div.sk-parallel-item:last-child::after {align-self: flex-start;width: 50%;}#sk-container-id-43 div.sk-parallel-item:only-child::after {width: 0;}#sk-container-id-43 div.sk-dashed-wrapped {border: 1px dashed gray;margin: 0 0.4em 0.5em 0.4em;box-sizing: border-box;padding-bottom: 0.4em;background-color: white;}#sk-container-id-43 div.sk-label label {font-family: monospace;font-weight: bold;display: inline-block;line-height: 1.2em;}#sk-container-id-43 div.sk-label-container {text-align: center;}#sk-container-id-43 div.sk-container {/* jupyter's `normalize.less` sets `[hidden] { display: none; }` but bootstrap.min.css set `[hidden] { display: none !important; }` so we also need the `!important` here to be able to override the default hidden behavior on the sphinx rendered scikit-learn.org. See: https://github.com/scikit-learn/scikit-learn/issues/21755 */display: inline-block !important;position: relative;}#sk-container-id-43 div.sk-text-repr-fallback {display: none;}</style><div id=\"sk-container-id-43\" class=\"sk-top-container\"><div class=\"sk-text-repr-fallback\"><pre>LinearRegression()</pre><b>In a Jupyter environment, please rerun this cell to show the HTML representation or trust the notebook. <br />On GitHub, the HTML representation is unable to render, please try loading this page with nbviewer.org.</b></div><div class=\"sk-container\" hidden><div class=\"sk-item\"><div class=\"sk-estimator sk-toggleable\"><input class=\"sk-toggleable__control sk-hidden--visually\" id=\"sk-estimator-id-43\" type=\"checkbox\" checked><label for=\"sk-estimator-id-43\" class=\"sk-toggleable__label sk-toggleable__label-arrow\">LinearRegression</label><div class=\"sk-toggleable__content\"><pre>LinearRegression()</pre></div></div></div></div></div>"
      ],
      "text/plain": [
       "LinearRegression()"
      ]
     },
     "execution_count": 830,
     "metadata": {},
     "output_type": "execute_result"
    }
   ],
   "source": [
    "lr=LinearRegression()\n",
    "lr.fit(X_train,y_train)"
   ]
  },
  {
   "cell_type": "code",
   "execution_count": 831,
   "metadata": {
    "scrolled": true
   },
   "outputs": [
    {
     "data": {
      "text/html": [
       "<div>\n",
       "<style scoped>\n",
       "    .dataframe tbody tr th:only-of-type {\n",
       "        vertical-align: middle;\n",
       "    }\n",
       "\n",
       "    .dataframe tbody tr th {\n",
       "        vertical-align: top;\n",
       "    }\n",
       "\n",
       "    .dataframe thead th {\n",
       "        text-align: right;\n",
       "    }\n",
       "</style>\n",
       "<table border=\"1\" class=\"dataframe\">\n",
       "  <thead>\n",
       "    <tr style=\"text-align: right;\">\n",
       "      <th></th>\n",
       "      <th>1</th>\n",
       "    </tr>\n",
       "    <tr>\n",
       "      <th>0</th>\n",
       "      <th></th>\n",
       "    </tr>\n",
       "  </thead>\n",
       "  <tbody>\n",
       "    <tr>\n",
       "      <th>intercept</th>\n",
       "      <td>-0.0</td>\n",
       "    </tr>\n",
       "    <tr>\n",
       "      <th>LotArea</th>\n",
       "      <td>0.079</td>\n",
       "    </tr>\n",
       "    <tr>\n",
       "      <th>OverallQual</th>\n",
       "      <td>0.214395</td>\n",
       "    </tr>\n",
       "    <tr>\n",
       "      <th>OverallCond</th>\n",
       "      <td>0.096479</td>\n",
       "    </tr>\n",
       "    <tr>\n",
       "      <th>YearBuilt</th>\n",
       "      <td>0.160799</td>\n",
       "    </tr>\n",
       "    <tr>\n",
       "      <th>YearRemodAdd</th>\n",
       "      <td>0.025352</td>\n",
       "    </tr>\n",
       "    <tr>\n",
       "      <th>BsmtFinSF1</th>\n",
       "      <td>0.091466</td>\n",
       "    </tr>\n",
       "    <tr>\n",
       "      <th>BsmtUnfSF</th>\n",
       "      <td>-0.03308</td>\n",
       "    </tr>\n",
       "    <tr>\n",
       "      <th>TotalBsmtSF</th>\n",
       "      <td>0.138199</td>\n",
       "    </tr>\n",
       "    <tr>\n",
       "      <th>1stFlrSF</th>\n",
       "      <td>0.152786</td>\n",
       "    </tr>\n",
       "    <tr>\n",
       "      <th>2ndFlrSF</th>\n",
       "      <td>0.132765</td>\n",
       "    </tr>\n",
       "    <tr>\n",
       "      <th>GrLivArea</th>\n",
       "      <td>0.161303</td>\n",
       "    </tr>\n",
       "    <tr>\n",
       "      <th>FullBath</th>\n",
       "      <td>-0.020808</td>\n",
       "    </tr>\n",
       "    <tr>\n",
       "      <th>HalfBath</th>\n",
       "      <td>0.017194</td>\n",
       "    </tr>\n",
       "    <tr>\n",
       "      <th>BedroomAbvGr</th>\n",
       "      <td>-0.08352</td>\n",
       "    </tr>\n",
       "    <tr>\n",
       "      <th>TotRmsAbvGrd</th>\n",
       "      <td>0.08322</td>\n",
       "    </tr>\n",
       "    <tr>\n",
       "      <th>Fireplaces</th>\n",
       "      <td>0.028258</td>\n",
       "    </tr>\n",
       "    <tr>\n",
       "      <th>GarageCars</th>\n",
       "      <td>0.037997</td>\n",
       "    </tr>\n",
       "    <tr>\n",
       "      <th>GarageArea</th>\n",
       "      <td>0.051809</td>\n",
       "    </tr>\n",
       "    <tr>\n",
       "      <th>WoodDeckSF</th>\n",
       "      <td>0.020834</td>\n",
       "    </tr>\n",
       "    <tr>\n",
       "      <th>OpenPorchSF</th>\n",
       "      <td>0.034098</td>\n",
       "    </tr>\n",
       "    <tr>\n",
       "      <th>EnclosedPorch</th>\n",
       "      <td>0.006822</td>\n",
       "    </tr>\n",
       "    <tr>\n",
       "      <th>Blmngtn</th>\n",
       "      <td>-0.018431</td>\n",
       "    </tr>\n",
       "    <tr>\n",
       "      <th>Blueste</th>\n",
       "      <td>-0.012921</td>\n",
       "    </tr>\n",
       "    <tr>\n",
       "      <th>BrDale</th>\n",
       "      <td>-0.024626</td>\n",
       "    </tr>\n",
       "    <tr>\n",
       "      <th>BrkSide</th>\n",
       "      <td>0.020762</td>\n",
       "    </tr>\n",
       "    <tr>\n",
       "      <th>ClearCr</th>\n",
       "      <td>-0.007378</td>\n",
       "    </tr>\n",
       "    <tr>\n",
       "      <th>CollgCr</th>\n",
       "      <td>-0.006754</td>\n",
       "    </tr>\n",
       "    <tr>\n",
       "      <th>Crawfor</th>\n",
       "      <td>0.036323</td>\n",
       "    </tr>\n",
       "    <tr>\n",
       "      <th>Edwards</th>\n",
       "      <td>-0.00069</td>\n",
       "    </tr>\n",
       "    <tr>\n",
       "      <th>Gilbert</th>\n",
       "      <td>-0.00834</td>\n",
       "    </tr>\n",
       "    <tr>\n",
       "      <th>IDOTRR</th>\n",
       "      <td>-0.001537</td>\n",
       "    </tr>\n",
       "    <tr>\n",
       "      <th>MeadowV</th>\n",
       "      <td>-0.016418</td>\n",
       "    </tr>\n",
       "    <tr>\n",
       "      <th>Mitchel</th>\n",
       "      <td>-0.028482</td>\n",
       "    </tr>\n",
       "    <tr>\n",
       "      <th>Names</th>\n",
       "      <td>-0.038506</td>\n",
       "    </tr>\n",
       "    <tr>\n",
       "      <th>NoRidge</th>\n",
       "      <td>0.051563</td>\n",
       "    </tr>\n",
       "    <tr>\n",
       "      <th>NPkVill</th>\n",
       "      <td>-0.021952</td>\n",
       "    </tr>\n",
       "    <tr>\n",
       "      <th>NriddgHt</th>\n",
       "      <td>0.12399</td>\n",
       "    </tr>\n",
       "    <tr>\n",
       "      <th>NWAmes</th>\n",
       "      <td>-0.051759</td>\n",
       "    </tr>\n",
       "    <tr>\n",
       "      <th>OLDTown</th>\n",
       "      <td>-0.026499</td>\n",
       "    </tr>\n",
       "    <tr>\n",
       "      <th>SWISU</th>\n",
       "      <td>-0.004143</td>\n",
       "    </tr>\n",
       "    <tr>\n",
       "      <th>Sawyer</th>\n",
       "      <td>-0.018134</td>\n",
       "    </tr>\n",
       "    <tr>\n",
       "      <th>SawyerW</th>\n",
       "      <td>-0.028275</td>\n",
       "    </tr>\n",
       "    <tr>\n",
       "      <th>Somerst</th>\n",
       "      <td>0.027506</td>\n",
       "    </tr>\n",
       "    <tr>\n",
       "      <th>StoneBr</th>\n",
       "      <td>0.063059</td>\n",
       "    </tr>\n",
       "    <tr>\n",
       "      <th>Timber</th>\n",
       "      <td>-0.002762</td>\n",
       "    </tr>\n",
       "    <tr>\n",
       "      <th>Veenker</th>\n",
       "      <td>0.002403</td>\n",
       "    </tr>\n",
       "    <tr>\n",
       "      <th>Bsmt Qual</th>\n",
       "      <td>0.011311</td>\n",
       "    </tr>\n",
       "  </tbody>\n",
       "</table>\n",
       "</div>"
      ],
      "text/plain": [
       "                      1\n",
       "0                      \n",
       "intercept          -0.0\n",
       "LotArea           0.079\n",
       "OverallQual    0.214395\n",
       "OverallCond    0.096479\n",
       "YearBuilt      0.160799\n",
       "YearRemodAdd   0.025352\n",
       "BsmtFinSF1     0.091466\n",
       "BsmtUnfSF      -0.03308\n",
       "TotalBsmtSF    0.138199\n",
       "1stFlrSF       0.152786\n",
       "2ndFlrSF       0.132765\n",
       "GrLivArea      0.161303\n",
       "FullBath      -0.020808\n",
       "HalfBath       0.017194\n",
       "BedroomAbvGr   -0.08352\n",
       "TotRmsAbvGrd    0.08322\n",
       "Fireplaces     0.028258\n",
       "GarageCars     0.037997\n",
       "GarageArea     0.051809\n",
       "WoodDeckSF     0.020834\n",
       "OpenPorchSF    0.034098\n",
       "EnclosedPorch  0.006822\n",
       "Blmngtn       -0.018431\n",
       "Blueste       -0.012921\n",
       "BrDale        -0.024626\n",
       "BrkSide        0.020762\n",
       "ClearCr       -0.007378\n",
       "CollgCr       -0.006754\n",
       "Crawfor        0.036323\n",
       "Edwards        -0.00069\n",
       "Gilbert        -0.00834\n",
       "IDOTRR        -0.001537\n",
       "MeadowV       -0.016418\n",
       "Mitchel       -0.028482\n",
       "Names         -0.038506\n",
       "NoRidge        0.051563\n",
       "NPkVill       -0.021952\n",
       "NriddgHt        0.12399\n",
       "NWAmes        -0.051759\n",
       "OLDTown       -0.026499\n",
       "SWISU         -0.004143\n",
       "Sawyer        -0.018134\n",
       "SawyerW       -0.028275\n",
       "Somerst        0.027506\n",
       "StoneBr        0.063059\n",
       "Timber        -0.002762\n",
       "Veenker        0.002403\n",
       "Bsmt Qual      0.011311"
      ]
     },
     "execution_count": 831,
     "metadata": {},
     "output_type": "execute_result"
    }
   ],
   "source": [
    "# Create dataFrame with corresponding feature and its respective coefficients\n",
    "coeffs = pd.DataFrame(\n",
    "    [\n",
    "        ['intercept'] + list(X_train.columns),\n",
    "        list(lr.intercept_) + list(lr.coef_[0])\n",
    "    ]\n",
    ").transpose().set_index(0)\n",
    "coeffs"
   ]
  },
  {
   "cell_type": "markdown",
   "metadata": {},
   "source": [
    "**1**"
   ]
  },
  {
   "cell_type": "code",
   "execution_count": null,
   "metadata": {},
   "outputs": [],
   "source": []
  },
  {
   "cell_type": "code",
   "execution_count": 832,
   "metadata": {},
   "outputs": [
    {
     "data": {
      "text/html": [
       "<style>#sk-container-id-44 {color: black;background-color: white;}#sk-container-id-44 pre{padding: 0;}#sk-container-id-44 div.sk-toggleable {background-color: white;}#sk-container-id-44 label.sk-toggleable__label {cursor: pointer;display: block;width: 100%;margin-bottom: 0;padding: 0.3em;box-sizing: border-box;text-align: center;}#sk-container-id-44 label.sk-toggleable__label-arrow:before {content: \"▸\";float: left;margin-right: 0.25em;color: #696969;}#sk-container-id-44 label.sk-toggleable__label-arrow:hover:before {color: black;}#sk-container-id-44 div.sk-estimator:hover label.sk-toggleable__label-arrow:before {color: black;}#sk-container-id-44 div.sk-toggleable__content {max-height: 0;max-width: 0;overflow: hidden;text-align: left;background-color: #f0f8ff;}#sk-container-id-44 div.sk-toggleable__content pre {margin: 0.2em;color: black;border-radius: 0.25em;background-color: #f0f8ff;}#sk-container-id-44 input.sk-toggleable__control:checked~div.sk-toggleable__content {max-height: 200px;max-width: 100%;overflow: auto;}#sk-container-id-44 input.sk-toggleable__control:checked~label.sk-toggleable__label-arrow:before {content: \"▾\";}#sk-container-id-44 div.sk-estimator input.sk-toggleable__control:checked~label.sk-toggleable__label {background-color: #d4ebff;}#sk-container-id-44 div.sk-label input.sk-toggleable__control:checked~label.sk-toggleable__label {background-color: #d4ebff;}#sk-container-id-44 input.sk-hidden--visually {border: 0;clip: rect(1px 1px 1px 1px);clip: rect(1px, 1px, 1px, 1px);height: 1px;margin: -1px;overflow: hidden;padding: 0;position: absolute;width: 1px;}#sk-container-id-44 div.sk-estimator {font-family: monospace;background-color: #f0f8ff;border: 1px dotted black;border-radius: 0.25em;box-sizing: border-box;margin-bottom: 0.5em;}#sk-container-id-44 div.sk-estimator:hover {background-color: #d4ebff;}#sk-container-id-44 div.sk-parallel-item::after {content: \"\";width: 100%;border-bottom: 1px solid gray;flex-grow: 1;}#sk-container-id-44 div.sk-label:hover label.sk-toggleable__label {background-color: #d4ebff;}#sk-container-id-44 div.sk-serial::before {content: \"\";position: absolute;border-left: 1px solid gray;box-sizing: border-box;top: 0;bottom: 0;left: 50%;z-index: 0;}#sk-container-id-44 div.sk-serial {display: flex;flex-direction: column;align-items: center;background-color: white;padding-right: 0.2em;padding-left: 0.2em;position: relative;}#sk-container-id-44 div.sk-item {position: relative;z-index: 1;}#sk-container-id-44 div.sk-parallel {display: flex;align-items: stretch;justify-content: center;background-color: white;position: relative;}#sk-container-id-44 div.sk-item::before, #sk-container-id-44 div.sk-parallel-item::before {content: \"\";position: absolute;border-left: 1px solid gray;box-sizing: border-box;top: 0;bottom: 0;left: 50%;z-index: -1;}#sk-container-id-44 div.sk-parallel-item {display: flex;flex-direction: column;z-index: 1;position: relative;background-color: white;}#sk-container-id-44 div.sk-parallel-item:first-child::after {align-self: flex-end;width: 50%;}#sk-container-id-44 div.sk-parallel-item:last-child::after {align-self: flex-start;width: 50%;}#sk-container-id-44 div.sk-parallel-item:only-child::after {width: 0;}#sk-container-id-44 div.sk-dashed-wrapped {border: 1px dashed gray;margin: 0 0.4em 0.5em 0.4em;box-sizing: border-box;padding-bottom: 0.4em;background-color: white;}#sk-container-id-44 div.sk-label label {font-family: monospace;font-weight: bold;display: inline-block;line-height: 1.2em;}#sk-container-id-44 div.sk-label-container {text-align: center;}#sk-container-id-44 div.sk-container {/* jupyter's `normalize.less` sets `[hidden] { display: none; }` but bootstrap.min.css set `[hidden] { display: none !important; }` so we also need the `!important` here to be able to override the default hidden behavior on the sphinx rendered scikit-learn.org. See: https://github.com/scikit-learn/scikit-learn/issues/21755 */display: inline-block !important;position: relative;}#sk-container-id-44 div.sk-text-repr-fallback {display: none;}</style><div id=\"sk-container-id-44\" class=\"sk-top-container\"><div class=\"sk-text-repr-fallback\"><pre>LinearRegression()</pre><b>In a Jupyter environment, please rerun this cell to show the HTML representation or trust the notebook. <br />On GitHub, the HTML representation is unable to render, please try loading this page with nbviewer.org.</b></div><div class=\"sk-container\" hidden><div class=\"sk-item\"><div class=\"sk-estimator sk-toggleable\"><input class=\"sk-toggleable__control sk-hidden--visually\" id=\"sk-estimator-id-44\" type=\"checkbox\" checked><label for=\"sk-estimator-id-44\" class=\"sk-toggleable__label sk-toggleable__label-arrow\">LinearRegression</label><div class=\"sk-toggleable__content\"><pre>LinearRegression()</pre></div></div></div></div></div>"
      ],
      "text/plain": [
       "LinearRegression()"
      ]
     },
     "execution_count": 832,
     "metadata": {},
     "output_type": "execute_result"
    }
   ],
   "source": [
    "lr_m=LinearRegression()\n",
    "lr_m.fit(X_train_m,y_train_m)"
   ]
  },
  {
   "cell_type": "code",
   "execution_count": 833,
   "metadata": {
    "scrolled": true
   },
   "outputs": [
    {
     "data": {
      "text/html": [
       "<div>\n",
       "<style scoped>\n",
       "    .dataframe tbody tr th:only-of-type {\n",
       "        vertical-align: middle;\n",
       "    }\n",
       "\n",
       "    .dataframe tbody tr th {\n",
       "        vertical-align: top;\n",
       "    }\n",
       "\n",
       "    .dataframe thead th {\n",
       "        text-align: right;\n",
       "    }\n",
       "</style>\n",
       "<table border=\"1\" class=\"dataframe\">\n",
       "  <thead>\n",
       "    <tr style=\"text-align: right;\">\n",
       "      <th></th>\n",
       "      <th>1</th>\n",
       "    </tr>\n",
       "    <tr>\n",
       "      <th>0</th>\n",
       "      <th></th>\n",
       "    </tr>\n",
       "  </thead>\n",
       "  <tbody>\n",
       "    <tr>\n",
       "      <th>intercept</th>\n",
       "      <td>69.586767</td>\n",
       "    </tr>\n",
       "    <tr>\n",
       "      <th>LotArea</th>\n",
       "      <td>0.11051</td>\n",
       "    </tr>\n",
       "    <tr>\n",
       "      <th>OverallQual</th>\n",
       "      <td>0.204878</td>\n",
       "    </tr>\n",
       "    <tr>\n",
       "      <th>OverallCond</th>\n",
       "      <td>0.101786</td>\n",
       "    </tr>\n",
       "    <tr>\n",
       "      <th>YearBuilt</th>\n",
       "      <td>0.17083</td>\n",
       "    </tr>\n",
       "    <tr>\n",
       "      <th>YearRemodAdd</th>\n",
       "      <td>0.026167</td>\n",
       "    </tr>\n",
       "    <tr>\n",
       "      <th>BsmtFinSF1</th>\n",
       "      <td>0.102766</td>\n",
       "    </tr>\n",
       "    <tr>\n",
       "      <th>BsmtUnfSF</th>\n",
       "      <td>-0.030145</td>\n",
       "    </tr>\n",
       "    <tr>\n",
       "      <th>TotalBsmtSF</th>\n",
       "      <td>0.121857</td>\n",
       "    </tr>\n",
       "    <tr>\n",
       "      <th>1stFlrSF</th>\n",
       "      <td>0.150521</td>\n",
       "    </tr>\n",
       "    <tr>\n",
       "      <th>2ndFlrSF</th>\n",
       "      <td>0.126214</td>\n",
       "    </tr>\n",
       "    <tr>\n",
       "      <th>GrLivArea</th>\n",
       "      <td>0.17808</td>\n",
       "    </tr>\n",
       "    <tr>\n",
       "      <th>FullBath</th>\n",
       "      <td>-0.004651</td>\n",
       "    </tr>\n",
       "    <tr>\n",
       "      <th>HalfBath</th>\n",
       "      <td>0.027208</td>\n",
       "    </tr>\n",
       "    <tr>\n",
       "      <th>BedroomAbvGr</th>\n",
       "      <td>-0.090956</td>\n",
       "    </tr>\n",
       "    <tr>\n",
       "      <th>TotRmsAbvGrd</th>\n",
       "      <td>0.060115</td>\n",
       "    </tr>\n",
       "    <tr>\n",
       "      <th>Fireplaces</th>\n",
       "      <td>0.027355</td>\n",
       "    </tr>\n",
       "    <tr>\n",
       "      <th>GarageCars</th>\n",
       "      <td>0.040752</td>\n",
       "    </tr>\n",
       "    <tr>\n",
       "      <th>GarageArea</th>\n",
       "      <td>0.042961</td>\n",
       "    </tr>\n",
       "    <tr>\n",
       "      <th>WoodDeckSF</th>\n",
       "      <td>0.023108</td>\n",
       "    </tr>\n",
       "    <tr>\n",
       "      <th>OpenPorchSF</th>\n",
       "      <td>0.034194</td>\n",
       "    </tr>\n",
       "    <tr>\n",
       "      <th>EnclosedPorch</th>\n",
       "      <td>0.009117</td>\n",
       "    </tr>\n",
       "    <tr>\n",
       "      <th>Blmngtn</th>\n",
       "      <td>80898501947.5466</td>\n",
       "    </tr>\n",
       "    <tr>\n",
       "      <th>Blueste</th>\n",
       "      <td>37274762169.173378</td>\n",
       "    </tr>\n",
       "    <tr>\n",
       "      <th>BrDale</th>\n",
       "      <td>82976806889.488556</td>\n",
       "    </tr>\n",
       "    <tr>\n",
       "      <th>BrkSide</th>\n",
       "      <td>149854021444.654663</td>\n",
       "    </tr>\n",
       "    <tr>\n",
       "      <th>ClearCr</th>\n",
       "      <td>104603890847.640106</td>\n",
       "    </tr>\n",
       "    <tr>\n",
       "      <th>CollgCr</th>\n",
       "      <td>223999391840.990417</td>\n",
       "    </tr>\n",
       "    <tr>\n",
       "      <th>Crawfor</th>\n",
       "      <td>136241927656.132324</td>\n",
       "    </tr>\n",
       "    <tr>\n",
       "      <th>Edwards</th>\n",
       "      <td>189614442844.806427</td>\n",
       "    </tr>\n",
       "    <tr>\n",
       "      <th>Gilbert</th>\n",
       "      <td>188806426304.857483</td>\n",
       "    </tr>\n",
       "    <tr>\n",
       "      <th>IDOTRR</th>\n",
       "      <td>116685810979.275452</td>\n",
       "    </tr>\n",
       "    <tr>\n",
       "      <th>MeadowV</th>\n",
       "      <td>85002038453.748306</td>\n",
       "    </tr>\n",
       "    <tr>\n",
       "      <th>Mitchel</th>\n",
       "      <td>144361853721.027832</td>\n",
       "    </tr>\n",
       "    <tr>\n",
       "      <th>Names</th>\n",
       "      <td>294616902836.752502</td>\n",
       "    </tr>\n",
       "    <tr>\n",
       "      <th>NoRidge</th>\n",
       "      <td>126232622940.641083</td>\n",
       "    </tr>\n",
       "    <tr>\n",
       "      <th>NPkVill</th>\n",
       "      <td>76565275891.194595</td>\n",
       "    </tr>\n",
       "    <tr>\n",
       "      <th>NriddgHt</th>\n",
       "      <td>187176829728.086243</td>\n",
       "    </tr>\n",
       "    <tr>\n",
       "      <th>NWAmes</th>\n",
       "      <td>173429689665.038696</td>\n",
       "    </tr>\n",
       "    <tr>\n",
       "      <th>OLDTown</th>\n",
       "      <td>209912416135.633606</td>\n",
       "    </tr>\n",
       "    <tr>\n",
       "      <th>SWISU</th>\n",
       "      <td>106195707835.452545</td>\n",
       "    </tr>\n",
       "    <tr>\n",
       "      <th>Sawyer</th>\n",
       "      <td>169773548898.74588</td>\n",
       "    </tr>\n",
       "    <tr>\n",
       "      <th>SawyerW</th>\n",
       "      <td>162156999681.010132</td>\n",
       "    </tr>\n",
       "    <tr>\n",
       "      <th>Somerst</th>\n",
       "      <td>198221041010.522461</td>\n",
       "    </tr>\n",
       "    <tr>\n",
       "      <th>StoneBr</th>\n",
       "      <td>99664386776.075226</td>\n",
       "    </tr>\n",
       "    <tr>\n",
       "      <th>Timber</th>\n",
       "      <td>118101813793.801956</td>\n",
       "    </tr>\n",
       "    <tr>\n",
       "      <th>Veenker</th>\n",
       "      <td>71960878894.010742</td>\n",
       "    </tr>\n",
       "    <tr>\n",
       "      <th>Bsmt Qual</th>\n",
       "      <td>0.015233</td>\n",
       "    </tr>\n",
       "    <tr>\n",
       "      <th>streetft</th>\n",
       "      <td>0.050428</td>\n",
       "    </tr>\n",
       "  </tbody>\n",
       "</table>\n",
       "</div>"
      ],
      "text/plain": [
       "                                 1\n",
       "0                                 \n",
       "intercept                69.586767\n",
       "LotArea                    0.11051\n",
       "OverallQual               0.204878\n",
       "OverallCond               0.101786\n",
       "YearBuilt                  0.17083\n",
       "YearRemodAdd              0.026167\n",
       "BsmtFinSF1                0.102766\n",
       "BsmtUnfSF                -0.030145\n",
       "TotalBsmtSF               0.121857\n",
       "1stFlrSF                  0.150521\n",
       "2ndFlrSF                  0.126214\n",
       "GrLivArea                  0.17808\n",
       "FullBath                 -0.004651\n",
       "HalfBath                  0.027208\n",
       "BedroomAbvGr             -0.090956\n",
       "TotRmsAbvGrd              0.060115\n",
       "Fireplaces                0.027355\n",
       "GarageCars                0.040752\n",
       "GarageArea                0.042961\n",
       "WoodDeckSF                0.023108\n",
       "OpenPorchSF               0.034194\n",
       "EnclosedPorch             0.009117\n",
       "Blmngtn           80898501947.5466\n",
       "Blueste         37274762169.173378\n",
       "BrDale          82976806889.488556\n",
       "BrkSide        149854021444.654663\n",
       "ClearCr        104603890847.640106\n",
       "CollgCr        223999391840.990417\n",
       "Crawfor        136241927656.132324\n",
       "Edwards        189614442844.806427\n",
       "Gilbert        188806426304.857483\n",
       "IDOTRR         116685810979.275452\n",
       "MeadowV         85002038453.748306\n",
       "Mitchel        144361853721.027832\n",
       "Names          294616902836.752502\n",
       "NoRidge        126232622940.641083\n",
       "NPkVill         76565275891.194595\n",
       "NriddgHt       187176829728.086243\n",
       "NWAmes         173429689665.038696\n",
       "OLDTown        209912416135.633606\n",
       "SWISU          106195707835.452545\n",
       "Sawyer          169773548898.74588\n",
       "SawyerW        162156999681.010132\n",
       "Somerst        198221041010.522461\n",
       "StoneBr         99664386776.075226\n",
       "Timber         118101813793.801956\n",
       "Veenker         71960878894.010742\n",
       "Bsmt Qual                 0.015233\n",
       "streetft                  0.050428"
      ]
     },
     "execution_count": 833,
     "metadata": {},
     "output_type": "execute_result"
    }
   ],
   "source": [
    "coeffs_m = pd.DataFrame(\n",
    "    [\n",
    "        ['intercept'] + list(X_train_m.columns),\n",
    "        list(lr_m.intercept_) + list(lr_m.coef_[0])\n",
    "    ]\n",
    ").transpose().set_index(0)\n",
    "coeffs_m"
   ]
  },
  {
   "cell_type": "code",
   "execution_count": 834,
   "metadata": {},
   "outputs": [
    {
     "data": {
      "text/plain": [
       "0.894422005959208"
      ]
     },
     "execution_count": 834,
     "metadata": {},
     "output_type": "execute_result"
    }
   ],
   "source": [
    "lr_m.score(X_train_m,y_train_m)"
   ]
  },
  {
   "cell_type": "code",
   "execution_count": 835,
   "metadata": {},
   "outputs": [
    {
     "name": "stdout",
     "output_type": "stream",
     "text": [
      "[0.86053543]\n",
      "[247513.66971281]\n"
     ]
    }
   ],
   "source": [
    "ypred_m = lr_m.predict(X_test_m)\n",
    "print(ypred_m[0])\n",
    "print((ypred_m[0]*data_1['SalePrice'].std())+data_1['SalePrice'].mean())"
   ]
  },
  {
   "cell_type": "markdown",
   "metadata": {},
   "source": [
    "**2**"
   ]
  },
  {
   "cell_type": "code",
   "execution_count": 836,
   "metadata": {},
   "outputs": [
    {
     "data": {
      "text/html": [
       "<style>#sk-container-id-45 {color: black;background-color: white;}#sk-container-id-45 pre{padding: 0;}#sk-container-id-45 div.sk-toggleable {background-color: white;}#sk-container-id-45 label.sk-toggleable__label {cursor: pointer;display: block;width: 100%;margin-bottom: 0;padding: 0.3em;box-sizing: border-box;text-align: center;}#sk-container-id-45 label.sk-toggleable__label-arrow:before {content: \"▸\";float: left;margin-right: 0.25em;color: #696969;}#sk-container-id-45 label.sk-toggleable__label-arrow:hover:before {color: black;}#sk-container-id-45 div.sk-estimator:hover label.sk-toggleable__label-arrow:before {color: black;}#sk-container-id-45 div.sk-toggleable__content {max-height: 0;max-width: 0;overflow: hidden;text-align: left;background-color: #f0f8ff;}#sk-container-id-45 div.sk-toggleable__content pre {margin: 0.2em;color: black;border-radius: 0.25em;background-color: #f0f8ff;}#sk-container-id-45 input.sk-toggleable__control:checked~div.sk-toggleable__content {max-height: 200px;max-width: 100%;overflow: auto;}#sk-container-id-45 input.sk-toggleable__control:checked~label.sk-toggleable__label-arrow:before {content: \"▾\";}#sk-container-id-45 div.sk-estimator input.sk-toggleable__control:checked~label.sk-toggleable__label {background-color: #d4ebff;}#sk-container-id-45 div.sk-label input.sk-toggleable__control:checked~label.sk-toggleable__label {background-color: #d4ebff;}#sk-container-id-45 input.sk-hidden--visually {border: 0;clip: rect(1px 1px 1px 1px);clip: rect(1px, 1px, 1px, 1px);height: 1px;margin: -1px;overflow: hidden;padding: 0;position: absolute;width: 1px;}#sk-container-id-45 div.sk-estimator {font-family: monospace;background-color: #f0f8ff;border: 1px dotted black;border-radius: 0.25em;box-sizing: border-box;margin-bottom: 0.5em;}#sk-container-id-45 div.sk-estimator:hover {background-color: #d4ebff;}#sk-container-id-45 div.sk-parallel-item::after {content: \"\";width: 100%;border-bottom: 1px solid gray;flex-grow: 1;}#sk-container-id-45 div.sk-label:hover label.sk-toggleable__label {background-color: #d4ebff;}#sk-container-id-45 div.sk-serial::before {content: \"\";position: absolute;border-left: 1px solid gray;box-sizing: border-box;top: 0;bottom: 0;left: 50%;z-index: 0;}#sk-container-id-45 div.sk-serial {display: flex;flex-direction: column;align-items: center;background-color: white;padding-right: 0.2em;padding-left: 0.2em;position: relative;}#sk-container-id-45 div.sk-item {position: relative;z-index: 1;}#sk-container-id-45 div.sk-parallel {display: flex;align-items: stretch;justify-content: center;background-color: white;position: relative;}#sk-container-id-45 div.sk-item::before, #sk-container-id-45 div.sk-parallel-item::before {content: \"\";position: absolute;border-left: 1px solid gray;box-sizing: border-box;top: 0;bottom: 0;left: 50%;z-index: -1;}#sk-container-id-45 div.sk-parallel-item {display: flex;flex-direction: column;z-index: 1;position: relative;background-color: white;}#sk-container-id-45 div.sk-parallel-item:first-child::after {align-self: flex-end;width: 50%;}#sk-container-id-45 div.sk-parallel-item:last-child::after {align-self: flex-start;width: 50%;}#sk-container-id-45 div.sk-parallel-item:only-child::after {width: 0;}#sk-container-id-45 div.sk-dashed-wrapped {border: 1px dashed gray;margin: 0 0.4em 0.5em 0.4em;box-sizing: border-box;padding-bottom: 0.4em;background-color: white;}#sk-container-id-45 div.sk-label label {font-family: monospace;font-weight: bold;display: inline-block;line-height: 1.2em;}#sk-container-id-45 div.sk-label-container {text-align: center;}#sk-container-id-45 div.sk-container {/* jupyter's `normalize.less` sets `[hidden] { display: none; }` but bootstrap.min.css set `[hidden] { display: none !important; }` so we also need the `!important` here to be able to override the default hidden behavior on the sphinx rendered scikit-learn.org. See: https://github.com/scikit-learn/scikit-learn/issues/21755 */display: inline-block !important;position: relative;}#sk-container-id-45 div.sk-text-repr-fallback {display: none;}</style><div id=\"sk-container-id-45\" class=\"sk-top-container\"><div class=\"sk-text-repr-fallback\"><pre>LinearRegression()</pre><b>In a Jupyter environment, please rerun this cell to show the HTML representation or trust the notebook. <br />On GitHub, the HTML representation is unable to render, please try loading this page with nbviewer.org.</b></div><div class=\"sk-container\" hidden><div class=\"sk-item\"><div class=\"sk-estimator sk-toggleable\"><input class=\"sk-toggleable__control sk-hidden--visually\" id=\"sk-estimator-id-45\" type=\"checkbox\" checked><label for=\"sk-estimator-id-45\" class=\"sk-toggleable__label sk-toggleable__label-arrow\">LinearRegression</label><div class=\"sk-toggleable__content\"><pre>LinearRegression()</pre></div></div></div></div></div>"
      ],
      "text/plain": [
       "LinearRegression()"
      ]
     },
     "execution_count": 836,
     "metadata": {},
     "output_type": "execute_result"
    }
   ],
   "source": [
    "lr_av=LinearRegression()\n",
    "lr_av.fit(X_train_av,y_train_av)"
   ]
  },
  {
   "cell_type": "code",
   "execution_count": 837,
   "metadata": {
    "scrolled": true
   },
   "outputs": [
    {
     "data": {
      "text/html": [
       "<div>\n",
       "<style scoped>\n",
       "    .dataframe tbody tr th:only-of-type {\n",
       "        vertical-align: middle;\n",
       "    }\n",
       "\n",
       "    .dataframe tbody tr th {\n",
       "        vertical-align: top;\n",
       "    }\n",
       "\n",
       "    .dataframe thead th {\n",
       "        text-align: right;\n",
       "    }\n",
       "</style>\n",
       "<table border=\"1\" class=\"dataframe\">\n",
       "  <thead>\n",
       "    <tr style=\"text-align: right;\">\n",
       "      <th></th>\n",
       "      <th>1</th>\n",
       "    </tr>\n",
       "    <tr>\n",
       "      <th>0</th>\n",
       "      <th></th>\n",
       "    </tr>\n",
       "  </thead>\n",
       "  <tbody>\n",
       "    <tr>\n",
       "      <th>intercept</th>\n",
       "      <td>-0.000759</td>\n",
       "    </tr>\n",
       "    <tr>\n",
       "      <th>LotArea</th>\n",
       "      <td>0.071456</td>\n",
       "    </tr>\n",
       "    <tr>\n",
       "      <th>OverallQual</th>\n",
       "      <td>0.21279</td>\n",
       "    </tr>\n",
       "    <tr>\n",
       "      <th>OverallCond</th>\n",
       "      <td>0.097333</td>\n",
       "    </tr>\n",
       "    <tr>\n",
       "      <th>YearBuilt</th>\n",
       "      <td>0.16581</td>\n",
       "    </tr>\n",
       "    <tr>\n",
       "      <th>YearRemodAdd</th>\n",
       "      <td>0.027193</td>\n",
       "    </tr>\n",
       "    <tr>\n",
       "      <th>BsmtFinSF1</th>\n",
       "      <td>0.09174</td>\n",
       "    </tr>\n",
       "    <tr>\n",
       "      <th>BsmtUnfSF</th>\n",
       "      <td>-0.033845</td>\n",
       "    </tr>\n",
       "    <tr>\n",
       "      <th>TotalBsmtSF</th>\n",
       "      <td>0.141118</td>\n",
       "    </tr>\n",
       "    <tr>\n",
       "      <th>1stFlrSF</th>\n",
       "      <td>0.15067</td>\n",
       "    </tr>\n",
       "    <tr>\n",
       "      <th>2ndFlrSF</th>\n",
       "      <td>0.143955</td>\n",
       "    </tr>\n",
       "    <tr>\n",
       "      <th>GrLivArea</th>\n",
       "      <td>0.152799</td>\n",
       "    </tr>\n",
       "    <tr>\n",
       "      <th>FullBath</th>\n",
       "      <td>-0.017083</td>\n",
       "    </tr>\n",
       "    <tr>\n",
       "      <th>HalfBath</th>\n",
       "      <td>0.017309</td>\n",
       "    </tr>\n",
       "    <tr>\n",
       "      <th>BedroomAbvGr</th>\n",
       "      <td>-0.089467</td>\n",
       "    </tr>\n",
       "    <tr>\n",
       "      <th>TotRmsAbvGrd</th>\n",
       "      <td>0.076674</td>\n",
       "    </tr>\n",
       "    <tr>\n",
       "      <th>Fireplaces</th>\n",
       "      <td>0.027384</td>\n",
       "    </tr>\n",
       "    <tr>\n",
       "      <th>GarageCars</th>\n",
       "      <td>0.038256</td>\n",
       "    </tr>\n",
       "    <tr>\n",
       "      <th>GarageArea</th>\n",
       "      <td>0.043407</td>\n",
       "    </tr>\n",
       "    <tr>\n",
       "      <th>WoodDeckSF</th>\n",
       "      <td>0.022872</td>\n",
       "    </tr>\n",
       "    <tr>\n",
       "      <th>OpenPorchSF</th>\n",
       "      <td>0.033387</td>\n",
       "    </tr>\n",
       "    <tr>\n",
       "      <th>EnclosedPorch</th>\n",
       "      <td>0.004454</td>\n",
       "    </tr>\n",
       "    <tr>\n",
       "      <th>Blmngtn</th>\n",
       "      <td>-0.014515</td>\n",
       "    </tr>\n",
       "    <tr>\n",
       "      <th>Blueste</th>\n",
       "      <td>-0.009029</td>\n",
       "    </tr>\n",
       "    <tr>\n",
       "      <th>BrDale</th>\n",
       "      <td>-0.014863</td>\n",
       "    </tr>\n",
       "    <tr>\n",
       "      <th>BrkSide</th>\n",
       "      <td>0.024576</td>\n",
       "    </tr>\n",
       "    <tr>\n",
       "      <th>ClearCr</th>\n",
       "      <td>-0.007289</td>\n",
       "    </tr>\n",
       "    <tr>\n",
       "      <th>CollgCr</th>\n",
       "      <td>-0.009317</td>\n",
       "    </tr>\n",
       "    <tr>\n",
       "      <th>Crawfor</th>\n",
       "      <td>0.037196</td>\n",
       "    </tr>\n",
       "    <tr>\n",
       "      <th>Edwards</th>\n",
       "      <td>-0.000271</td>\n",
       "    </tr>\n",
       "    <tr>\n",
       "      <th>Gilbert</th>\n",
       "      <td>-0.013347</td>\n",
       "    </tr>\n",
       "    <tr>\n",
       "      <th>IDOTRR</th>\n",
       "      <td>0.000124</td>\n",
       "    </tr>\n",
       "    <tr>\n",
       "      <th>MeadowV</th>\n",
       "      <td>-0.009026</td>\n",
       "    </tr>\n",
       "    <tr>\n",
       "      <th>Mitchel</th>\n",
       "      <td>-0.02925</td>\n",
       "    </tr>\n",
       "    <tr>\n",
       "      <th>Names</th>\n",
       "      <td>-0.043694</td>\n",
       "    </tr>\n",
       "    <tr>\n",
       "      <th>NoRidge</th>\n",
       "      <td>0.048269</td>\n",
       "    </tr>\n",
       "    <tr>\n",
       "      <th>NPkVill</th>\n",
       "      <td>-0.014525</td>\n",
       "    </tr>\n",
       "    <tr>\n",
       "      <th>NriddgHt</th>\n",
       "      <td>0.119727</td>\n",
       "    </tr>\n",
       "    <tr>\n",
       "      <th>NWAmes</th>\n",
       "      <td>-0.053772</td>\n",
       "    </tr>\n",
       "    <tr>\n",
       "      <th>OLDTown</th>\n",
       "      <td>-0.022225</td>\n",
       "    </tr>\n",
       "    <tr>\n",
       "      <th>SWISU</th>\n",
       "      <td>-0.000568</td>\n",
       "    </tr>\n",
       "    <tr>\n",
       "      <th>Sawyer</th>\n",
       "      <td>-0.020449</td>\n",
       "    </tr>\n",
       "    <tr>\n",
       "      <th>SawyerW</th>\n",
       "      <td>-0.029709</td>\n",
       "    </tr>\n",
       "    <tr>\n",
       "      <th>Somerst</th>\n",
       "      <td>0.028911</td>\n",
       "    </tr>\n",
       "    <tr>\n",
       "      <th>StoneBr</th>\n",
       "      <td>0.066387</td>\n",
       "    </tr>\n",
       "    <tr>\n",
       "      <th>Timber</th>\n",
       "      <td>-0.003146</td>\n",
       "    </tr>\n",
       "    <tr>\n",
       "      <th>Veenker</th>\n",
       "      <td>0.00329</td>\n",
       "    </tr>\n",
       "    <tr>\n",
       "      <th>Bsmt Qual</th>\n",
       "      <td>0.007504</td>\n",
       "    </tr>\n",
       "    <tr>\n",
       "      <th>streetft</th>\n",
       "      <td>0.055013</td>\n",
       "    </tr>\n",
       "  </tbody>\n",
       "</table>\n",
       "</div>"
      ],
      "text/plain": [
       "                      1\n",
       "0                      \n",
       "intercept     -0.000759\n",
       "LotArea        0.071456\n",
       "OverallQual     0.21279\n",
       "OverallCond    0.097333\n",
       "YearBuilt       0.16581\n",
       "YearRemodAdd   0.027193\n",
       "BsmtFinSF1      0.09174\n",
       "BsmtUnfSF     -0.033845\n",
       "TotalBsmtSF    0.141118\n",
       "1stFlrSF        0.15067\n",
       "2ndFlrSF       0.143955\n",
       "GrLivArea      0.152799\n",
       "FullBath      -0.017083\n",
       "HalfBath       0.017309\n",
       "BedroomAbvGr  -0.089467\n",
       "TotRmsAbvGrd   0.076674\n",
       "Fireplaces     0.027384\n",
       "GarageCars     0.038256\n",
       "GarageArea     0.043407\n",
       "WoodDeckSF     0.022872\n",
       "OpenPorchSF    0.033387\n",
       "EnclosedPorch  0.004454\n",
       "Blmngtn       -0.014515\n",
       "Blueste       -0.009029\n",
       "BrDale        -0.014863\n",
       "BrkSide        0.024576\n",
       "ClearCr       -0.007289\n",
       "CollgCr       -0.009317\n",
       "Crawfor        0.037196\n",
       "Edwards       -0.000271\n",
       "Gilbert       -0.013347\n",
       "IDOTRR         0.000124\n",
       "MeadowV       -0.009026\n",
       "Mitchel        -0.02925\n",
       "Names         -0.043694\n",
       "NoRidge        0.048269\n",
       "NPkVill       -0.014525\n",
       "NriddgHt       0.119727\n",
       "NWAmes        -0.053772\n",
       "OLDTown       -0.022225\n",
       "SWISU         -0.000568\n",
       "Sawyer        -0.020449\n",
       "SawyerW       -0.029709\n",
       "Somerst        0.028911\n",
       "StoneBr        0.066387\n",
       "Timber        -0.003146\n",
       "Veenker         0.00329\n",
       "Bsmt Qual      0.007504\n",
       "streetft       0.055013"
      ]
     },
     "execution_count": 837,
     "metadata": {},
     "output_type": "execute_result"
    }
   ],
   "source": [
    "coeffs_av = pd.DataFrame(\n",
    "    [\n",
    "        ['intercept'] + list(X_train_av.columns),\n",
    "        list(lr_av.intercept_) + list(lr_av.coef_[0])\n",
    "    ]\n",
    ").transpose().set_index(0)\n",
    "coeffs_av"
   ]
  },
  {
   "cell_type": "code",
   "execution_count": 838,
   "metadata": {},
   "outputs": [
    {
     "data": {
      "text/plain": [
       "0.8878587627685236"
      ]
     },
     "execution_count": 838,
     "metadata": {},
     "output_type": "execute_result"
    }
   ],
   "source": [
    "lr_av.score(X_train_av,y_train_av)"
   ]
  },
  {
   "cell_type": "code",
   "execution_count": 839,
   "metadata": {},
   "outputs": [
    {
     "name": "stdout",
     "output_type": "stream",
     "text": [
      "[-0.63015842]\n",
      "[131032.20725601]\n"
     ]
    }
   ],
   "source": [
    "ypred_av = lr_av.predict(X_test_av)\n",
    "\n",
    "print(ypred_av[0])\n",
    "print((ypred_av[0]*data_1['SalePrice'].std())+data_1['SalePrice'].mean())"
   ]
  },
  {
   "cell_type": "markdown",
   "metadata": {},
   "source": [
    "**3**"
   ]
  },
  {
   "cell_type": "code",
   "execution_count": 840,
   "metadata": {},
   "outputs": [
    {
     "data": {
      "text/html": [
       "<style>#sk-container-id-46 {color: black;background-color: white;}#sk-container-id-46 pre{padding: 0;}#sk-container-id-46 div.sk-toggleable {background-color: white;}#sk-container-id-46 label.sk-toggleable__label {cursor: pointer;display: block;width: 100%;margin-bottom: 0;padding: 0.3em;box-sizing: border-box;text-align: center;}#sk-container-id-46 label.sk-toggleable__label-arrow:before {content: \"▸\";float: left;margin-right: 0.25em;color: #696969;}#sk-container-id-46 label.sk-toggleable__label-arrow:hover:before {color: black;}#sk-container-id-46 div.sk-estimator:hover label.sk-toggleable__label-arrow:before {color: black;}#sk-container-id-46 div.sk-toggleable__content {max-height: 0;max-width: 0;overflow: hidden;text-align: left;background-color: #f0f8ff;}#sk-container-id-46 div.sk-toggleable__content pre {margin: 0.2em;color: black;border-radius: 0.25em;background-color: #f0f8ff;}#sk-container-id-46 input.sk-toggleable__control:checked~div.sk-toggleable__content {max-height: 200px;max-width: 100%;overflow: auto;}#sk-container-id-46 input.sk-toggleable__control:checked~label.sk-toggleable__label-arrow:before {content: \"▾\";}#sk-container-id-46 div.sk-estimator input.sk-toggleable__control:checked~label.sk-toggleable__label {background-color: #d4ebff;}#sk-container-id-46 div.sk-label input.sk-toggleable__control:checked~label.sk-toggleable__label {background-color: #d4ebff;}#sk-container-id-46 input.sk-hidden--visually {border: 0;clip: rect(1px 1px 1px 1px);clip: rect(1px, 1px, 1px, 1px);height: 1px;margin: -1px;overflow: hidden;padding: 0;position: absolute;width: 1px;}#sk-container-id-46 div.sk-estimator {font-family: monospace;background-color: #f0f8ff;border: 1px dotted black;border-radius: 0.25em;box-sizing: border-box;margin-bottom: 0.5em;}#sk-container-id-46 div.sk-estimator:hover {background-color: #d4ebff;}#sk-container-id-46 div.sk-parallel-item::after {content: \"\";width: 100%;border-bottom: 1px solid gray;flex-grow: 1;}#sk-container-id-46 div.sk-label:hover label.sk-toggleable__label {background-color: #d4ebff;}#sk-container-id-46 div.sk-serial::before {content: \"\";position: absolute;border-left: 1px solid gray;box-sizing: border-box;top: 0;bottom: 0;left: 50%;z-index: 0;}#sk-container-id-46 div.sk-serial {display: flex;flex-direction: column;align-items: center;background-color: white;padding-right: 0.2em;padding-left: 0.2em;position: relative;}#sk-container-id-46 div.sk-item {position: relative;z-index: 1;}#sk-container-id-46 div.sk-parallel {display: flex;align-items: stretch;justify-content: center;background-color: white;position: relative;}#sk-container-id-46 div.sk-item::before, #sk-container-id-46 div.sk-parallel-item::before {content: \"\";position: absolute;border-left: 1px solid gray;box-sizing: border-box;top: 0;bottom: 0;left: 50%;z-index: -1;}#sk-container-id-46 div.sk-parallel-item {display: flex;flex-direction: column;z-index: 1;position: relative;background-color: white;}#sk-container-id-46 div.sk-parallel-item:first-child::after {align-self: flex-end;width: 50%;}#sk-container-id-46 div.sk-parallel-item:last-child::after {align-self: flex-start;width: 50%;}#sk-container-id-46 div.sk-parallel-item:only-child::after {width: 0;}#sk-container-id-46 div.sk-dashed-wrapped {border: 1px dashed gray;margin: 0 0.4em 0.5em 0.4em;box-sizing: border-box;padding-bottom: 0.4em;background-color: white;}#sk-container-id-46 div.sk-label label {font-family: monospace;font-weight: bold;display: inline-block;line-height: 1.2em;}#sk-container-id-46 div.sk-label-container {text-align: center;}#sk-container-id-46 div.sk-container {/* jupyter's `normalize.less` sets `[hidden] { display: none; }` but bootstrap.min.css set `[hidden] { display: none !important; }` so we also need the `!important` here to be able to override the default hidden behavior on the sphinx rendered scikit-learn.org. See: https://github.com/scikit-learn/scikit-learn/issues/21755 */display: inline-block !important;position: relative;}#sk-container-id-46 div.sk-text-repr-fallback {display: none;}</style><div id=\"sk-container-id-46\" class=\"sk-top-container\"><div class=\"sk-text-repr-fallback\"><pre>LinearRegression()</pre><b>In a Jupyter environment, please rerun this cell to show the HTML representation or trust the notebook. <br />On GitHub, the HTML representation is unable to render, please try loading this page with nbviewer.org.</b></div><div class=\"sk-container\" hidden><div class=\"sk-item\"><div class=\"sk-estimator sk-toggleable\"><input class=\"sk-toggleable__control sk-hidden--visually\" id=\"sk-estimator-id-46\" type=\"checkbox\" checked><label for=\"sk-estimator-id-46\" class=\"sk-toggleable__label sk-toggleable__label-arrow\">LinearRegression</label><div class=\"sk-toggleable__content\"><pre>LinearRegression()</pre></div></div></div></div></div>"
      ],
      "text/plain": [
       "LinearRegression()"
      ]
     },
     "execution_count": 840,
     "metadata": {},
     "output_type": "execute_result"
    }
   ],
   "source": [
    "lr_r=LinearRegression()\n",
    "lr_r.fit(X_train_r,y_train_r)"
   ]
  },
  {
   "cell_type": "code",
   "execution_count": 841,
   "metadata": {
    "scrolled": true
   },
   "outputs": [
    {
     "data": {
      "text/html": [
       "<div>\n",
       "<style scoped>\n",
       "    .dataframe tbody tr th:only-of-type {\n",
       "        vertical-align: middle;\n",
       "    }\n",
       "\n",
       "    .dataframe tbody tr th {\n",
       "        vertical-align: top;\n",
       "    }\n",
       "\n",
       "    .dataframe thead th {\n",
       "        text-align: right;\n",
       "    }\n",
       "</style>\n",
       "<table border=\"1\" class=\"dataframe\">\n",
       "  <thead>\n",
       "    <tr style=\"text-align: right;\">\n",
       "      <th></th>\n",
       "      <th>1</th>\n",
       "    </tr>\n",
       "    <tr>\n",
       "      <th>0</th>\n",
       "      <th></th>\n",
       "    </tr>\n",
       "  </thead>\n",
       "  <tbody>\n",
       "    <tr>\n",
       "      <th>intercept</th>\n",
       "      <td>0.010004</td>\n",
       "    </tr>\n",
       "    <tr>\n",
       "      <th>LotArea</th>\n",
       "      <td>0.111641</td>\n",
       "    </tr>\n",
       "    <tr>\n",
       "      <th>OverallQual</th>\n",
       "      <td>0.210647</td>\n",
       "    </tr>\n",
       "    <tr>\n",
       "      <th>OverallCond</th>\n",
       "      <td>0.093148</td>\n",
       "    </tr>\n",
       "    <tr>\n",
       "      <th>YearBuilt</th>\n",
       "      <td>0.167066</td>\n",
       "    </tr>\n",
       "    <tr>\n",
       "      <th>YearRemodAdd</th>\n",
       "      <td>0.033933</td>\n",
       "    </tr>\n",
       "    <tr>\n",
       "      <th>BsmtFinSF1</th>\n",
       "      <td>0.09923</td>\n",
       "    </tr>\n",
       "    <tr>\n",
       "      <th>BsmtUnfSF</th>\n",
       "      <td>-0.036709</td>\n",
       "    </tr>\n",
       "    <tr>\n",
       "      <th>TotalBsmtSF</th>\n",
       "      <td>0.120514</td>\n",
       "    </tr>\n",
       "    <tr>\n",
       "      <th>1stFlrSF</th>\n",
       "      <td>0.168952</td>\n",
       "    </tr>\n",
       "    <tr>\n",
       "      <th>2ndFlrSF</th>\n",
       "      <td>0.142142</td>\n",
       "    </tr>\n",
       "    <tr>\n",
       "      <th>GrLivArea</th>\n",
       "      <td>0.161788</td>\n",
       "    </tr>\n",
       "    <tr>\n",
       "      <th>FullBath</th>\n",
       "      <td>-0.009909</td>\n",
       "    </tr>\n",
       "    <tr>\n",
       "      <th>HalfBath</th>\n",
       "      <td>0.025929</td>\n",
       "    </tr>\n",
       "    <tr>\n",
       "      <th>BedroomAbvGr</th>\n",
       "      <td>-0.083863</td>\n",
       "    </tr>\n",
       "    <tr>\n",
       "      <th>TotRmsAbvGrd</th>\n",
       "      <td>0.051827</td>\n",
       "    </tr>\n",
       "    <tr>\n",
       "      <th>Fireplaces</th>\n",
       "      <td>0.031987</td>\n",
       "    </tr>\n",
       "    <tr>\n",
       "      <th>GarageCars</th>\n",
       "      <td>0.017007</td>\n",
       "    </tr>\n",
       "    <tr>\n",
       "      <th>GarageArea</th>\n",
       "      <td>0.067959</td>\n",
       "    </tr>\n",
       "    <tr>\n",
       "      <th>WoodDeckSF</th>\n",
       "      <td>0.022417</td>\n",
       "    </tr>\n",
       "    <tr>\n",
       "      <th>OpenPorchSF</th>\n",
       "      <td>0.029774</td>\n",
       "    </tr>\n",
       "    <tr>\n",
       "      <th>EnclosedPorch</th>\n",
       "      <td>0.006044</td>\n",
       "    </tr>\n",
       "    <tr>\n",
       "      <th>Blmngtn</th>\n",
       "      <td>-0.014284</td>\n",
       "    </tr>\n",
       "    <tr>\n",
       "      <th>Blueste</th>\n",
       "      <td>-0.008815</td>\n",
       "    </tr>\n",
       "    <tr>\n",
       "      <th>BrDale</th>\n",
       "      <td>-0.011599</td>\n",
       "    </tr>\n",
       "    <tr>\n",
       "      <th>BrkSide</th>\n",
       "      <td>0.023614</td>\n",
       "    </tr>\n",
       "    <tr>\n",
       "      <th>ClearCr</th>\n",
       "      <td>-0.009307</td>\n",
       "    </tr>\n",
       "    <tr>\n",
       "      <th>CollgCr</th>\n",
       "      <td>-0.011076</td>\n",
       "    </tr>\n",
       "    <tr>\n",
       "      <th>Crawfor</th>\n",
       "      <td>0.03173</td>\n",
       "    </tr>\n",
       "    <tr>\n",
       "      <th>Edwards</th>\n",
       "      <td>-0.003756</td>\n",
       "    </tr>\n",
       "    <tr>\n",
       "      <th>Gilbert</th>\n",
       "      <td>-0.017443</td>\n",
       "    </tr>\n",
       "    <tr>\n",
       "      <th>IDOTRR</th>\n",
       "      <td>0.004111</td>\n",
       "    </tr>\n",
       "    <tr>\n",
       "      <th>MeadowV</th>\n",
       "      <td>-0.007392</td>\n",
       "    </tr>\n",
       "    <tr>\n",
       "      <th>Mitchel</th>\n",
       "      <td>-0.032558</td>\n",
       "    </tr>\n",
       "    <tr>\n",
       "      <th>Names</th>\n",
       "      <td>-0.039644</td>\n",
       "    </tr>\n",
       "    <tr>\n",
       "      <th>NoRidge</th>\n",
       "      <td>0.044515</td>\n",
       "    </tr>\n",
       "    <tr>\n",
       "      <th>NPkVill</th>\n",
       "      <td>-0.011533</td>\n",
       "    </tr>\n",
       "    <tr>\n",
       "      <th>NriddgHt</th>\n",
       "      <td>0.111225</td>\n",
       "    </tr>\n",
       "    <tr>\n",
       "      <th>NWAmes</th>\n",
       "      <td>-0.062089</td>\n",
       "    </tr>\n",
       "    <tr>\n",
       "      <th>OLDTown</th>\n",
       "      <td>-0.010254</td>\n",
       "    </tr>\n",
       "    <tr>\n",
       "      <th>SWISU</th>\n",
       "      <td>-0.000335</td>\n",
       "    </tr>\n",
       "    <tr>\n",
       "      <th>Sawyer</th>\n",
       "      <td>-0.015041</td>\n",
       "    </tr>\n",
       "    <tr>\n",
       "      <th>SawyerW</th>\n",
       "      <td>-0.034126</td>\n",
       "    </tr>\n",
       "    <tr>\n",
       "      <th>Somerst</th>\n",
       "      <td>0.030045</td>\n",
       "    </tr>\n",
       "    <tr>\n",
       "      <th>StoneBr</th>\n",
       "      <td>0.073921</td>\n",
       "    </tr>\n",
       "    <tr>\n",
       "      <th>Timber</th>\n",
       "      <td>0.004376</td>\n",
       "    </tr>\n",
       "    <tr>\n",
       "      <th>Veenker</th>\n",
       "      <td>0.003092</td>\n",
       "    </tr>\n",
       "    <tr>\n",
       "      <th>Bsmt Qual</th>\n",
       "      <td>0.021118</td>\n",
       "    </tr>\n",
       "    <tr>\n",
       "      <th>streetft</th>\n",
       "      <td>0.055817</td>\n",
       "    </tr>\n",
       "  </tbody>\n",
       "</table>\n",
       "</div>"
      ],
      "text/plain": [
       "                      1\n",
       "0                      \n",
       "intercept      0.010004\n",
       "LotArea        0.111641\n",
       "OverallQual    0.210647\n",
       "OverallCond    0.093148\n",
       "YearBuilt      0.167066\n",
       "YearRemodAdd   0.033933\n",
       "BsmtFinSF1      0.09923\n",
       "BsmtUnfSF     -0.036709\n",
       "TotalBsmtSF    0.120514\n",
       "1stFlrSF       0.168952\n",
       "2ndFlrSF       0.142142\n",
       "GrLivArea      0.161788\n",
       "FullBath      -0.009909\n",
       "HalfBath       0.025929\n",
       "BedroomAbvGr  -0.083863\n",
       "TotRmsAbvGrd   0.051827\n",
       "Fireplaces     0.031987\n",
       "GarageCars     0.017007\n",
       "GarageArea     0.067959\n",
       "WoodDeckSF     0.022417\n",
       "OpenPorchSF    0.029774\n",
       "EnclosedPorch  0.006044\n",
       "Blmngtn       -0.014284\n",
       "Blueste       -0.008815\n",
       "BrDale        -0.011599\n",
       "BrkSide        0.023614\n",
       "ClearCr       -0.009307\n",
       "CollgCr       -0.011076\n",
       "Crawfor         0.03173\n",
       "Edwards       -0.003756\n",
       "Gilbert       -0.017443\n",
       "IDOTRR         0.004111\n",
       "MeadowV       -0.007392\n",
       "Mitchel       -0.032558\n",
       "Names         -0.039644\n",
       "NoRidge        0.044515\n",
       "NPkVill       -0.011533\n",
       "NriddgHt       0.111225\n",
       "NWAmes        -0.062089\n",
       "OLDTown       -0.010254\n",
       "SWISU         -0.000335\n",
       "Sawyer        -0.015041\n",
       "SawyerW       -0.034126\n",
       "Somerst        0.030045\n",
       "StoneBr        0.073921\n",
       "Timber         0.004376\n",
       "Veenker        0.003092\n",
       "Bsmt Qual      0.021118\n",
       "streetft       0.055817"
      ]
     },
     "execution_count": 841,
     "metadata": {},
     "output_type": "execute_result"
    }
   ],
   "source": [
    "coeffs_r = pd.DataFrame(\n",
    "    [\n",
    "        ['intercept'] + list(X_train_r.columns),\n",
    "        list(lr_r.intercept_) + list(lr_r.coef_[0])\n",
    "    ]\n",
    ").transpose().set_index(0)\n",
    "coeffs_r"
   ]
  },
  {
   "cell_type": "code",
   "execution_count": 842,
   "metadata": {},
   "outputs": [
    {
     "data": {
      "text/plain": [
       "0.897223754603462"
      ]
     },
     "execution_count": 842,
     "metadata": {},
     "output_type": "execute_result"
    }
   ],
   "source": [
    "lr_r.score(X_train_r,y_train_r)"
   ]
  },
  {
   "cell_type": "code",
   "execution_count": 843,
   "metadata": {},
   "outputs": [
    {
     "name": "stdout",
     "output_type": "stream",
     "text": [
      "[1.33071761]\n",
      "[284253.27756446]\n"
     ]
    }
   ],
   "source": [
    "ypred_r = lr_r.predict(X_test_r)\n",
    "\n",
    "print(ypred_r[0])\n",
    "print((ypred_r[0]*data_1['SalePrice'].std())+data_1['SalePrice'].mean())"
   ]
  },
  {
   "cell_type": "markdown",
   "metadata": {},
   "source": [
    "###### Ridge Regression"
   ]
  },
  {
   "cell_type": "code",
   "execution_count": 844,
   "metadata": {},
   "outputs": [],
   "source": [
    "# Importing Ridge\n",
    "from sklearn.linear_model import Ridge"
   ]
  },
  {
   "cell_type": "code",
   "execution_count": 845,
   "metadata": {
    "scrolled": true
   },
   "outputs": [
    {
     "name": "stdout",
     "output_type": "stream",
     "text": [
      "0.11703284346091355\n",
      "0.11710797319753014\n",
      "0.11723952924901132\n",
      "0.11741457158889518\n",
      "0.11762384068711479\n",
      "0.11825709631198032\n",
      "0.11900057469147939\n",
      "0.12254649996292959\n",
      "0.1307359968074714\n"
     ]
    }
   ],
   "source": [
    "# The alpha used by Python's ridge should be the lambda in Hull's book times the number of observations\n",
    "alphas=[0.01*1800, 0.02*1800, 0.03*1800, 0.04*1800, 0.05*1800, 0.075*1800,0.1*1800,0.2*1800, 0.4*1800]\n",
    "mses=[]\n",
    "for alpha in alphas:\n",
    "    ridge=Ridge(alpha=alpha)\n",
    "    ridge.fit(X_train,y_train)\n",
    "    pred=ridge.predict(X_val)\n",
    "    mses.append(mse(y_val,pred))\n",
    "    print(mse(y_val,pred))"
   ]
  },
  {
   "cell_type": "code",
   "execution_count": 846,
   "metadata": {
    "scrolled": true
   },
   "outputs": [
    {
     "data": {
      "text/plain": [
       "[<matplotlib.lines.Line2D at 0x7f7b66626250>]"
      ]
     },
     "execution_count": 846,
     "metadata": {},
     "output_type": "execute_result"
    },
    {
     "data": {
      "image/png": "[encoded data removed]",
      "text/plain": [
       "<Figure size 432x288 with 1 Axes>"
      ]
     },
     "metadata": {
      "needs_background": "light"
     },
     "output_type": "display_data"
    }
   ],
   "source": [
    "plt.plot(alphas, mses)"
   ]
  },
  {
   "cell_type": "code",
   "execution_count": 847,
   "metadata": {},
   "outputs": [
    {
     "name": "stdout",
     "output_type": "stream",
     "text": [
      "0.10709195266368476\n",
      "0.10711247803757618\n",
      "0.10719889893335026\n",
      "0.10733834585036049\n",
      "0.10752025714283756\n",
      "0.1081123798569862\n",
      "0.10884122050430596\n",
      "0.11244619366656974\n",
      "0.12089461346664551\n"
     ]
    },
    {
     "data": {
      "text/plain": [
       "[<matplotlib.lines.Line2D at 0x7f7b63b87430>]"
      ]
     },
     "execution_count": 847,
     "metadata": {},
     "output_type": "execute_result"
    },
    {
     "data": {
      "image/png": "[encoded data removed]",
      "text/plain": [
       "<Figure size 432x288 with 1 Axes>"
      ]
     },
     "metadata": {
      "needs_background": "light"
     },
     "output_type": "display_data"
    }
   ],
   "source": [
    "alphas_m=[0.01*1600, 0.02*1600, 0.03*1600, 0.04*1600, 0.05*1600, 0.075*1600,0.1*1600,0.2*1600, 0.4*1600]\n",
    "mses_m=[]\n",
    "for alpha in alphas_m:\n",
    "    ridge=Ridge(alpha=alpha)\n",
    "    ridge.fit(X_train_m,y_train_m)\n",
    "    pred=ridge.predict(X_val_m)\n",
    "    mses_m.append(mse(y_val_m,pred))\n",
    "    print(mse(y_val_m,pred))\n",
    "    \n",
    "plt.plot(alphas_m, mses_m)"
   ]
  },
  {
   "cell_type": "code",
   "execution_count": 848,
   "metadata": {},
   "outputs": [
    {
     "name": "stdout",
     "output_type": "stream",
     "text": [
      "0.11326374932587423\n",
      "0.1133489364324503\n",
      "0.11349100794544886\n",
      "0.11367624830307217\n",
      "0.1138950990202757\n",
      "0.1145491280131559\n",
      "0.11530911864681821\n",
      "0.11889333709447233\n",
      "0.12710140486531907\n"
     ]
    },
    {
     "data": {
      "text/plain": [
       "[<matplotlib.lines.Line2D at 0x7f7b6652c6d0>]"
      ]
     },
     "execution_count": 848,
     "metadata": {},
     "output_type": "execute_result"
    },
    {
     "data": {
      "image/png": "[encoded data removed]",
      "text/plain": [
       "<Figure size 432x288 with 1 Axes>"
      ]
     },
     "metadata": {
      "needs_background": "light"
     },
     "output_type": "display_data"
    }
   ],
   "source": [
    "alphas_av=[0.01*1800, 0.02*1800, 0.03*1800, 0.04*1800, 0.05*1800, 0.075*1800,0.1*1800,0.2*1800, 0.4*1800]\n",
    "mses_av=[]\n",
    "for alpha in alphas_av:\n",
    "    ridge=Ridge(alpha=alpha)\n",
    "    ridge.fit(X_train_av,y_train_av)\n",
    "    pred=ridge.predict(X_val_av)\n",
    "    mses_av.append(mse(y_val_av,pred))\n",
    "    print(mse(y_val_av,pred))\n",
    "plt.plot(alphas_av, mses_av)"
   ]
  },
  {
   "cell_type": "code",
   "execution_count": 849,
   "metadata": {},
   "outputs": [
    {
     "name": "stdout",
     "output_type": "stream",
     "text": [
      "0.12568603084387123\n",
      "0.126057900333669\n",
      "0.12647108908588775\n",
      "0.12691459897331914\n",
      "0.12738069319104736\n",
      "0.12861107960095225\n",
      "0.12989519301431376\n",
      "0.1351712621550372\n",
      "0.14554610880386415\n"
     ]
    },
    {
     "data": {
      "text/plain": [
       "[<matplotlib.lines.Line2D at 0x7f7b62b11ee0>]"
      ]
     },
     "execution_count": 849,
     "metadata": {},
     "output_type": "execute_result"
    },
    {
     "data": {
      "image/png": "[encoded data removed]",
      "text/plain": [
       "<Figure size 432x288 with 1 Axes>"
      ]
     },
     "metadata": {
      "needs_background": "light"
     },
     "output_type": "display_data"
    }
   ],
   "source": [
    "alphas_r=[0.01*1800, 0.02*1800, 0.03*1800, 0.04*1800, 0.05*1800, 0.075*1800,0.1*1800,0.2*1800, 0.4*1800]\n",
    "mses_r=[]\n",
    "for alpha in alphas_r:\n",
    "    ridge=Ridge(alpha=alpha)\n",
    "    ridge.fit(X_train_r,y_train_r)\n",
    "    pred=ridge.predict(X_val_r)\n",
    "    mses_r.append(mse(y_val_r,pred))\n",
    "    print(mse(y_val_r,pred))\n",
    "plt.plot(alphas_r, mses_r)"
   ]
  },
  {
   "cell_type": "markdown",
   "metadata": {},
   "source": [
    "###### Lasso"
   ]
  },
  {
   "cell_type": "code",
   "execution_count": 850,
   "metadata": {},
   "outputs": [],
   "source": [
    "# Import Lasso\n",
    "from sklearn.linear_model import Lasso"
   ]
  },
  {
   "cell_type": "code",
   "execution_count": 851,
   "metadata": {},
   "outputs": [
    {
     "data": {
      "text/html": [
       "<style>#sk-container-id-47 {color: black;background-color: white;}#sk-container-id-47 pre{padding: 0;}#sk-container-id-47 div.sk-toggleable {background-color: white;}#sk-container-id-47 label.sk-toggleable__label {cursor: pointer;display: block;width: 100%;margin-bottom: 0;padding: 0.3em;box-sizing: border-box;text-align: center;}#sk-container-id-47 label.sk-toggleable__label-arrow:before {content: \"▸\";float: left;margin-right: 0.25em;color: #696969;}#sk-container-id-47 label.sk-toggleable__label-arrow:hover:before {color: black;}#sk-container-id-47 div.sk-estimator:hover label.sk-toggleable__label-arrow:before {color: black;}#sk-container-id-47 div.sk-toggleable__content {max-height: 0;max-width: 0;overflow: hidden;text-align: left;background-color: #f0f8ff;}#sk-container-id-47 div.sk-toggleable__content pre {margin: 0.2em;color: black;border-radius: 0.25em;background-color: #f0f8ff;}#sk-container-id-47 input.sk-toggleable__control:checked~div.sk-toggleable__content {max-height: 200px;max-width: 100%;overflow: auto;}#sk-container-id-47 input.sk-toggleable__control:checked~label.sk-toggleable__label-arrow:before {content: \"▾\";}#sk-container-id-47 div.sk-estimator input.sk-toggleable__control:checked~label.sk-toggleable__label {background-color: #d4ebff;}#sk-container-id-47 div.sk-label input.sk-toggleable__control:checked~label.sk-toggleable__label {background-color: #d4ebff;}#sk-container-id-47 input.sk-hidden--visually {border: 0;clip: rect(1px 1px 1px 1px);clip: rect(1px, 1px, 1px, 1px);height: 1px;margin: -1px;overflow: hidden;padding: 0;position: absolute;width: 1px;}#sk-container-id-47 div.sk-estimator {font-family: monospace;background-color: #f0f8ff;border: 1px dotted black;border-radius: 0.25em;box-sizing: border-box;margin-bottom: 0.5em;}#sk-container-id-47 div.sk-estimator:hover {background-color: #d4ebff;}#sk-container-id-47 div.sk-parallel-item::after {content: \"\";width: 100%;border-bottom: 1px solid gray;flex-grow: 1;}#sk-container-id-47 div.sk-label:hover label.sk-toggleable__label {background-color: #d4ebff;}#sk-container-id-47 div.sk-serial::before {content: \"\";position: absolute;border-left: 1px solid gray;box-sizing: border-box;top: 0;bottom: 0;left: 50%;z-index: 0;}#sk-container-id-47 div.sk-serial {display: flex;flex-direction: column;align-items: center;background-color: white;padding-right: 0.2em;padding-left: 0.2em;position: relative;}#sk-container-id-47 div.sk-item {position: relative;z-index: 1;}#sk-container-id-47 div.sk-parallel {display: flex;align-items: stretch;justify-content: center;background-color: white;position: relative;}#sk-container-id-47 div.sk-item::before, #sk-container-id-47 div.sk-parallel-item::before {content: \"\";position: absolute;border-left: 1px solid gray;box-sizing: border-box;top: 0;bottom: 0;left: 50%;z-index: -1;}#sk-container-id-47 div.sk-parallel-item {display: flex;flex-direction: column;z-index: 1;position: relative;background-color: white;}#sk-container-id-47 div.sk-parallel-item:first-child::after {align-self: flex-end;width: 50%;}#sk-container-id-47 div.sk-parallel-item:last-child::after {align-self: flex-start;width: 50%;}#sk-container-id-47 div.sk-parallel-item:only-child::after {width: 0;}#sk-container-id-47 div.sk-dashed-wrapped {border: 1px dashed gray;margin: 0 0.4em 0.5em 0.4em;box-sizing: border-box;padding-bottom: 0.4em;background-color: white;}#sk-container-id-47 div.sk-label label {font-family: monospace;font-weight: bold;display: inline-block;line-height: 1.2em;}#sk-container-id-47 div.sk-label-container {text-align: center;}#sk-container-id-47 div.sk-container {/* jupyter's `normalize.less` sets `[hidden] { display: none; }` but bootstrap.min.css set `[hidden] { display: none !important; }` so we also need the `!important` here to be able to override the default hidden behavior on the sphinx rendered scikit-learn.org. See: https://github.com/scikit-learn/scikit-learn/issues/21755 */display: inline-block !important;position: relative;}#sk-container-id-47 div.sk-text-repr-fallback {display: none;}</style><div id=\"sk-container-id-47\" class=\"sk-top-container\"><div class=\"sk-text-repr-fallback\"><pre>Lasso(alpha=0.05)</pre><b>In a Jupyter environment, please rerun this cell to show the HTML representation or trust the notebook. <br />On GitHub, the HTML representation is unable to render, please try loading this page with nbviewer.org.</b></div><div class=\"sk-container\" hidden><div class=\"sk-item\"><div class=\"sk-estimator sk-toggleable\"><input class=\"sk-toggleable__control sk-hidden--visually\" id=\"sk-estimator-id-47\" type=\"checkbox\" checked><label for=\"sk-estimator-id-47\" class=\"sk-toggleable__label sk-toggleable__label-arrow\">Lasso</label><div class=\"sk-toggleable__content\"><pre>Lasso(alpha=0.05)</pre></div></div></div></div></div>"
      ],
      "text/plain": [
       "Lasso(alpha=0.05)"
      ]
     },
     "execution_count": 851,
     "metadata": {},
     "output_type": "execute_result"
    }
   ],
   "source": [
    "# Here we produce results for alpha=0.05 which corresponds to lambda=0.1 in Hull's book\n",
    "lasso = Lasso(alpha=0.05)\n",
    "lasso.fit(X_train, y_train)"
   ]
  },
  {
   "cell_type": "code",
   "execution_count": 852,
   "metadata": {
    "scrolled": true
   },
   "outputs": [
    {
     "data": {
      "text/html": [
       "<div>\n",
       "<style scoped>\n",
       "    .dataframe tbody tr th:only-of-type {\n",
       "        vertical-align: middle;\n",
       "    }\n",
       "\n",
       "    .dataframe tbody tr th {\n",
       "        vertical-align: top;\n",
       "    }\n",
       "\n",
       "    .dataframe thead th {\n",
       "        text-align: right;\n",
       "    }\n",
       "</style>\n",
       "<table border=\"1\" class=\"dataframe\">\n",
       "  <thead>\n",
       "    <tr style=\"text-align: right;\">\n",
       "      <th></th>\n",
       "      <th>1</th>\n",
       "    </tr>\n",
       "    <tr>\n",
       "      <th>0</th>\n",
       "      <th></th>\n",
       "    </tr>\n",
       "  </thead>\n",
       "  <tbody>\n",
       "    <tr>\n",
       "      <th>intercept</th>\n",
       "      <td>-0.0</td>\n",
       "    </tr>\n",
       "    <tr>\n",
       "      <th>LotArea</th>\n",
       "      <td>0.044304</td>\n",
       "    </tr>\n",
       "    <tr>\n",
       "      <th>OverallQual</th>\n",
       "      <td>0.298079</td>\n",
       "    </tr>\n",
       "    <tr>\n",
       "      <th>OverallCond</th>\n",
       "      <td>0.0</td>\n",
       "    </tr>\n",
       "    <tr>\n",
       "      <th>YearBuilt</th>\n",
       "      <td>0.052091</td>\n",
       "    </tr>\n",
       "    <tr>\n",
       "      <th>YearRemodAdd</th>\n",
       "      <td>0.064471</td>\n",
       "    </tr>\n",
       "    <tr>\n",
       "      <th>BsmtFinSF1</th>\n",
       "      <td>0.115875</td>\n",
       "    </tr>\n",
       "    <tr>\n",
       "      <th>BsmtUnfSF</th>\n",
       "      <td>-0.0</td>\n",
       "    </tr>\n",
       "    <tr>\n",
       "      <th>TotalBsmtSF</th>\n",
       "      <td>0.10312</td>\n",
       "    </tr>\n",
       "    <tr>\n",
       "      <th>1stFlrSF</th>\n",
       "      <td>0.032295</td>\n",
       "    </tr>\n",
       "    <tr>\n",
       "      <th>2ndFlrSF</th>\n",
       "      <td>0.0</td>\n",
       "    </tr>\n",
       "    <tr>\n",
       "      <th>GrLivArea</th>\n",
       "      <td>0.297065</td>\n",
       "    </tr>\n",
       "    <tr>\n",
       "      <th>FullBath</th>\n",
       "      <td>0.0</td>\n",
       "    </tr>\n",
       "    <tr>\n",
       "      <th>HalfBath</th>\n",
       "      <td>0.0</td>\n",
       "    </tr>\n",
       "    <tr>\n",
       "      <th>BedroomAbvGr</th>\n",
       "      <td>-0.0</td>\n",
       "    </tr>\n",
       "    <tr>\n",
       "      <th>TotRmsAbvGrd</th>\n",
       "      <td>0.0</td>\n",
       "    </tr>\n",
       "    <tr>\n",
       "      <th>Fireplaces</th>\n",
       "      <td>0.020404</td>\n",
       "    </tr>\n",
       "    <tr>\n",
       "      <th>GarageCars</th>\n",
       "      <td>0.027512</td>\n",
       "    </tr>\n",
       "    <tr>\n",
       "      <th>GarageArea</th>\n",
       "      <td>0.06641</td>\n",
       "    </tr>\n",
       "    <tr>\n",
       "      <th>WoodDeckSF</th>\n",
       "      <td>0.001029</td>\n",
       "    </tr>\n",
       "    <tr>\n",
       "      <th>OpenPorchSF</th>\n",
       "      <td>0.00215</td>\n",
       "    </tr>\n",
       "    <tr>\n",
       "      <th>EnclosedPorch</th>\n",
       "      <td>-0.0</td>\n",
       "    </tr>\n",
       "    <tr>\n",
       "      <th>Blmngtn</th>\n",
       "      <td>-0.0</td>\n",
       "    </tr>\n",
       "    <tr>\n",
       "      <th>Blueste</th>\n",
       "      <td>-0.0</td>\n",
       "    </tr>\n",
       "    <tr>\n",
       "      <th>BrDale</th>\n",
       "      <td>-0.0</td>\n",
       "    </tr>\n",
       "    <tr>\n",
       "      <th>BrkSide</th>\n",
       "      <td>0.0</td>\n",
       "    </tr>\n",
       "    <tr>\n",
       "      <th>ClearCr</th>\n",
       "      <td>0.0</td>\n",
       "    </tr>\n",
       "    <tr>\n",
       "      <th>CollgCr</th>\n",
       "      <td>-0.0</td>\n",
       "    </tr>\n",
       "    <tr>\n",
       "      <th>Crawfor</th>\n",
       "      <td>0.0</td>\n",
       "    </tr>\n",
       "    <tr>\n",
       "      <th>Edwards</th>\n",
       "      <td>-0.0</td>\n",
       "    </tr>\n",
       "    <tr>\n",
       "      <th>Gilbert</th>\n",
       "      <td>0.0</td>\n",
       "    </tr>\n",
       "    <tr>\n",
       "      <th>IDOTRR</th>\n",
       "      <td>-0.0</td>\n",
       "    </tr>\n",
       "    <tr>\n",
       "      <th>MeadowV</th>\n",
       "      <td>-0.0</td>\n",
       "    </tr>\n",
       "    <tr>\n",
       "      <th>Mitchel</th>\n",
       "      <td>-0.0</td>\n",
       "    </tr>\n",
       "    <tr>\n",
       "      <th>Names</th>\n",
       "      <td>-0.0</td>\n",
       "    </tr>\n",
       "    <tr>\n",
       "      <th>NoRidge</th>\n",
       "      <td>0.013209</td>\n",
       "    </tr>\n",
       "    <tr>\n",
       "      <th>NPkVill</th>\n",
       "      <td>-0.0</td>\n",
       "    </tr>\n",
       "    <tr>\n",
       "      <th>NriddgHt</th>\n",
       "      <td>0.084299</td>\n",
       "    </tr>\n",
       "    <tr>\n",
       "      <th>NWAmes</th>\n",
       "      <td>-0.0</td>\n",
       "    </tr>\n",
       "    <tr>\n",
       "      <th>OLDTown</th>\n",
       "      <td>-0.0</td>\n",
       "    </tr>\n",
       "    <tr>\n",
       "      <th>SWISU</th>\n",
       "      <td>-0.0</td>\n",
       "    </tr>\n",
       "    <tr>\n",
       "      <th>Sawyer</th>\n",
       "      <td>-0.0</td>\n",
       "    </tr>\n",
       "    <tr>\n",
       "      <th>SawyerW</th>\n",
       "      <td>-0.0</td>\n",
       "    </tr>\n",
       "    <tr>\n",
       "      <th>Somerst</th>\n",
       "      <td>0.0</td>\n",
       "    </tr>\n",
       "    <tr>\n",
       "      <th>StoneBr</th>\n",
       "      <td>0.016815</td>\n",
       "    </tr>\n",
       "    <tr>\n",
       "      <th>Timber</th>\n",
       "      <td>0.0</td>\n",
       "    </tr>\n",
       "    <tr>\n",
       "      <th>Veenker</th>\n",
       "      <td>0.0</td>\n",
       "    </tr>\n",
       "    <tr>\n",
       "      <th>Bsmt Qual</th>\n",
       "      <td>0.020275</td>\n",
       "    </tr>\n",
       "  </tbody>\n",
       "</table>\n",
       "</div>"
      ],
      "text/plain": [
       "                      1\n",
       "0                      \n",
       "intercept          -0.0\n",
       "LotArea        0.044304\n",
       "OverallQual    0.298079\n",
       "OverallCond         0.0\n",
       "YearBuilt      0.052091\n",
       "YearRemodAdd   0.064471\n",
       "BsmtFinSF1     0.115875\n",
       "BsmtUnfSF          -0.0\n",
       "TotalBsmtSF     0.10312\n",
       "1stFlrSF       0.032295\n",
       "2ndFlrSF            0.0\n",
       "GrLivArea      0.297065\n",
       "FullBath            0.0\n",
       "HalfBath            0.0\n",
       "BedroomAbvGr       -0.0\n",
       "TotRmsAbvGrd        0.0\n",
       "Fireplaces     0.020404\n",
       "GarageCars     0.027512\n",
       "GarageArea      0.06641\n",
       "WoodDeckSF     0.001029\n",
       "OpenPorchSF     0.00215\n",
       "EnclosedPorch      -0.0\n",
       "Blmngtn            -0.0\n",
       "Blueste            -0.0\n",
       "BrDale             -0.0\n",
       "BrkSide             0.0\n",
       "ClearCr             0.0\n",
       "CollgCr            -0.0\n",
       "Crawfor             0.0\n",
       "Edwards            -0.0\n",
       "Gilbert             0.0\n",
       "IDOTRR             -0.0\n",
       "MeadowV            -0.0\n",
       "Mitchel            -0.0\n",
       "Names              -0.0\n",
       "NoRidge        0.013209\n",
       "NPkVill            -0.0\n",
       "NriddgHt       0.084299\n",
       "NWAmes             -0.0\n",
       "OLDTown            -0.0\n",
       "SWISU              -0.0\n",
       "Sawyer             -0.0\n",
       "SawyerW            -0.0\n",
       "Somerst             0.0\n",
       "StoneBr        0.016815\n",
       "Timber              0.0\n",
       "Veenker             0.0\n",
       "Bsmt Qual      0.020275"
      ]
     },
     "execution_count": 852,
     "metadata": {},
     "output_type": "execute_result"
    }
   ],
   "source": [
    "# DataFrame with corresponding feature and its respective coefficients\n",
    "coeffs = pd.DataFrame(\n",
    "    [\n",
    "        ['intercept'] + list(X_train.columns),\n",
    "        list(lasso.intercept_) + list(lasso.coef_)\n",
    "    ]\n",
    ").transpose().set_index(0)\n",
    "coeffs"
   ]
  },
  {
   "cell_type": "markdown",
   "metadata": {},
   "source": [
    "###### Lasso with different levels of alpha and its mse"
   ]
  },
  {
   "cell_type": "code",
   "execution_count": 853,
   "metadata": {},
   "outputs": [
    {
     "name": "stdout",
     "output_type": "stream",
     "text": [
      "0.11654751909608796\n",
      "0.11682687945311095\n",
      "0.11803348353132033\n",
      "0.12012836764958999\n",
      "0.12301536903084047\n",
      "0.13178576395045638\n",
      "0.14017194584483778\n"
     ]
    }
   ],
   "source": [
    "# We now consider different lambda values. The alphas are half the lambdas\n",
    "alphas=[0.01/2, 0.02/2, 0.03/2, 0.04/2, 0.05/2, 0.075/2, 0.1/2]\n",
    "mses=[]\n",
    "for alpha in alphas:\n",
    "    lasso=Lasso(alpha=alpha)\n",
    "    lasso.fit(X_train,y_train)\n",
    "    pred=lasso.predict(X_val)\n",
    "    mses.append(mse(y_val,pred))\n",
    "    print(mse(y_val, pred))"
   ]
  },
  {
   "cell_type": "code",
   "execution_count": 854,
   "metadata": {},
   "outputs": [
    {
     "data": {
      "text/plain": [
       "[<matplotlib.lines.Line2D at 0x7f7b663e13a0>]"
      ]
     },
     "execution_count": 854,
     "metadata": {},
     "output_type": "execute_result"
    },
    {
     "data": {
      "image/png": "[encoded data removed]",
      "text/plain": [
       "<Figure size 432x288 with 1 Axes>"
      ]
     },
     "metadata": {
      "needs_background": "light"
     },
     "output_type": "display_data"
    }
   ],
   "source": [
    "plt.plot(alphas, mses)"
   ]
  },
  {
   "cell_type": "code",
   "execution_count": 855,
   "metadata": {
    "scrolled": true
   },
   "outputs": [
    {
     "name": "stdout",
     "output_type": "stream",
     "text": [
      "                      1\n",
      "0                      \n",
      "intercept      0.001459\n",
      "LotArea        0.053801\n",
      "OverallQual    0.291134\n",
      "OverallCond         0.0\n",
      "YearBuilt      0.058161\n",
      "YearRemodAdd   0.064823\n",
      "BsmtFinSF1     0.128168\n",
      "BsmtUnfSF          -0.0\n",
      "TotalBsmtSF    0.099382\n",
      "1stFlrSF       0.028431\n",
      "2ndFlrSF            0.0\n",
      "GrLivArea      0.292673\n",
      "FullBath            0.0\n",
      "HalfBath            0.0\n",
      "BedroomAbvGr       -0.0\n",
      "TotRmsAbvGrd        0.0\n",
      "Fireplaces     0.024159\n",
      "GarageCars     0.030913\n",
      "GarageArea     0.069702\n",
      "WoodDeckSF          0.0\n",
      "OpenPorchSF    0.003312\n",
      "EnclosedPorch      -0.0\n",
      "Blmngtn            -0.0\n",
      "Blueste            -0.0\n",
      "BrDale             -0.0\n",
      "BrkSide             0.0\n",
      "ClearCr             0.0\n",
      "CollgCr            -0.0\n",
      "Crawfor             0.0\n",
      "Edwards            -0.0\n",
      "Gilbert            -0.0\n",
      "IDOTRR             -0.0\n",
      "MeadowV            -0.0\n",
      "Mitchel            -0.0\n",
      "Names              -0.0\n",
      "NoRidge        0.003285\n",
      "NPkVill            -0.0\n",
      "NriddgHt        0.08513\n",
      "NWAmes             -0.0\n",
      "OLDTown            -0.0\n",
      "SWISU              -0.0\n",
      "Sawyer             -0.0\n",
      "SawyerW            -0.0\n",
      "Somerst             0.0\n",
      "StoneBr        0.030943\n",
      "Timber              0.0\n",
      "Veenker             0.0\n",
      "Bsmt Qual      0.029385\n",
      "streetft       0.014717\n",
      "0.10632357954999966\n",
      "0.1060254042795221\n",
      "0.10709948466602724\n",
      "0.10926635515246579\n",
      "0.1122856905426988\n",
      "0.12035111344222002\n",
      "0.1277495861393469\n"
     ]
    },
    {
     "data": {
      "text/plain": [
       "[<matplotlib.lines.Line2D at 0x7f7b6694b670>]"
      ]
     },
     "execution_count": 855,
     "metadata": {},
     "output_type": "execute_result"
    },
    {
     "data": {
      "image/png": "[encoded data removed]",
      "text/plain": [
       "<Figure size 432x288 with 1 Axes>"
      ]
     },
     "metadata": {
      "needs_background": "light"
     },
     "output_type": "display_data"
    }
   ],
   "source": [
    "lasso_m = Lasso(alpha=0.05)\n",
    "lasso_m.fit(X_train_m, y_train_m)\n",
    "\n",
    "coeffs_m = pd.DataFrame(\n",
    "    [\n",
    "        ['intercept'] + list(X_train_m.columns),\n",
    "        list(lasso_m.intercept_) + list(lasso_m.coef_)\n",
    "    ]\n",
    ").transpose().set_index(0)\n",
    "print(coeffs_m)\n",
    "\n",
    "alphas_m=[0.01/2, 0.02/2, 0.03/2, 0.04/2, 0.05/2, 0.075/2, 0.1/2]\n",
    "mses_m=[]\n",
    "for alpha in alphas_m:\n",
    "    lasso_m=Lasso(alpha=alpha)\n",
    "    lasso_m.fit(X_train_m,y_train_m)\n",
    "    pred=lasso_m.predict(X_val_m)\n",
    "    mses_m.append(mse(y_val_m,pred))\n",
    "    print(mse(y_val_m, pred))\n",
    "    \n",
    "plt.plot(alphas_m, mses_m)"
   ]
  },
  {
   "cell_type": "code",
   "execution_count": 856,
   "metadata": {
    "scrolled": true
   },
   "outputs": [
    {
     "name": "stdout",
     "output_type": "stream",
     "text": [
      "                      1\n",
      "0                      \n",
      "intercept     -0.000182\n",
      "LotArea        0.041762\n",
      "OverallQual     0.29864\n",
      "OverallCond         0.0\n",
      "YearBuilt      0.052163\n",
      "YearRemodAdd   0.065166\n",
      "BsmtFinSF1     0.116103\n",
      "BsmtUnfSF          -0.0\n",
      "TotalBsmtSF    0.103082\n",
      "1stFlrSF       0.029274\n",
      "2ndFlrSF            0.0\n",
      "GrLivArea       0.29563\n",
      "FullBath            0.0\n",
      "HalfBath            0.0\n",
      "BedroomAbvGr       -0.0\n",
      "TotRmsAbvGrd        0.0\n",
      "Fireplaces     0.020439\n",
      "GarageCars     0.027274\n",
      "GarageArea     0.064521\n",
      "WoodDeckSF      0.00178\n",
      "OpenPorchSF    0.002195\n",
      "EnclosedPorch      -0.0\n",
      "Blmngtn            -0.0\n",
      "Blueste            -0.0\n",
      "BrDale             -0.0\n",
      "BrkSide             0.0\n",
      "ClearCr             0.0\n",
      "CollgCr            -0.0\n",
      "Crawfor             0.0\n",
      "Edwards            -0.0\n",
      "Gilbert            -0.0\n",
      "IDOTRR             -0.0\n",
      "MeadowV            -0.0\n",
      "Mitchel            -0.0\n",
      "Names              -0.0\n",
      "NoRidge        0.012734\n",
      "NPkVill            -0.0\n",
      "NriddgHt       0.083602\n",
      "NWAmes             -0.0\n",
      "OLDTown            -0.0\n",
      "SWISU              -0.0\n",
      "Sawyer             -0.0\n",
      "SawyerW            -0.0\n",
      "Somerst             0.0\n",
      "StoneBr        0.017921\n",
      "Timber              0.0\n",
      "Veenker             0.0\n",
      "Bsmt Qual       0.02024\n",
      "streetft       0.013178\n",
      "0.11282842282636006\n",
      "0.11280498892952122\n",
      "0.11407741008002943\n",
      "0.11645949206637042\n",
      "0.11970129640679074\n",
      "0.1297652680039838\n",
      "0.13874095621169108\n"
     ]
    },
    {
     "data": {
      "text/plain": [
       "[<matplotlib.lines.Line2D at 0x7f7b66a263a0>]"
      ]
     },
     "execution_count": 856,
     "metadata": {},
     "output_type": "execute_result"
    },
    {
     "data": {
      "image/png": "[encoded data removed]",
      "text/plain": [
       "<Figure size 432x288 with 1 Axes>"
      ]
     },
     "metadata": {
      "needs_background": "light"
     },
     "output_type": "display_data"
    }
   ],
   "source": [
    "lasso_av = Lasso(alpha=0.05)\n",
    "lasso_av.fit(X_train_av, y_train_av)\n",
    "\n",
    "coeffs_av = pd.DataFrame(\n",
    "    [\n",
    "        ['intercept'] + list(X_train_av.columns),\n",
    "        list(lasso_av.intercept_) + list(lasso_av.coef_)\n",
    "    ]\n",
    ").transpose().set_index(0)\n",
    "print(coeffs_av)\n",
    "\n",
    "alphas_av=[0.01/2, 0.02/2, 0.03/2, 0.04/2, 0.05/2, 0.075/2, 0.1/2]\n",
    "mses_av=[]\n",
    "for alpha in alphas_av:\n",
    "    lasso_av=Lasso(alpha=alpha)\n",
    "    lasso_av.fit(X_train_av,y_train_av)\n",
    "    pred=lasso_av.predict(X_val_av)\n",
    "    mses_av.append(mse(y_val_av,pred))\n",
    "    print(mse(y_val_av, pred))\n",
    "    \n",
    "plt.plot(alphas_av, mses_av)"
   ]
  },
  {
   "cell_type": "code",
   "execution_count": 857,
   "metadata": {
    "scrolled": true
   },
   "outputs": [
    {
     "name": "stdout",
     "output_type": "stream",
     "text": [
      "                      1\n",
      "0                      \n",
      "intercept      0.002703\n",
      "LotArea        0.046208\n",
      "OverallQual    0.296671\n",
      "OverallCond         0.0\n",
      "YearBuilt        0.0555\n",
      "YearRemodAdd   0.068304\n",
      "BsmtFinSF1     0.131313\n",
      "BsmtUnfSF          -0.0\n",
      "TotalBsmtSF    0.091206\n",
      "1stFlrSF       0.032112\n",
      "2ndFlrSF            0.0\n",
      "GrLivArea      0.287181\n",
      "FullBath            0.0\n",
      "HalfBath            0.0\n",
      "BedroomAbvGr       -0.0\n",
      "TotRmsAbvGrd        0.0\n",
      "Fireplaces     0.027517\n",
      "GarageCars     0.009254\n",
      "GarageArea      0.09078\n",
      "WoodDeckSF          0.0\n",
      "OpenPorchSF    0.000594\n",
      "EnclosedPorch      -0.0\n",
      "Blmngtn            -0.0\n",
      "Blueste            -0.0\n",
      "BrDale             -0.0\n",
      "BrkSide             0.0\n",
      "ClearCr             0.0\n",
      "CollgCr            -0.0\n",
      "Crawfor             0.0\n",
      "Edwards            -0.0\n",
      "Gilbert            -0.0\n",
      "IDOTRR             -0.0\n",
      "MeadowV            -0.0\n",
      "Mitchel            -0.0\n",
      "Names              -0.0\n",
      "NoRidge        0.006288\n",
      "NPkVill            -0.0\n",
      "NriddgHt       0.081712\n",
      "NWAmes             -0.0\n",
      "OLDTown            -0.0\n",
      "SWISU              -0.0\n",
      "Sawyer             -0.0\n",
      "SawyerW            -0.0\n",
      "Somerst             0.0\n",
      "StoneBr        0.028485\n",
      "Timber              0.0\n",
      "Veenker             0.0\n",
      "Bsmt Qual       0.03452\n",
      "streetft        0.02179\n",
      "0.12705984501246795\n",
      "0.1290402232055123\n",
      "0.131740549299056\n",
      "0.1352678003945451\n",
      "0.1395550329524958\n",
      "0.15127049709925036\n",
      "0.15908523449764217\n"
     ]
    },
    {
     "data": {
      "text/plain": [
       "[<matplotlib.lines.Line2D at 0x7f7b66ac1700>]"
      ]
     },
     "execution_count": 857,
     "metadata": {},
     "output_type": "execute_result"
    },
    {
     "data": {
      "image/png": "[encoded data removed]",
      "text/plain": [
       "<Figure size 432x288 with 1 Axes>"
      ]
     },
     "metadata": {
      "needs_background": "light"
     },
     "output_type": "display_data"
    }
   ],
   "source": [
    "lasso_r = Lasso(alpha=0.05)\n",
    "lasso_r.fit(X_train_r, y_train_r)\n",
    "\n",
    "coeffs_r = pd.DataFrame(\n",
    "    [\n",
    "        ['intercept'] + list(X_train_r.columns),\n",
    "        list(lasso_r.intercept_) + list(lasso_r.coef_)\n",
    "    ]\n",
    ").transpose().set_index(0)\n",
    "print(coeffs_r)\n",
    "\n",
    "alphas_r=[0.01/2, 0.02/2, 0.03/2, 0.04/2, 0.05/2, 0.075/2, 0.1/2]\n",
    "mses_r=[]\n",
    "for alpha in alphas_r:\n",
    "    lasso_r=Lasso(alpha=alpha)\n",
    "    lasso_r.fit(X_train_r,y_train_r)\n",
    "    pred=lasso_r.predict(X_val_r)\n",
    "    mses_r.append(mse(y_val_r,pred))\n",
    "    print(mse(y_val_r, pred))\n",
    "    \n",
    "plt.plot(alphas_r, mses_r)"
   ]
  },
  {
   "cell_type": "markdown",
   "metadata": {},
   "source": [
    "# PART B"
   ]
  },
  {
   "cell_type": "code",
   "execution_count": 858,
   "metadata": {},
   "outputs": [],
   "source": [
    "# Make sure to Run data cleaning 3 in question A before running this.\n",
    "data_b_raw=rd1.copy() \n",
    "data_b_raw[\"LotShape\"]=data_1[\"LotShape\"]"
   ]
  },
  {
   "cell_type": "code",
   "execution_count": 859,
   "metadata": {},
   "outputs": [
    {
     "data": {
      "text/html": [
       "<div>\n",
       "<style scoped>\n",
       "    .dataframe tbody tr th:only-of-type {\n",
       "        vertical-align: middle;\n",
       "    }\n",
       "\n",
       "    .dataframe tbody tr th {\n",
       "        vertical-align: top;\n",
       "    }\n",
       "\n",
       "    .dataframe thead th {\n",
       "        text-align: right;\n",
       "    }\n",
       "</style>\n",
       "<table border=\"1\" class=\"dataframe\">\n",
       "  <thead>\n",
       "    <tr style=\"text-align: right;\">\n",
       "      <th></th>\n",
       "      <th>LotArea</th>\n",
       "      <th>OverallQual</th>\n",
       "      <th>OverallCond</th>\n",
       "      <th>YearBuilt</th>\n",
       "      <th>YearRemodAdd</th>\n",
       "      <th>BsmtFinSF1</th>\n",
       "      <th>BsmtUnfSF</th>\n",
       "      <th>TotalBsmtSF</th>\n",
       "      <th>1stFlrSF</th>\n",
       "      <th>2ndFlrSF</th>\n",
       "      <th>...</th>\n",
       "      <th>Sawyer</th>\n",
       "      <th>SawyerW</th>\n",
       "      <th>Somerst</th>\n",
       "      <th>StoneBr</th>\n",
       "      <th>Timber</th>\n",
       "      <th>Veenker</th>\n",
       "      <th>Bsmt Qual</th>\n",
       "      <th>Sale Price</th>\n",
       "      <th>streetft</th>\n",
       "      <th>LotShape</th>\n",
       "    </tr>\n",
       "  </thead>\n",
       "  <tbody>\n",
       "    <tr>\n",
       "      <th>0</th>\n",
       "      <td>-0.199572</td>\n",
       "      <td>0.652747</td>\n",
       "      <td>-0.512407</td>\n",
       "      <td>1.038851</td>\n",
       "      <td>0.875754</td>\n",
       "      <td>0.597837</td>\n",
       "      <td>-0.937245</td>\n",
       "      <td>-0.482464</td>\n",
       "      <td>-0.808820</td>\n",
       "      <td>1.203988</td>\n",
       "      <td>...</td>\n",
       "      <td>-0.2253</td>\n",
       "      <td>-0.214192</td>\n",
       "      <td>-0.268378</td>\n",
       "      <td>-0.127929</td>\n",
       "      <td>-0.152629</td>\n",
       "      <td>-0.091644</td>\n",
       "      <td>0.584308</td>\n",
       "      <td>0.358489</td>\n",
       "      <td>-0.179975</td>\n",
       "      <td>Reg</td>\n",
       "    </tr>\n",
       "    <tr>\n",
       "      <th>1</th>\n",
       "      <td>-0.072005</td>\n",
       "      <td>-0.072527</td>\n",
       "      <td>2.189741</td>\n",
       "      <td>0.136810</td>\n",
       "      <td>-0.432225</td>\n",
       "      <td>1.218528</td>\n",
       "      <td>-0.635042</td>\n",
       "      <td>0.490326</td>\n",
       "      <td>0.276358</td>\n",
       "      <td>-0.789421</td>\n",
       "      <td>...</td>\n",
       "      <td>-0.2253</td>\n",
       "      <td>-0.214192</td>\n",
       "      <td>-0.268378</td>\n",
       "      <td>-0.127929</td>\n",
       "      <td>-0.152629</td>\n",
       "      <td>10.905682</td>\n",
       "      <td>0.584308</td>\n",
       "      <td>0.008849</td>\n",
       "      <td>0.481078</td>\n",
       "      <td>Reg</td>\n",
       "    </tr>\n",
       "    <tr>\n",
       "      <th>2</th>\n",
       "      <td>0.111026</td>\n",
       "      <td>0.652747</td>\n",
       "      <td>-0.512407</td>\n",
       "      <td>0.972033</td>\n",
       "      <td>0.827310</td>\n",
       "      <td>0.095808</td>\n",
       "      <td>-0.296754</td>\n",
       "      <td>-0.329118</td>\n",
       "      <td>-0.637758</td>\n",
       "      <td>1.231999</td>\n",
       "      <td>...</td>\n",
       "      <td>-0.2253</td>\n",
       "      <td>-0.214192</td>\n",
       "      <td>-0.268378</td>\n",
       "      <td>-0.127929</td>\n",
       "      <td>-0.152629</td>\n",
       "      <td>-0.091644</td>\n",
       "      <td>0.584308</td>\n",
       "      <td>0.552733</td>\n",
       "      <td>-0.047764</td>\n",
       "      <td>IR1</td>\n",
       "    </tr>\n",
       "    <tr>\n",
       "      <th>3</th>\n",
       "      <td>-0.077551</td>\n",
       "      <td>0.652747</td>\n",
       "      <td>-0.512407</td>\n",
       "      <td>-1.901135</td>\n",
       "      <td>-0.722887</td>\n",
       "      <td>-0.520319</td>\n",
       "      <td>-0.057698</td>\n",
       "      <td>-0.722067</td>\n",
       "      <td>-0.528171</td>\n",
       "      <td>0.975236</td>\n",
       "      <td>...</td>\n",
       "      <td>-0.2253</td>\n",
       "      <td>-0.214192</td>\n",
       "      <td>-0.268378</td>\n",
       "      <td>-0.127929</td>\n",
       "      <td>-0.152629</td>\n",
       "      <td>-0.091644</td>\n",
       "      <td>-0.577852</td>\n",
       "      <td>-0.528560</td>\n",
       "      <td>-0.400326</td>\n",
       "      <td>IR1</td>\n",
       "    </tr>\n",
       "    <tr>\n",
       "      <th>4</th>\n",
       "      <td>0.444919</td>\n",
       "      <td>1.378022</td>\n",
       "      <td>-0.512407</td>\n",
       "      <td>0.938624</td>\n",
       "      <td>0.730423</td>\n",
       "      <td>0.481458</td>\n",
       "      <td>-0.170461</td>\n",
       "      <td>0.209990</td>\n",
       "      <td>-0.036366</td>\n",
       "      <td>1.668495</td>\n",
       "      <td>...</td>\n",
       "      <td>-0.2253</td>\n",
       "      <td>-0.214192</td>\n",
       "      <td>-0.268378</td>\n",
       "      <td>-0.127929</td>\n",
       "      <td>-0.152629</td>\n",
       "      <td>-0.091644</td>\n",
       "      <td>0.584308</td>\n",
       "      <td>0.895898</td>\n",
       "      <td>0.657359</td>\n",
       "      <td>IR1</td>\n",
       "    </tr>\n",
       "  </tbody>\n",
       "</table>\n",
       "<p>5 rows × 50 columns</p>\n",
       "</div>"
      ],
      "text/plain": [
       "    LotArea  OverallQual  OverallCond  YearBuilt  YearRemodAdd  BsmtFinSF1  \\\n",
       "0 -0.199572     0.652747    -0.512407   1.038851      0.875754    0.597837   \n",
       "1 -0.072005    -0.072527     2.189741   0.136810     -0.432225    1.218528   \n",
       "2  0.111026     0.652747    -0.512407   0.972033      0.827310    0.095808   \n",
       "3 -0.077551     0.652747    -0.512407  -1.901135     -0.722887   -0.520319   \n",
       "4  0.444919     1.378022    -0.512407   0.938624      0.730423    0.481458   \n",
       "\n",
       "   BsmtUnfSF  TotalBsmtSF  1stFlrSF  2ndFlrSF  ...  Sawyer   SawyerW  \\\n",
       "0  -0.937245    -0.482464 -0.808820  1.203988  ... -0.2253 -0.214192   \n",
       "1  -0.635042     0.490326  0.276358 -0.789421  ... -0.2253 -0.214192   \n",
       "2  -0.296754    -0.329118 -0.637758  1.231999  ... -0.2253 -0.214192   \n",
       "3  -0.057698    -0.722067 -0.528171  0.975236  ... -0.2253 -0.214192   \n",
       "4  -0.170461     0.209990 -0.036366  1.668495  ... -0.2253 -0.214192   \n",
       "\n",
       "    Somerst   StoneBr    Timber    Veenker  Bsmt Qual  Sale Price  streetft  \\\n",
       "0 -0.268378 -0.127929 -0.152629  -0.091644   0.584308    0.358489 -0.179975   \n",
       "1 -0.268378 -0.127929 -0.152629  10.905682   0.584308    0.008849  0.481078   \n",
       "2 -0.268378 -0.127929 -0.152629  -0.091644   0.584308    0.552733 -0.047764   \n",
       "3 -0.268378 -0.127929 -0.152629  -0.091644  -0.577852   -0.528560 -0.400326   \n",
       "4 -0.268378 -0.127929 -0.152629  -0.091644   0.584308    0.895898  0.657359   \n",
       "\n",
       "   LotShape  \n",
       "0       Reg  \n",
       "1       Reg  \n",
       "2       IR1  \n",
       "3       IR1  \n",
       "4       IR1  \n",
       "\n",
       "[5 rows x 50 columns]"
      ]
     },
     "execution_count": 859,
     "metadata": {},
     "output_type": "execute_result"
    }
   ],
   "source": [
    "data_b_raw.head()"
   ]
  },
  {
   "cell_type": "code",
   "execution_count": 860,
   "metadata": {},
   "outputs": [],
   "source": [
    "# Names for columns and values for ordered dummy variables\n",
    "LotShapes = [ \"Regular\",\"Irregular1\", \"Irregular2\", \"Irregular3\"]\n",
    "factors=[4,3,2,1]\n",
    "# Creates dummy variables\n",
    "Dummies_OneHot=pd.get_dummies(data=data_b_raw[['LotShape']])\n"
   ]
  },
  {
   "cell_type": "code",
   "execution_count": 861,
   "metadata": {},
   "outputs": [
    {
     "data": {
      "text/plain": [
       "['LotShape_Reg', 'LotShape_IR1', 'LotShape_IR2', 'LotShape_IR3']"
      ]
     },
     "execution_count": 861,
     "metadata": {},
     "output_type": "execute_result"
    }
   ],
   "source": [
    "#Reorders columns\n",
    "Unordered_Cols=Dummies_OneHot.columns\n",
    "Ordered_cols=[]\n",
    "for i in range(-1,len(Unordered_Cols)-1):\n",
    "    Ordered_cols.append(Unordered_Cols[i])\n",
    "Ordered_cols"
   ]
  },
  {
   "cell_type": "code",
   "execution_count": 862,
   "metadata": {},
   "outputs": [
    {
     "data": {
      "text/html": [
       "<div>\n",
       "<style scoped>\n",
       "    .dataframe tbody tr th:only-of-type {\n",
       "        vertical-align: middle;\n",
       "    }\n",
       "\n",
       "    .dataframe tbody tr th {\n",
       "        vertical-align: top;\n",
       "    }\n",
       "\n",
       "    .dataframe thead th {\n",
       "        text-align: right;\n",
       "    }\n",
       "</style>\n",
       "<table border=\"1\" class=\"dataframe\">\n",
       "  <thead>\n",
       "    <tr style=\"text-align: right;\">\n",
       "      <th></th>\n",
       "      <th>Regular</th>\n",
       "      <th>Irregular1</th>\n",
       "      <th>Irregular2</th>\n",
       "      <th>Irregular3</th>\n",
       "      <th>Id</th>\n",
       "    </tr>\n",
       "  </thead>\n",
       "  <tbody>\n",
       "    <tr>\n",
       "      <th>0</th>\n",
       "      <td>0</td>\n",
       "      <td>0</td>\n",
       "      <td>0</td>\n",
       "      <td>1</td>\n",
       "      <td>1</td>\n",
       "    </tr>\n",
       "    <tr>\n",
       "      <th>1</th>\n",
       "      <td>0</td>\n",
       "      <td>0</td>\n",
       "      <td>0</td>\n",
       "      <td>1</td>\n",
       "      <td>2</td>\n",
       "    </tr>\n",
       "    <tr>\n",
       "      <th>2</th>\n",
       "      <td>4</td>\n",
       "      <td>0</td>\n",
       "      <td>0</td>\n",
       "      <td>0</td>\n",
       "      <td>3</td>\n",
       "    </tr>\n",
       "    <tr>\n",
       "      <th>3</th>\n",
       "      <td>4</td>\n",
       "      <td>0</td>\n",
       "      <td>0</td>\n",
       "      <td>0</td>\n",
       "      <td>4</td>\n",
       "    </tr>\n",
       "    <tr>\n",
       "      <th>4</th>\n",
       "      <td>4</td>\n",
       "      <td>0</td>\n",
       "      <td>0</td>\n",
       "      <td>0</td>\n",
       "      <td>5</td>\n",
       "    </tr>\n",
       "    <tr>\n",
       "      <th>...</th>\n",
       "      <td>...</td>\n",
       "      <td>...</td>\n",
       "      <td>...</td>\n",
       "      <td>...</td>\n",
       "      <td>...</td>\n",
       "    </tr>\n",
       "    <tr>\n",
       "      <th>481</th>\n",
       "      <td>4</td>\n",
       "      <td>0</td>\n",
       "      <td>0</td>\n",
       "      <td>0</td>\n",
       "      <td>482</td>\n",
       "    </tr>\n",
       "    <tr>\n",
       "      <th>482</th>\n",
       "      <td>0</td>\n",
       "      <td>0</td>\n",
       "      <td>0</td>\n",
       "      <td>1</td>\n",
       "      <td>483</td>\n",
       "    </tr>\n",
       "    <tr>\n",
       "      <th>483</th>\n",
       "      <td>0</td>\n",
       "      <td>0</td>\n",
       "      <td>0</td>\n",
       "      <td>1</td>\n",
       "      <td>484</td>\n",
       "    </tr>\n",
       "    <tr>\n",
       "      <th>484</th>\n",
       "      <td>4</td>\n",
       "      <td>0</td>\n",
       "      <td>0</td>\n",
       "      <td>0</td>\n",
       "      <td>485</td>\n",
       "    </tr>\n",
       "    <tr>\n",
       "      <th>485</th>\n",
       "      <td>0</td>\n",
       "      <td>0</td>\n",
       "      <td>0</td>\n",
       "      <td>1</td>\n",
       "      <td>486</td>\n",
       "    </tr>\n",
       "  </tbody>\n",
       "</table>\n",
       "<p>2908 rows × 5 columns</p>\n",
       "</div>"
      ],
      "text/plain": [
       "     Regular  Irregular1  Irregular2  Irregular3   Id\n",
       "0          0           0           0           1    1\n",
       "1          0           0           0           1    2\n",
       "2          4           0           0           0    3\n",
       "3          4           0           0           0    4\n",
       "4          4           0           0           0    5\n",
       "..       ...         ...         ...         ...  ...\n",
       "481        4           0           0           0  482\n",
       "482        0           0           0           1  483\n",
       "483        0           0           0           1  484\n",
       "484        4           0           0           0  485\n",
       "485        0           0           0           1  486\n",
       "\n",
       "[2908 rows x 5 columns]"
      ]
     },
     "execution_count": 862,
     "metadata": {},
     "output_type": "execute_result"
    }
   ],
   "source": [
    "# Creates the dataframe with scaled values for the dummies 4 for regular 3 for Iregular 1 and so on. \n",
    "Dummies_OneHot.set_axis(LotShapes,axis=1,inplace=True)\n",
    "Dummies_ordered=Dummies_OneHot.copy()\n",
    "for i in range(4):\n",
    "    Dummies_ordered[LotShapes[i]]=Dummies_OneHot[LotShapes[i]]*factors[i]\n",
    "Dummies_ordered[\"Id\"]=c[\"Id\"]    \n",
    "Dummies_ordered\n"
   ]
  },
  {
   "cell_type": "code",
   "execution_count": 863,
   "metadata": {},
   "outputs": [
    {
     "data": {
      "text/html": [
       "<div>\n",
       "<style scoped>\n",
       "    .dataframe tbody tr th:only-of-type {\n",
       "        vertical-align: middle;\n",
       "    }\n",
       "\n",
       "    .dataframe tbody tr th {\n",
       "        vertical-align: top;\n",
       "    }\n",
       "\n",
       "    .dataframe thead th {\n",
       "        text-align: right;\n",
       "    }\n",
       "</style>\n",
       "<table border=\"1\" class=\"dataframe\">\n",
       "  <thead>\n",
       "    <tr style=\"text-align: right;\">\n",
       "      <th></th>\n",
       "      <th>LotArea</th>\n",
       "      <th>OverallQual</th>\n",
       "      <th>OverallCond</th>\n",
       "      <th>YearBuilt</th>\n",
       "      <th>YearRemodAdd</th>\n",
       "      <th>BsmtFinSF1</th>\n",
       "      <th>BsmtUnfSF</th>\n",
       "      <th>TotalBsmtSF</th>\n",
       "      <th>1stFlrSF</th>\n",
       "      <th>2ndFlrSF</th>\n",
       "      <th>...</th>\n",
       "      <th>StoneBr</th>\n",
       "      <th>Timber</th>\n",
       "      <th>Veenker</th>\n",
       "      <th>Bsmt Qual</th>\n",
       "      <th>Sale Price</th>\n",
       "      <th>streetft</th>\n",
       "      <th>Regular</th>\n",
       "      <th>Irregular1</th>\n",
       "      <th>Irregular2</th>\n",
       "      <th>Irregular3</th>\n",
       "    </tr>\n",
       "  </thead>\n",
       "  <tbody>\n",
       "    <tr>\n",
       "      <th>0</th>\n",
       "      <td>-0.199572</td>\n",
       "      <td>0.652747</td>\n",
       "      <td>-0.512407</td>\n",
       "      <td>1.038851</td>\n",
       "      <td>0.875754</td>\n",
       "      <td>0.597837</td>\n",
       "      <td>-0.937245</td>\n",
       "      <td>-0.482464</td>\n",
       "      <td>-0.808820</td>\n",
       "      <td>1.203988</td>\n",
       "      <td>...</td>\n",
       "      <td>-0.127929</td>\n",
       "      <td>-0.152629</td>\n",
       "      <td>-0.091644</td>\n",
       "      <td>0.584308</td>\n",
       "      <td>0.358489</td>\n",
       "      <td>-0.179975</td>\n",
       "      <td>0</td>\n",
       "      <td>0</td>\n",
       "      <td>0</td>\n",
       "      <td>1</td>\n",
       "    </tr>\n",
       "    <tr>\n",
       "      <th>1</th>\n",
       "      <td>-0.199572</td>\n",
       "      <td>0.652747</td>\n",
       "      <td>-0.512407</td>\n",
       "      <td>1.038851</td>\n",
       "      <td>0.875754</td>\n",
       "      <td>0.597837</td>\n",
       "      <td>-0.937245</td>\n",
       "      <td>-0.482464</td>\n",
       "      <td>-0.808820</td>\n",
       "      <td>1.203988</td>\n",
       "      <td>...</td>\n",
       "      <td>-0.127929</td>\n",
       "      <td>-0.152629</td>\n",
       "      <td>-0.091644</td>\n",
       "      <td>0.584308</td>\n",
       "      <td>0.358489</td>\n",
       "      <td>-0.179975</td>\n",
       "      <td>0</td>\n",
       "      <td>0</td>\n",
       "      <td>0</td>\n",
       "      <td>1</td>\n",
       "    </tr>\n",
       "    <tr>\n",
       "      <th>2</th>\n",
       "      <td>0.014741</td>\n",
       "      <td>0.652747</td>\n",
       "      <td>0.388309</td>\n",
       "      <td>0.036583</td>\n",
       "      <td>-0.577556</td>\n",
       "      <td>0.946976</td>\n",
       "      <td>-0.788399</td>\n",
       "      <td>0.118940</td>\n",
       "      <td>-0.137934</td>\n",
       "      <td>1.505100</td>\n",
       "      <td>...</td>\n",
       "      <td>-0.127929</td>\n",
       "      <td>-0.152629</td>\n",
       "      <td>-0.091644</td>\n",
       "      <td>0.584308</td>\n",
       "      <td>0.248417</td>\n",
       "      <td>-1.550895</td>\n",
       "      <td>0</td>\n",
       "      <td>0</td>\n",
       "      <td>0</td>\n",
       "      <td>1</td>\n",
       "    </tr>\n",
       "    <tr>\n",
       "      <th>3</th>\n",
       "      <td>0.014741</td>\n",
       "      <td>0.652747</td>\n",
       "      <td>0.388309</td>\n",
       "      <td>0.036583</td>\n",
       "      <td>-0.577556</td>\n",
       "      <td>0.946976</td>\n",
       "      <td>-0.788399</td>\n",
       "      <td>0.118940</td>\n",
       "      <td>-0.137934</td>\n",
       "      <td>1.505100</td>\n",
       "      <td>...</td>\n",
       "      <td>-0.127929</td>\n",
       "      <td>-0.152629</td>\n",
       "      <td>-0.091644</td>\n",
       "      <td>0.584308</td>\n",
       "      <td>0.248417</td>\n",
       "      <td>-1.550895</td>\n",
       "      <td>0</td>\n",
       "      <td>0</td>\n",
       "      <td>0</td>\n",
       "      <td>1</td>\n",
       "    </tr>\n",
       "    <tr>\n",
       "      <th>4</th>\n",
       "      <td>-0.072005</td>\n",
       "      <td>-0.072527</td>\n",
       "      <td>2.189741</td>\n",
       "      <td>0.136810</td>\n",
       "      <td>-0.432225</td>\n",
       "      <td>1.218528</td>\n",
       "      <td>-0.635042</td>\n",
       "      <td>0.490326</td>\n",
       "      <td>0.276358</td>\n",
       "      <td>-0.789421</td>\n",
       "      <td>...</td>\n",
       "      <td>-0.127929</td>\n",
       "      <td>-0.152629</td>\n",
       "      <td>10.905682</td>\n",
       "      <td>0.584308</td>\n",
       "      <td>0.008849</td>\n",
       "      <td>0.481078</td>\n",
       "      <td>0</td>\n",
       "      <td>0</td>\n",
       "      <td>0</td>\n",
       "      <td>1</td>\n",
       "    </tr>\n",
       "    <tr>\n",
       "      <th>...</th>\n",
       "      <td>...</td>\n",
       "      <td>...</td>\n",
       "      <td>...</td>\n",
       "      <td>...</td>\n",
       "      <td>...</td>\n",
       "      <td>...</td>\n",
       "      <td>...</td>\n",
       "      <td>...</td>\n",
       "      <td>...</td>\n",
       "      <td>...</td>\n",
       "      <td>...</td>\n",
       "      <td>...</td>\n",
       "      <td>...</td>\n",
       "      <td>...</td>\n",
       "      <td>...</td>\n",
       "      <td>...</td>\n",
       "      <td>...</td>\n",
       "      <td>...</td>\n",
       "      <td>...</td>\n",
       "      <td>...</td>\n",
       "      <td>...</td>\n",
       "    </tr>\n",
       "    <tr>\n",
       "      <th>3705</th>\n",
       "      <td>-0.111939</td>\n",
       "      <td>-0.797802</td>\n",
       "      <td>0.388309</td>\n",
       "      <td>-0.330915</td>\n",
       "      <td>0.827310</td>\n",
       "      <td>0.383334</td>\n",
       "      <td>-0.707210</td>\n",
       "      <td>-0.463296</td>\n",
       "      <td>0.140043</td>\n",
       "      <td>-0.789421</td>\n",
       "      <td>...</td>\n",
       "      <td>-0.127929</td>\n",
       "      <td>-0.152629</td>\n",
       "      <td>-0.091644</td>\n",
       "      <td>-0.577852</td>\n",
       "      <td>-0.476762</td>\n",
       "      <td>1.111602</td>\n",
       "      <td>0</td>\n",
       "      <td>0</td>\n",
       "      <td>0</td>\n",
       "      <td>1</td>\n",
       "    </tr>\n",
       "    <tr>\n",
       "      <th>3706</th>\n",
       "      <td>-0.104396</td>\n",
       "      <td>-0.797802</td>\n",
       "      <td>-0.512407</td>\n",
       "      <td>-0.230689</td>\n",
       "      <td>-0.965106</td>\n",
       "      <td>0.250980</td>\n",
       "      <td>-0.305775</td>\n",
       "      <td>-0.175772</td>\n",
       "      <td>-0.466695</td>\n",
       "      <td>-0.789421</td>\n",
       "      <td>...</td>\n",
       "      <td>-0.127929</td>\n",
       "      <td>-0.152629</td>\n",
       "      <td>-0.091644</td>\n",
       "      <td>-0.577852</td>\n",
       "      <td>-0.709855</td>\n",
       "      <td>0.321879</td>\n",
       "      <td>4</td>\n",
       "      <td>0</td>\n",
       "      <td>0</td>\n",
       "      <td>0</td>\n",
       "    </tr>\n",
       "    <tr>\n",
       "      <th>3707</th>\n",
       "      <td>-0.643617</td>\n",
       "      <td>0.652747</td>\n",
       "      <td>-0.512407</td>\n",
       "      <td>1.038851</td>\n",
       "      <td>0.875754</td>\n",
       "      <td>-1.013221</td>\n",
       "      <td>-0.080251</td>\n",
       "      <td>-1.263571</td>\n",
       "      <td>-1.680171</td>\n",
       "      <td>0.494391</td>\n",
       "      <td>...</td>\n",
       "      <td>-0.127929</td>\n",
       "      <td>-0.152629</td>\n",
       "      <td>-0.091644</td>\n",
       "      <td>0.584308</td>\n",
       "      <td>-0.541510</td>\n",
       "      <td>1.562873</td>\n",
       "      <td>0</td>\n",
       "      <td>0</td>\n",
       "      <td>0</td>\n",
       "      <td>1</td>\n",
       "    </tr>\n",
       "    <tr>\n",
       "      <th>3708</th>\n",
       "      <td>-0.070896</td>\n",
       "      <td>-0.072527</td>\n",
       "      <td>0.388309</td>\n",
       "      <td>-0.464551</td>\n",
       "      <td>-1.304211</td>\n",
       "      <td>-0.549985</td>\n",
       "      <td>0.794786</td>\n",
       "      <td>0.152485</td>\n",
       "      <td>0.474149</td>\n",
       "      <td>-0.789421</td>\n",
       "      <td>...</td>\n",
       "      <td>-0.127929</td>\n",
       "      <td>-0.152629</td>\n",
       "      <td>-0.091644</td>\n",
       "      <td>-0.577852</td>\n",
       "      <td>-0.243669</td>\n",
       "      <td>0.186497</td>\n",
       "      <td>4</td>\n",
       "      <td>0</td>\n",
       "      <td>0</td>\n",
       "      <td>0</td>\n",
       "    </tr>\n",
       "    <tr>\n",
       "      <th>3709</th>\n",
       "      <td>-0.238619</td>\n",
       "      <td>-0.072527</td>\n",
       "      <td>-0.512407</td>\n",
       "      <td>0.938624</td>\n",
       "      <td>0.730423</td>\n",
       "      <td>1.579077</td>\n",
       "      <td>-0.984606</td>\n",
       "      <td>0.775454</td>\n",
       "      <td>0.653231</td>\n",
       "      <td>-0.789421</td>\n",
       "      <td>...</td>\n",
       "      <td>-0.127929</td>\n",
       "      <td>6.548176</td>\n",
       "      <td>-0.091644</td>\n",
       "      <td>0.584308</td>\n",
       "      <td>0.274316</td>\n",
       "      <td>-1.257569</td>\n",
       "      <td>4</td>\n",
       "      <td>0</td>\n",
       "      <td>0</td>\n",
       "      <td>0</td>\n",
       "    </tr>\n",
       "  </tbody>\n",
       "</table>\n",
       "<p>3710 rows × 53 columns</p>\n",
       "</div>"
      ],
      "text/plain": [
       "       LotArea  OverallQual  OverallCond  YearBuilt  YearRemodAdd  BsmtFinSF1  \\\n",
       "0    -0.199572     0.652747    -0.512407   1.038851      0.875754    0.597837   \n",
       "1    -0.199572     0.652747    -0.512407   1.038851      0.875754    0.597837   \n",
       "2     0.014741     0.652747     0.388309   0.036583     -0.577556    0.946976   \n",
       "3     0.014741     0.652747     0.388309   0.036583     -0.577556    0.946976   \n",
       "4    -0.072005    -0.072527     2.189741   0.136810     -0.432225    1.218528   \n",
       "...        ...          ...          ...        ...           ...         ...   \n",
       "3705 -0.111939    -0.797802     0.388309  -0.330915      0.827310    0.383334   \n",
       "3706 -0.104396    -0.797802    -0.512407  -0.230689     -0.965106    0.250980   \n",
       "3707 -0.643617     0.652747    -0.512407   1.038851      0.875754   -1.013221   \n",
       "3708 -0.070896    -0.072527     0.388309  -0.464551     -1.304211   -0.549985   \n",
       "3709 -0.238619    -0.072527    -0.512407   0.938624      0.730423    1.579077   \n",
       "\n",
       "      BsmtUnfSF  TotalBsmtSF  1stFlrSF  2ndFlrSF  ...   StoneBr    Timber  \\\n",
       "0     -0.937245    -0.482464 -0.808820  1.203988  ... -0.127929 -0.152629   \n",
       "1     -0.937245    -0.482464 -0.808820  1.203988  ... -0.127929 -0.152629   \n",
       "2     -0.788399     0.118940 -0.137934  1.505100  ... -0.127929 -0.152629   \n",
       "3     -0.788399     0.118940 -0.137934  1.505100  ... -0.127929 -0.152629   \n",
       "4     -0.635042     0.490326  0.276358 -0.789421  ... -0.127929 -0.152629   \n",
       "...         ...          ...       ...       ...  ...       ...       ...   \n",
       "3705  -0.707210    -0.463296  0.140043 -0.789421  ... -0.127929 -0.152629   \n",
       "3706  -0.305775    -0.175772 -0.466695 -0.789421  ... -0.127929 -0.152629   \n",
       "3707  -0.080251    -1.263571 -1.680171  0.494391  ... -0.127929 -0.152629   \n",
       "3708   0.794786     0.152485  0.474149 -0.789421  ... -0.127929 -0.152629   \n",
       "3709  -0.984606     0.775454  0.653231 -0.789421  ... -0.127929  6.548176   \n",
       "\n",
       "        Veenker  Bsmt Qual  Sale Price  streetft  Regular  Irregular1  \\\n",
       "0     -0.091644   0.584308    0.358489 -0.179975        0           0   \n",
       "1     -0.091644   0.584308    0.358489 -0.179975        0           0   \n",
       "2     -0.091644   0.584308    0.248417 -1.550895        0           0   \n",
       "3     -0.091644   0.584308    0.248417 -1.550895        0           0   \n",
       "4     10.905682   0.584308    0.008849  0.481078        0           0   \n",
       "...         ...        ...         ...       ...      ...         ...   \n",
       "3705  -0.091644  -0.577852   -0.476762  1.111602        0           0   \n",
       "3706  -0.091644  -0.577852   -0.709855  0.321879        4           0   \n",
       "3707  -0.091644   0.584308   -0.541510  1.562873        0           0   \n",
       "3708  -0.091644  -0.577852   -0.243669  0.186497        4           0   \n",
       "3709  -0.091644   0.584308    0.274316 -1.257569        4           0   \n",
       "\n",
       "      Irregular2  Irregular3  \n",
       "0              0           1  \n",
       "1              0           1  \n",
       "2              0           1  \n",
       "3              0           1  \n",
       "4              0           1  \n",
       "...          ...         ...  \n",
       "3705           0           1  \n",
       "3706           0           0  \n",
       "3707           0           1  \n",
       "3708           0           0  \n",
       "3709           0           0  \n",
       "\n",
       "[3710 rows x 53 columns]"
      ]
     },
     "execution_count": 863,
     "metadata": {},
     "output_type": "execute_result"
    }
   ],
   "source": [
    "#Merges with original datafram and removes lotshape\n",
    "data_b_raw[\"Id\"]=c[\"Id\"]\n",
    "Data_B = pd.merge(data_b_raw,Dummies_ordered , on='Id')\n",
    "Data_B=Data_B.drop([\"Id\",\"LotShape\"],axis=1)\n",
    "Data_B\n"
   ]
  },
  {
   "cell_type": "code",
   "execution_count": 864,
   "metadata": {},
   "outputs": [],
   "source": [
    "# Divide in training validation and test\n",
    "train_B = Data_B.iloc[:1800] \n",
    "val_B = Data_B.iloc[1800:2400]\n",
    "test_B = Data_B.iloc[2400:]"
   ]
  },
  {
   "cell_type": "code",
   "execution_count": 865,
   "metadata": {},
   "outputs": [],
   "source": [
    "# Get X and Y\n",
    "X_train_B, X_val_B, X_test_B = train_B.drop('Sale Price', axis=1), val_B.drop('Sale Price', axis=1), test_B.drop('Sale Price', axis=1)\n",
    "y_train_B, y_val_B, y_test_B = train_B[['Sale Price']], val_B[['Sale Price']], test_B[['Sale Price']] "
   ]
  },
  {
   "cell_type": "markdown",
   "metadata": {},
   "source": [
    "Linear Regression"
   ]
  },
  {
   "cell_type": "code",
   "execution_count": 866,
   "metadata": {},
   "outputs": [
    {
     "data": {
      "text/html": [
       "<style>#sk-container-id-48 {color: black;background-color: white;}#sk-container-id-48 pre{padding: 0;}#sk-container-id-48 div.sk-toggleable {background-color: white;}#sk-container-id-48 label.sk-toggleable__label {cursor: pointer;display: block;width: 100%;margin-bottom: 0;padding: 0.3em;box-sizing: border-box;text-align: center;}#sk-container-id-48 label.sk-toggleable__label-arrow:before {content: \"▸\";float: left;margin-right: 0.25em;color: #696969;}#sk-container-id-48 label.sk-toggleable__label-arrow:hover:before {color: black;}#sk-container-id-48 div.sk-estimator:hover label.sk-toggleable__label-arrow:before {color: black;}#sk-container-id-48 div.sk-toggleable__content {max-height: 0;max-width: 0;overflow: hidden;text-align: left;background-color: #f0f8ff;}#sk-container-id-48 div.sk-toggleable__content pre {margin: 0.2em;color: black;border-radius: 0.25em;background-color: #f0f8ff;}#sk-container-id-48 input.sk-toggleable__control:checked~div.sk-toggleable__content {max-height: 200px;max-width: 100%;overflow: auto;}#sk-container-id-48 input.sk-toggleable__control:checked~label.sk-toggleable__label-arrow:before {content: \"▾\";}#sk-container-id-48 div.sk-estimator input.sk-toggleable__control:checked~label.sk-toggleable__label {background-color: #d4ebff;}#sk-container-id-48 div.sk-label input.sk-toggleable__control:checked~label.sk-toggleable__label {background-color: #d4ebff;}#sk-container-id-48 input.sk-hidden--visually {border: 0;clip: rect(1px 1px 1px 1px);clip: rect(1px, 1px, 1px, 1px);height: 1px;margin: -1px;overflow: hidden;padding: 0;position: absolute;width: 1px;}#sk-container-id-48 div.sk-estimator {font-family: monospace;background-color: #f0f8ff;border: 1px dotted black;border-radius: 0.25em;box-sizing: border-box;margin-bottom: 0.5em;}#sk-container-id-48 div.sk-estimator:hover {background-color: #d4ebff;}#sk-container-id-48 div.sk-parallel-item::after {content: \"\";width: 100%;border-bottom: 1px solid gray;flex-grow: 1;}#sk-container-id-48 div.sk-label:hover label.sk-toggleable__label {background-color: #d4ebff;}#sk-container-id-48 div.sk-serial::before {content: \"\";position: absolute;border-left: 1px solid gray;box-sizing: border-box;top: 0;bottom: 0;left: 50%;z-index: 0;}#sk-container-id-48 div.sk-serial {display: flex;flex-direction: column;align-items: center;background-color: white;padding-right: 0.2em;padding-left: 0.2em;position: relative;}#sk-container-id-48 div.sk-item {position: relative;z-index: 1;}#sk-container-id-48 div.sk-parallel {display: flex;align-items: stretch;justify-content: center;background-color: white;position: relative;}#sk-container-id-48 div.sk-item::before, #sk-container-id-48 div.sk-parallel-item::before {content: \"\";position: absolute;border-left: 1px solid gray;box-sizing: border-box;top: 0;bottom: 0;left: 50%;z-index: -1;}#sk-container-id-48 div.sk-parallel-item {display: flex;flex-direction: column;z-index: 1;position: relative;background-color: white;}#sk-container-id-48 div.sk-parallel-item:first-child::after {align-self: flex-end;width: 50%;}#sk-container-id-48 div.sk-parallel-item:last-child::after {align-self: flex-start;width: 50%;}#sk-container-id-48 div.sk-parallel-item:only-child::after {width: 0;}#sk-container-id-48 div.sk-dashed-wrapped {border: 1px dashed gray;margin: 0 0.4em 0.5em 0.4em;box-sizing: border-box;padding-bottom: 0.4em;background-color: white;}#sk-container-id-48 div.sk-label label {font-family: monospace;font-weight: bold;display: inline-block;line-height: 1.2em;}#sk-container-id-48 div.sk-label-container {text-align: center;}#sk-container-id-48 div.sk-container {/* jupyter's `normalize.less` sets `[hidden] { display: none; }` but bootstrap.min.css set `[hidden] { display: none !important; }` so we also need the `!important` here to be able to override the default hidden behavior on the sphinx rendered scikit-learn.org. See: https://github.com/scikit-learn/scikit-learn/issues/21755 */display: inline-block !important;position: relative;}#sk-container-id-48 div.sk-text-repr-fallback {display: none;}</style><div id=\"sk-container-id-48\" class=\"sk-top-container\"><div class=\"sk-text-repr-fallback\"><pre>LinearRegression()</pre><b>In a Jupyter environment, please rerun this cell to show the HTML representation or trust the notebook. <br />On GitHub, the HTML representation is unable to render, please try loading this page with nbviewer.org.</b></div><div class=\"sk-container\" hidden><div class=\"sk-item\"><div class=\"sk-estimator sk-toggleable\"><input class=\"sk-toggleable__control sk-hidden--visually\" id=\"sk-estimator-id-48\" type=\"checkbox\" checked><label for=\"sk-estimator-id-48\" class=\"sk-toggleable__label sk-toggleable__label-arrow\">LinearRegression</label><div class=\"sk-toggleable__content\"><pre>LinearRegression()</pre></div></div></div></div></div>"
      ],
      "text/plain": [
       "LinearRegression()"
      ]
     },
     "execution_count": 866,
     "metadata": {},
     "output_type": "execute_result"
    }
   ],
   "source": [
    "lr_B=LinearRegression()\n",
    "lr_B.fit(X_train_B,y_train_B)"
   ]
  },
  {
   "cell_type": "code",
   "execution_count": 867,
   "metadata": {},
   "outputs": [],
   "source": [
    "coeffs_B = pd.DataFrame(\n",
    "    [\n",
    "        ['intercept'] + list(X_train_B.columns),\n",
    "        list(lr_B.intercept_) + list(lr_B.coef_[0])\n",
    "    ]\n",
    ").transpose().set_index(0)\n",
    "#coeffs_B"
   ]
  },
  {
   "cell_type": "code",
   "execution_count": 868,
   "metadata": {},
   "outputs": [
    {
     "data": {
      "text/plain": [
       "0.8954478868638911"
      ]
     },
     "execution_count": 868,
     "metadata": {},
     "output_type": "execute_result"
    }
   ],
   "source": [
    "lr_B.score(X_train_B,y_train_B)"
   ]
  },
  {
   "cell_type": "code",
   "execution_count": 869,
   "metadata": {
    "scrolled": true
   },
   "outputs": [
    {
     "name": "stdout",
     "output_type": "stream",
     "text": [
      "[-0.79867966]\n",
      "[117864.11109302]\n"
     ]
    }
   ],
   "source": [
    "ypred_B = lr_B.predict(X_test_B)\n",
    "\n",
    "print(ypred_B[0])\n",
    "print((ypred_B[0]*data_1['SalePrice'].std())+data_1['SalePrice'].mean())"
   ]
  },
  {
   "cell_type": "markdown",
   "metadata": {},
   "source": [
    "Ridge"
   ]
  },
  {
   "cell_type": "code",
   "execution_count": 870,
   "metadata": {},
   "outputs": [
    {
     "name": "stdout",
     "output_type": "stream",
     "text": [
      "0.14589191374835342\n",
      "0.14571561738173497\n",
      "0.14563655603032993\n",
      "0.1456270274457186\n",
      "0.14567152742960102\n",
      "0.14595883951305022\n",
      "0.1464274577865855\n",
      "0.14927986608928487\n",
      "0.15676726362072146\n"
     ]
    },
    {
     "data": {
      "text/plain": [
       "[<matplotlib.lines.Line2D at 0x7f7b651393a0>]"
      ]
     },
     "execution_count": 870,
     "metadata": {},
     "output_type": "execute_result"
    },
    {
     "data": {
      "image/png": "[encoded data removed]",
      "text/plain": [
       "<Figure size 432x288 with 1 Axes>"
      ]
     },
     "metadata": {
      "needs_background": "light"
     },
     "output_type": "display_data"
    }
   ],
   "source": [
    "# The alpha used by Python's ridge should be the lambda in Hull's book times the number of observations\n",
    "alphas_B=[0.01*1800, 0.02*1800, 0.03*1800, 0.04*1800, 0.05*1800, 0.075*1800,0.1*1800,0.2*1800, 0.4*1800]\n",
    "mses_B=[]\n",
    "for alpha in alphas_B:\n",
    "    ridge=Ridge(alpha=alpha)\n",
    "    ridge.fit(X_train_B,y_train_B)\n",
    "    pred=ridge.predict(X_val_B)\n",
    "    mses_B.append(mse(y_val_B,pred))    \n",
    "    print(mse(y_val_B,pred))\n",
    "plt.plot(alphas_B, mses_B)"
   ]
  },
  {
   "cell_type": "markdown",
   "metadata": {},
   "source": [
    "Lasso"
   ]
  },
  {
   "cell_type": "code",
   "execution_count": 871,
   "metadata": {},
   "outputs": [
    {
     "data": {
      "text/plain": [
       "[<matplotlib.lines.Line2D at 0x7f7b67063280>]"
      ]
     },
     "execution_count": 871,
     "metadata": {},
     "output_type": "execute_result"
    },
    {
     "data": {
      "image/png": "[encoded data removed]",
      "text/plain": [
       "<Figure size 432x288 with 1 Axes>"
      ]
     },
     "metadata": {
      "needs_background": "light"
     },
     "output_type": "display_data"
    }
   ],
   "source": [
    "lasso_B = Lasso(alpha=0.05)\n",
    "lasso_B.fit(X_train_B, y_train_B)\n",
    "zeros=[]\n",
    "coeffs_B = pd.DataFrame(\n",
    "    [\n",
    "        ['intercept'] + list(X_train_B.columns),\n",
    "        list(lasso_B.intercept_) + list(lasso_B.coef_)\n",
    "    ]\n",
    ").transpose().set_index(0)\n",
    "\n",
    "#print(coeffs_B)\n",
    "\n",
    "alphas_B=[0.01/2, 0.02/2, 0.03/2, 0.04/2, 0.05/2, 0.075/2, 0.1/2]\n",
    "mses_B=[]\n",
    "\n",
    "\n",
    "for alpha in alphas_B:\n",
    "    lasso_B=Lasso(alpha=alpha)\n",
    "    lasso_B.fit(X_train_B,y_train_B)\n",
    "    pred=lasso_B.predict(X_val_B)\n",
    "    mses_B.append(mse(y_val_B,pred))\n",
    "    a=coeffs_B==0\n",
    "    zeros.append(int(a.sum()))\n",
    "    #print(mse(y_val_B, pred))\n",
    "    #print(mse(y_val_B,pred))\n",
    "    \n",
    "plt.plot(alphas_B, mses_B)"
   ]
  },
  {
   "cell_type": "code",
   "execution_count": 872,
   "metadata": {},
   "outputs": [
    {
     "data": {
      "text/plain": [
       "1    34\n",
       "dtype: int64"
      ]
     },
     "execution_count": 872,
     "metadata": {},
     "output_type": "execute_result"
    }
   ],
   "source": [
    "Number_of_zeroes=coeffs_B==0\n",
    "Number_of_zeroes.sum()"
   ]
  },
  {
   "cell_type": "code",
   "execution_count": 873,
   "metadata": {},
   "outputs": [
    {
     "data": {
      "text/plain": [
       "0.8599725538369876"
      ]
     },
     "execution_count": 873,
     "metadata": {},
     "output_type": "execute_result"
    }
   ],
   "source": [
    "lasso_B.score(X_train_B, y_train_B)"
   ]
  },
  {
   "cell_type": "markdown",
   "metadata": {},
   "source": [
    "# PART C"
   ]
  },
  {
   "cell_type": "code",
   "execution_count": 874,
   "metadata": {},
   "outputs": [],
   "source": [
    "#Adding Two New Variables\n",
    "#We will be adding HouseStyle and SaleType variables to our data set. \n",
    "\n",
    "#Creating dummy variables\n",
    "\n",
    "HouseStyle_Dummy = pd.get_dummies(data_1['HouseStyle'])\n",
    "SaleType_Dummy = pd.get_dummies(data_1['SaleType'])\n",
    "\n",
    "#Scaling the Dummy Variables\n",
    "for col in HouseStyle_Dummy.columns: \n",
    "    HouseStyle_Dummy[col] = (HouseStyle_Dummy[col]-HouseStyle_Dummy[col].mean())/HouseStyle_Dummy[col].std()\n",
    "    \n",
    "for col in SaleType_Dummy.columns: \n",
    "    SaleType_Dummy[col] = (SaleType_Dummy[col]-SaleType_Dummy[col].mean())/SaleType_Dummy[col].std()\n",
    "\n",
    "HouseStyle_Dummy['Id']=data_1['Id']\n",
    "SaleType_Dummy['Id']=data_1['Id']\n",
    "\n",
    "#Merge into House Price Data File \n",
    "\n",
    "Data_B['Id'] = data_1['Id']\n",
    "Data_C = pd.merge(Data_B, HouseStyle_Dummy, on='Id')\n",
    "Data_C = pd.merge(Data_C, SaleType_Dummy, on='Id')\n",
    "Data_C = Data_C.drop([\"Id\"],axis=1)\n"
   ]
  },
  {
   "cell_type": "code",
   "execution_count": 875,
   "metadata": {},
   "outputs": [],
   "source": [
    "# Divide in training validation and test\n",
    "train_C = Data_C.iloc[:1800] \n",
    "val_C = Data_C.iloc[1800:2400]\n",
    "test_C = Data_C.iloc[2400:]\n",
    "\n",
    "# Get X and Y\n",
    "X_train_C, X_val_C, X_test_C = train_C.drop('Sale Price', axis=1), val_C.drop('Sale Price', axis=1), test_C.drop('Sale Price', axis=1)\n",
    "y_train_C, y_val_C, y_test_C = train_C[['Sale Price']], val_C[['Sale Price']], test_C[['Sale Price']] "
   ]
  },
  {
   "cell_type": "markdown",
   "metadata": {},
   "source": [
    "Linear Regression"
   ]
  },
  {
   "cell_type": "code",
   "execution_count": 876,
   "metadata": {},
   "outputs": [
    {
     "name": "stdout",
     "output_type": "stream",
     "text": [
      "[-0.80700684]\n",
      "[117213.43311289]\n"
     ]
    }
   ],
   "source": [
    "lr_C=LinearRegression()\n",
    "lr_C.fit(X_train_C,y_train_C)\n",
    "coeffs_C = pd.DataFrame(\n",
    "    [\n",
    "        ['intercept'] + list(X_train_C.columns),\n",
    "        list(lr_C.intercept_) + list(lr_C.coef_[0])\n",
    "    ]\n",
    ").transpose().set_index(0)\n",
    "#coeffs_C\n",
    "lr_C.score(X_train_C,y_train_C)\n",
    "\n",
    "ypred_C = lr_C.predict(X_test_C)\n",
    "\n",
    "print(ypred_C[0])\n",
    "print((ypred_C[0]*data_1['SalePrice'].std())+data_1['SalePrice'].mean())\n"
   ]
  },
  {
   "cell_type": "markdown",
   "metadata": {},
   "source": [
    "Ridge"
   ]
  },
  {
   "cell_type": "code",
   "execution_count": 877,
   "metadata": {
    "scrolled": false
   },
   "outputs": [
    {
     "name": "stdout",
     "output_type": "stream",
     "text": [
      "0.14760753395769383\n",
      "0.1474089147570597\n",
      "0.14730953527660073\n",
      "0.1472811947399165\n",
      "0.14730813503053136\n",
      "0.1475559681761602\n",
      "0.1479900881785046\n",
      "0.15073665017096044\n",
      "0.15809204184581874\n"
     ]
    },
    {
     "data": {
      "text/plain": [
       "[<matplotlib.lines.Line2D at 0x7f7b6713f580>]"
      ]
     },
     "execution_count": 877,
     "metadata": {},
     "output_type": "execute_result"
    },
    {
     "data": {
      "image/png": "[encoded data removed]",
      "text/plain": [
       "<Figure size 432x288 with 1 Axes>"
      ]
     },
     "metadata": {
      "needs_background": "light"
     },
     "output_type": "display_data"
    }
   ],
   "source": [
    "# The alpha used by Python's ridge should be the lambda in Hull's book times the number of observations\n",
    "alphas_C=[0.01*1800, 0.02*1800, 0.03*1800, 0.04*1800, 0.05*1800, 0.075*1800,0.1*1800,0.2*1800, 0.4*1800]\n",
    "mses_C=[]\n",
    "for alpha in alphas_C:\n",
    "    ridge=Ridge(alpha=alpha)\n",
    "    ridge.fit(X_train_C,y_train_C)\n",
    "    pred=ridge.predict(X_val_C)\n",
    "    mses_C.append(mse(y_val_C,pred))    \n",
    "    print(mse(y_val_C,pred))\n",
    "plt.plot(alphas_C, mses_C)"
   ]
  },
  {
   "cell_type": "markdown",
   "metadata": {},
   "source": [
    "Lasso"
   ]
  },
  {
   "cell_type": "code",
   "execution_count": 878,
   "metadata": {},
   "outputs": [
    {
     "name": "stdout",
     "output_type": "stream",
     "text": [
      "0.14611922664374882\n",
      "0.14611922664374882\n",
      "0.147253328898782\n",
      "0.147253328898782\n",
      "0.14992321213276638\n",
      "0.14992321213276638\n",
      "0.15417960383315696\n",
      "0.15417960383315696\n",
      "0.15809500955793587\n",
      "0.15809500955793587\n",
      "0.16781925462865918\n",
      "0.16781925462865918\n",
      "0.17672457117848647\n",
      "0.17672457117848647\n"
     ]
    },
    {
     "data": {
      "text/plain": [
       "[<matplotlib.lines.Line2D at 0x7f7b65796610>]"
      ]
     },
     "execution_count": 878,
     "metadata": {},
     "output_type": "execute_result"
    },
    {
     "data": {
      "image/png": "[encoded data removed]",
      "text/plain": [
       "<Figure size 432x288 with 1 Axes>"
      ]
     },
     "metadata": {
      "needs_background": "light"
     },
     "output_type": "display_data"
    }
   ],
   "source": [
    "lasso_C = Lasso(alpha=0.05)\n",
    "lasso_C.fit(X_train_C, y_train_C)\n",
    "zeros=[]\n",
    "coeffs_C = pd.DataFrame(\n",
    "    [\n",
    "        ['intercept'] + list(X_train_C.columns),\n",
    "        list(lasso_C.intercept_) + list(lasso_C.coef_)\n",
    "    ]\n",
    ").transpose().set_index(0)\n",
    "\n",
    "\n",
    "alphas_C=[0.01/2, 0.02/2, 0.03/2, 0.04/2, 0.05/2, 0.075/2, 0.1/2]\n",
    "mses_C=[]\n",
    "\n",
    "\n",
    "for alpha in alphas_C:\n",
    "    lasso_C=Lasso(alpha=alpha)\n",
    "    lasso_C.fit(X_train_C,y_train_C)\n",
    "    pred=lasso_C.predict(X_val_C)\n",
    "    mses_C.append(mse(y_val_C,pred))\n",
    "    a=coeffs_C==0\n",
    "    zeros.append(int(a.sum()))\n",
    "    print(mse(y_val_C, pred))\n",
    "    print(mse(y_val_C,pred))\n",
    "    \n",
    "\n",
    "plt.plot(alphas_C, mses_C)"
   ]
  },
  {
   "cell_type": "code",
   "execution_count": 879,
   "metadata": {},
   "outputs": [
    {
     "data": {
      "text/plain": [
       "1    51\n",
       "dtype: int64"
      ]
     },
     "execution_count": 879,
     "metadata": {},
     "output_type": "execute_result"
    }
   ],
   "source": [
    "\n",
    "Number_of_zeroes=coeffs_C==0\n",
    "Number_of_zeroes.sum()"
   ]
  },
  {
   "cell_type": "code",
   "execution_count": 880,
   "metadata": {},
   "outputs": [
    {
     "data": {
      "text/plain": [
       "0.8599725538369876"
      ]
     },
     "execution_count": 880,
     "metadata": {},
     "output_type": "execute_result"
    }
   ],
   "source": [
    "lasso_C.score(X_train_C, y_train_C)"
   ]
  },
  {
   "cell_type": "markdown",
   "metadata": {},
   "source": [
    "# PART D"
   ]
  },
  {
   "cell_type": "code",
   "execution_count": 881,
   "metadata": {},
   "outputs": [
    {
     "name": "stdout",
     "output_type": "stream",
     "text": [
      "0.897223754603462 0.8954478868638911 0.8957642931990568\n",
      "0.8680771782819183 0.8599725538369876 0.8599725538369876\n"
     ]
    }
   ],
   "source": [
    "# dataset cleaned with randomly assigned observations was chosen\n",
    "\n",
    "#Linear Regression Scoring\n",
    "print(lr_r.score(X_train_r,y_train_r),lr_B.score(X_train_B,y_train_B),lr_C.score(X_train_C,y_train_C))\n",
    "\n",
    "\n",
    "#Lasso Scoring\n",
    "print(lasso_r.score(X_train_r, y_train_r), lasso_B.score(X_train_B, y_train_B), lasso_C.score(X_train_C, y_train_C))\n",
    "\n",
    "#Ridge Scoring\n",
    "#Part A has lower RMSE than B and C at each alpha level\n"
   ]
  },
  {
   "cell_type": "code",
   "execution_count": 882,
   "metadata": {},
   "outputs": [
    {
     "data": {
      "text/plain": [
       "0.15648336364174734"
      ]
     },
     "execution_count": 882,
     "metadata": {},
     "output_type": "execute_result"
    }
   ],
   "source": [
    "#B and C are unusually close\n",
    "#Ridge A \n",
    "0.12568603084387123\n",
    "0.126057900333669\n",
    "0.12647108908588775\n",
    "0.12691459897331914\n",
    "0.12738069319104736\n",
    "0.12861107960095225\n",
    "0.12989519301431376\n",
    "0.1351712621550372\n",
    "0.14554610880386415\n",
    "#Ridge B\n",
    "0.14615471599265428\n",
    "0.1459905931310339\n",
    "0.1459135720283322\n",
    "0.1458997996416985\n",
    "0.14593577700278842\n",
    "0.14619020636323807\n",
    "0.14661691044797626\n",
    "0.1492849244220201\n",
    "0.15648336364174734\n",
    "#Ridge C\n",
    "0.14615471599265428\n",
    "0.1459905931310339\n",
    "0.1459135720283322\n",
    "0.1458997996416985\n",
    "0.14593577700278842\n",
    "0.14619020636323807\n",
    "0.14661691044797626\n",
    "0.1492849244220201\n",
    "0.15648336364174734"
   ]
  },
  {
   "cell_type": "code",
   "execution_count": 883,
   "metadata": {},
   "outputs": [
    {
     "data": {
      "text/html": [
       "<div>\n",
       "<style scoped>\n",
       "    .dataframe tbody tr th:only-of-type {\n",
       "        vertical-align: middle;\n",
       "    }\n",
       "\n",
       "    .dataframe tbody tr th {\n",
       "        vertical-align: top;\n",
       "    }\n",
       "\n",
       "    .dataframe thead th {\n",
       "        text-align: right;\n",
       "    }\n",
       "</style>\n",
       "<table border=\"1\" class=\"dataframe\">\n",
       "  <thead>\n",
       "    <tr style=\"text-align: right;\">\n",
       "      <th></th>\n",
       "      <th>LotArea</th>\n",
       "      <th>OverallQual</th>\n",
       "      <th>OverallCond</th>\n",
       "      <th>YearBuilt</th>\n",
       "      <th>YearRemodAdd</th>\n",
       "      <th>BsmtFinSF1</th>\n",
       "      <th>BsmtUnfSF</th>\n",
       "      <th>TotalBsmtSF</th>\n",
       "      <th>1stFlrSF</th>\n",
       "      <th>2ndFlrSF</th>\n",
       "      <th>...</th>\n",
       "      <th>SWISU</th>\n",
       "      <th>Sawyer</th>\n",
       "      <th>SawyerW</th>\n",
       "      <th>Somerst</th>\n",
       "      <th>StoneBr</th>\n",
       "      <th>Timber</th>\n",
       "      <th>Veenker</th>\n",
       "      <th>Bsmt Qual</th>\n",
       "      <th>Sale Price</th>\n",
       "      <th>streetft</th>\n",
       "    </tr>\n",
       "  </thead>\n",
       "  <tbody>\n",
       "    <tr>\n",
       "      <th>0</th>\n",
       "      <td>-0.199572</td>\n",
       "      <td>0.652747</td>\n",
       "      <td>-0.512407</td>\n",
       "      <td>1.038851</td>\n",
       "      <td>0.875754</td>\n",
       "      <td>0.597837</td>\n",
       "      <td>-0.937245</td>\n",
       "      <td>-0.482464</td>\n",
       "      <td>-0.808820</td>\n",
       "      <td>1.203988</td>\n",
       "      <td>...</td>\n",
       "      <td>-0.136621</td>\n",
       "      <td>-0.2253</td>\n",
       "      <td>-0.214192</td>\n",
       "      <td>-0.268378</td>\n",
       "      <td>-0.127929</td>\n",
       "      <td>-0.152629</td>\n",
       "      <td>-0.091644</td>\n",
       "      <td>0.584308</td>\n",
       "      <td>0.358489</td>\n",
       "      <td>-0.179975</td>\n",
       "    </tr>\n",
       "    <tr>\n",
       "      <th>1</th>\n",
       "      <td>-0.072005</td>\n",
       "      <td>-0.072527</td>\n",
       "      <td>2.189741</td>\n",
       "      <td>0.136810</td>\n",
       "      <td>-0.432225</td>\n",
       "      <td>1.218528</td>\n",
       "      <td>-0.635042</td>\n",
       "      <td>0.490326</td>\n",
       "      <td>0.276358</td>\n",
       "      <td>-0.789421</td>\n",
       "      <td>...</td>\n",
       "      <td>-0.136621</td>\n",
       "      <td>-0.2253</td>\n",
       "      <td>-0.214192</td>\n",
       "      <td>-0.268378</td>\n",
       "      <td>-0.127929</td>\n",
       "      <td>-0.152629</td>\n",
       "      <td>10.905682</td>\n",
       "      <td>0.584308</td>\n",
       "      <td>0.008849</td>\n",
       "      <td>0.481078</td>\n",
       "    </tr>\n",
       "    <tr>\n",
       "      <th>2</th>\n",
       "      <td>0.111026</td>\n",
       "      <td>0.652747</td>\n",
       "      <td>-0.512407</td>\n",
       "      <td>0.972033</td>\n",
       "      <td>0.827310</td>\n",
       "      <td>0.095808</td>\n",
       "      <td>-0.296754</td>\n",
       "      <td>-0.329118</td>\n",
       "      <td>-0.637758</td>\n",
       "      <td>1.231999</td>\n",
       "      <td>...</td>\n",
       "      <td>-0.136621</td>\n",
       "      <td>-0.2253</td>\n",
       "      <td>-0.214192</td>\n",
       "      <td>-0.268378</td>\n",
       "      <td>-0.127929</td>\n",
       "      <td>-0.152629</td>\n",
       "      <td>-0.091644</td>\n",
       "      <td>0.584308</td>\n",
       "      <td>0.552733</td>\n",
       "      <td>-0.047764</td>\n",
       "    </tr>\n",
       "    <tr>\n",
       "      <th>3</th>\n",
       "      <td>-0.077551</td>\n",
       "      <td>0.652747</td>\n",
       "      <td>-0.512407</td>\n",
       "      <td>-1.901135</td>\n",
       "      <td>-0.722887</td>\n",
       "      <td>-0.520319</td>\n",
       "      <td>-0.057698</td>\n",
       "      <td>-0.722067</td>\n",
       "      <td>-0.528171</td>\n",
       "      <td>0.975236</td>\n",
       "      <td>...</td>\n",
       "      <td>-0.136621</td>\n",
       "      <td>-0.2253</td>\n",
       "      <td>-0.214192</td>\n",
       "      <td>-0.268378</td>\n",
       "      <td>-0.127929</td>\n",
       "      <td>-0.152629</td>\n",
       "      <td>-0.091644</td>\n",
       "      <td>-0.577852</td>\n",
       "      <td>-0.528560</td>\n",
       "      <td>-0.400326</td>\n",
       "    </tr>\n",
       "    <tr>\n",
       "      <th>4</th>\n",
       "      <td>0.444919</td>\n",
       "      <td>1.378022</td>\n",
       "      <td>-0.512407</td>\n",
       "      <td>0.938624</td>\n",
       "      <td>0.730423</td>\n",
       "      <td>0.481458</td>\n",
       "      <td>-0.170461</td>\n",
       "      <td>0.209990</td>\n",
       "      <td>-0.036366</td>\n",
       "      <td>1.668495</td>\n",
       "      <td>...</td>\n",
       "      <td>-0.136621</td>\n",
       "      <td>-0.2253</td>\n",
       "      <td>-0.214192</td>\n",
       "      <td>-0.268378</td>\n",
       "      <td>-0.127929</td>\n",
       "      <td>-0.152629</td>\n",
       "      <td>-0.091644</td>\n",
       "      <td>0.584308</td>\n",
       "      <td>0.895898</td>\n",
       "      <td>0.657359</td>\n",
       "    </tr>\n",
       "  </tbody>\n",
       "</table>\n",
       "<p>5 rows × 49 columns</p>\n",
       "</div>"
      ],
      "text/plain": [
       "    LotArea  OverallQual  OverallCond  YearBuilt  YearRemodAdd  BsmtFinSF1  \\\n",
       "0 -0.199572     0.652747    -0.512407   1.038851      0.875754    0.597837   \n",
       "1 -0.072005    -0.072527     2.189741   0.136810     -0.432225    1.218528   \n",
       "2  0.111026     0.652747    -0.512407   0.972033      0.827310    0.095808   \n",
       "3 -0.077551     0.652747    -0.512407  -1.901135     -0.722887   -0.520319   \n",
       "4  0.444919     1.378022    -0.512407   0.938624      0.730423    0.481458   \n",
       "\n",
       "   BsmtUnfSF  TotalBsmtSF  1stFlrSF  2ndFlrSF  ...     SWISU  Sawyer  \\\n",
       "0  -0.937245    -0.482464 -0.808820  1.203988  ... -0.136621 -0.2253   \n",
       "1  -0.635042     0.490326  0.276358 -0.789421  ... -0.136621 -0.2253   \n",
       "2  -0.296754    -0.329118 -0.637758  1.231999  ... -0.136621 -0.2253   \n",
       "3  -0.057698    -0.722067 -0.528171  0.975236  ... -0.136621 -0.2253   \n",
       "4  -0.170461     0.209990 -0.036366  1.668495  ... -0.136621 -0.2253   \n",
       "\n",
       "    SawyerW   Somerst   StoneBr    Timber    Veenker  Bsmt Qual  Sale Price  \\\n",
       "0 -0.214192 -0.268378 -0.127929 -0.152629  -0.091644   0.584308    0.358489   \n",
       "1 -0.214192 -0.268378 -0.127929 -0.152629  10.905682   0.584308    0.008849   \n",
       "2 -0.214192 -0.268378 -0.127929 -0.152629  -0.091644   0.584308    0.552733   \n",
       "3 -0.214192 -0.268378 -0.127929 -0.152629  -0.091644  -0.577852   -0.528560   \n",
       "4 -0.214192 -0.268378 -0.127929 -0.152629  -0.091644   0.584308    0.895898   \n",
       "\n",
       "   streetft  \n",
       "0 -0.179975  \n",
       "1  0.481078  \n",
       "2 -0.047764  \n",
       "3 -0.400326  \n",
       "4  0.657359  \n",
       "\n",
       "[5 rows x 49 columns]"
      ]
     },
     "execution_count": 883,
     "metadata": {},
     "output_type": "execute_result"
    }
   ],
   "source": [
    "rd1.head()\n",
    "#Randomly split data into training set, validation set, \n",
    "# and test set – maintain the same splitting proportion 1800/600/rest\n",
    "# respectively"
   ]
  },
  {
   "cell_type": "code",
   "execution_count": 884,
   "metadata": {},
   "outputs": [],
   "source": [
    "Xd = rd1.drop('Sale Price', axis=1)\n",
    "Yd = rd1[['Sale Price']]\n"
   ]
  },
  {
   "cell_type": "code",
   "execution_count": 885,
   "metadata": {},
   "outputs": [],
   "source": [
    "from sklearn.model_selection import train_test_split"
   ]
  },
  {
   "cell_type": "code",
   "execution_count": 886,
   "metadata": {
    "scrolled": true
   },
   "outputs": [],
   "source": [
    "X_train_D, X_test_D, y_train_D, y_test_D = train_test_split(Xd, Yd,\n",
    "    test_size=508, random_state = 8)\n"
   ]
  },
  {
   "cell_type": "code",
   "execution_count": 887,
   "metadata": {
    "scrolled": true
   },
   "outputs": [
    {
     "name": "stdout",
     "output_type": "stream",
     "text": [
      "X_train shape: (1800, 48)\n",
      "X_test shape: (508, 48)\n",
      "y_train shape: (1800, 1)\n",
      "y_test shape: (508, 1)\n",
      "X_val shape: (600, 48)\n",
      "y val shape: (600, 1)\n"
     ]
    }
   ],
   "source": [
    "# Use the same function above for the validation set\n",
    "X_train_D, X_val_D, y_train_D, y_val_D = train_test_split(X_train_D, y_train_D, \n",
    "    test_size=600, random_state= 8) # 0.25 x 0.8 = 0.2\n",
    "\n",
    "print(\"X_train shape: {}\".format(X_train_D.shape))\n",
    "print(\"X_test shape: {}\".format(X_test_D.shape))\n",
    "print(\"y_train shape: {}\".format(y_train_D.shape))\n",
    "print(\"y_test shape: {}\".format(y_test_D.shape))\n",
    "print(\"X_val shape: {}\".format(X_val_D.shape))\n",
    "print(\"y val shape: {}\".format(y_val_D.shape))"
   ]
  },
  {
   "cell_type": "markdown",
   "metadata": {},
   "source": [
    "Linear Regression"
   ]
  },
  {
   "cell_type": "code",
   "execution_count": 888,
   "metadata": {},
   "outputs": [
    {
     "data": {
      "text/html": [
       "<style>#sk-container-id-49 {color: black;background-color: white;}#sk-container-id-49 pre{padding: 0;}#sk-container-id-49 div.sk-toggleable {background-color: white;}#sk-container-id-49 label.sk-toggleable__label {cursor: pointer;display: block;width: 100%;margin-bottom: 0;padding: 0.3em;box-sizing: border-box;text-align: center;}#sk-container-id-49 label.sk-toggleable__label-arrow:before {content: \"▸\";float: left;margin-right: 0.25em;color: #696969;}#sk-container-id-49 label.sk-toggleable__label-arrow:hover:before {color: black;}#sk-container-id-49 div.sk-estimator:hover label.sk-toggleable__label-arrow:before {color: black;}#sk-container-id-49 div.sk-toggleable__content {max-height: 0;max-width: 0;overflow: hidden;text-align: left;background-color: #f0f8ff;}#sk-container-id-49 div.sk-toggleable__content pre {margin: 0.2em;color: black;border-radius: 0.25em;background-color: #f0f8ff;}#sk-container-id-49 input.sk-toggleable__control:checked~div.sk-toggleable__content {max-height: 200px;max-width: 100%;overflow: auto;}#sk-container-id-49 input.sk-toggleable__control:checked~label.sk-toggleable__label-arrow:before {content: \"▾\";}#sk-container-id-49 div.sk-estimator input.sk-toggleable__control:checked~label.sk-toggleable__label {background-color: #d4ebff;}#sk-container-id-49 div.sk-label input.sk-toggleable__control:checked~label.sk-toggleable__label {background-color: #d4ebff;}#sk-container-id-49 input.sk-hidden--visually {border: 0;clip: rect(1px 1px 1px 1px);clip: rect(1px, 1px, 1px, 1px);height: 1px;margin: -1px;overflow: hidden;padding: 0;position: absolute;width: 1px;}#sk-container-id-49 div.sk-estimator {font-family: monospace;background-color: #f0f8ff;border: 1px dotted black;border-radius: 0.25em;box-sizing: border-box;margin-bottom: 0.5em;}#sk-container-id-49 div.sk-estimator:hover {background-color: #d4ebff;}#sk-container-id-49 div.sk-parallel-item::after {content: \"\";width: 100%;border-bottom: 1px solid gray;flex-grow: 1;}#sk-container-id-49 div.sk-label:hover label.sk-toggleable__label {background-color: #d4ebff;}#sk-container-id-49 div.sk-serial::before {content: \"\";position: absolute;border-left: 1px solid gray;box-sizing: border-box;top: 0;bottom: 0;left: 50%;z-index: 0;}#sk-container-id-49 div.sk-serial {display: flex;flex-direction: column;align-items: center;background-color: white;padding-right: 0.2em;padding-left: 0.2em;position: relative;}#sk-container-id-49 div.sk-item {position: relative;z-index: 1;}#sk-container-id-49 div.sk-parallel {display: flex;align-items: stretch;justify-content: center;background-color: white;position: relative;}#sk-container-id-49 div.sk-item::before, #sk-container-id-49 div.sk-parallel-item::before {content: \"\";position: absolute;border-left: 1px solid gray;box-sizing: border-box;top: 0;bottom: 0;left: 50%;z-index: -1;}#sk-container-id-49 div.sk-parallel-item {display: flex;flex-direction: column;z-index: 1;position: relative;background-color: white;}#sk-container-id-49 div.sk-parallel-item:first-child::after {align-self: flex-end;width: 50%;}#sk-container-id-49 div.sk-parallel-item:last-child::after {align-self: flex-start;width: 50%;}#sk-container-id-49 div.sk-parallel-item:only-child::after {width: 0;}#sk-container-id-49 div.sk-dashed-wrapped {border: 1px dashed gray;margin: 0 0.4em 0.5em 0.4em;box-sizing: border-box;padding-bottom: 0.4em;background-color: white;}#sk-container-id-49 div.sk-label label {font-family: monospace;font-weight: bold;display: inline-block;line-height: 1.2em;}#sk-container-id-49 div.sk-label-container {text-align: center;}#sk-container-id-49 div.sk-container {/* jupyter's `normalize.less` sets `[hidden] { display: none; }` but bootstrap.min.css set `[hidden] { display: none !important; }` so we also need the `!important` here to be able to override the default hidden behavior on the sphinx rendered scikit-learn.org. See: https://github.com/scikit-learn/scikit-learn/issues/21755 */display: inline-block !important;position: relative;}#sk-container-id-49 div.sk-text-repr-fallback {display: none;}</style><div id=\"sk-container-id-49\" class=\"sk-top-container\"><div class=\"sk-text-repr-fallback\"><pre>LinearRegression()</pre><b>In a Jupyter environment, please rerun this cell to show the HTML representation or trust the notebook. <br />On GitHub, the HTML representation is unable to render, please try loading this page with nbviewer.org.</b></div><div class=\"sk-container\" hidden><div class=\"sk-item\"><div class=\"sk-estimator sk-toggleable\"><input class=\"sk-toggleable__control sk-hidden--visually\" id=\"sk-estimator-id-49\" type=\"checkbox\" checked><label for=\"sk-estimator-id-49\" class=\"sk-toggleable__label sk-toggleable__label-arrow\">LinearRegression</label><div class=\"sk-toggleable__content\"><pre>LinearRegression()</pre></div></div></div></div></div>"
      ],
      "text/plain": [
       "LinearRegression()"
      ]
     },
     "execution_count": 888,
     "metadata": {},
     "output_type": "execute_result"
    }
   ],
   "source": [
    "lr_D=LinearRegression()\n",
    "lr_D.fit(X_train_D,y_train_D)"
   ]
  },
  {
   "cell_type": "code",
   "execution_count": 889,
   "metadata": {
    "scrolled": true
   },
   "outputs": [
    {
     "data": {
      "text/html": [
       "<div>\n",
       "<style scoped>\n",
       "    .dataframe tbody tr th:only-of-type {\n",
       "        vertical-align: middle;\n",
       "    }\n",
       "\n",
       "    .dataframe tbody tr th {\n",
       "        vertical-align: top;\n",
       "    }\n",
       "\n",
       "    .dataframe thead th {\n",
       "        text-align: right;\n",
       "    }\n",
       "</style>\n",
       "<table border=\"1\" class=\"dataframe\">\n",
       "  <thead>\n",
       "    <tr style=\"text-align: right;\">\n",
       "      <th></th>\n",
       "      <th>1</th>\n",
       "    </tr>\n",
       "    <tr>\n",
       "      <th>0</th>\n",
       "      <th></th>\n",
       "    </tr>\n",
       "  </thead>\n",
       "  <tbody>\n",
       "    <tr>\n",
       "      <th>intercept</th>\n",
       "      <td>0.009448</td>\n",
       "    </tr>\n",
       "    <tr>\n",
       "      <th>LotArea</th>\n",
       "      <td>0.094423</td>\n",
       "    </tr>\n",
       "    <tr>\n",
       "      <th>OverallQual</th>\n",
       "      <td>0.219183</td>\n",
       "    </tr>\n",
       "    <tr>\n",
       "      <th>OverallCond</th>\n",
       "      <td>0.08172</td>\n",
       "    </tr>\n",
       "    <tr>\n",
       "      <th>YearBuilt</th>\n",
       "      <td>0.164522</td>\n",
       "    </tr>\n",
       "    <tr>\n",
       "      <th>YearRemodAdd</th>\n",
       "      <td>0.046017</td>\n",
       "    </tr>\n",
       "    <tr>\n",
       "      <th>BsmtFinSF1</th>\n",
       "      <td>0.118144</td>\n",
       "    </tr>\n",
       "    <tr>\n",
       "      <th>BsmtUnfSF</th>\n",
       "      <td>-0.022644</td>\n",
       "    </tr>\n",
       "    <tr>\n",
       "      <th>TotalBsmtSF</th>\n",
       "      <td>0.096451</td>\n",
       "    </tr>\n",
       "    <tr>\n",
       "      <th>1stFlrSF</th>\n",
       "      <td>0.211913</td>\n",
       "    </tr>\n",
       "    <tr>\n",
       "      <th>2ndFlrSF</th>\n",
       "      <td>0.178768</td>\n",
       "    </tr>\n",
       "    <tr>\n",
       "      <th>GrLivArea</th>\n",
       "      <td>0.098313</td>\n",
       "    </tr>\n",
       "    <tr>\n",
       "      <th>FullBath</th>\n",
       "      <td>-0.004712</td>\n",
       "    </tr>\n",
       "    <tr>\n",
       "      <th>HalfBath</th>\n",
       "      <td>0.032426</td>\n",
       "    </tr>\n",
       "    <tr>\n",
       "      <th>BedroomAbvGr</th>\n",
       "      <td>-0.083883</td>\n",
       "    </tr>\n",
       "    <tr>\n",
       "      <th>TotRmsAbvGrd</th>\n",
       "      <td>0.067067</td>\n",
       "    </tr>\n",
       "    <tr>\n",
       "      <th>Fireplaces</th>\n",
       "      <td>0.021208</td>\n",
       "    </tr>\n",
       "    <tr>\n",
       "      <th>GarageCars</th>\n",
       "      <td>-0.020624</td>\n",
       "    </tr>\n",
       "    <tr>\n",
       "      <th>GarageArea</th>\n",
       "      <td>0.101865</td>\n",
       "    </tr>\n",
       "    <tr>\n",
       "      <th>WoodDeckSF</th>\n",
       "      <td>0.022016</td>\n",
       "    </tr>\n",
       "    <tr>\n",
       "      <th>OpenPorchSF</th>\n",
       "      <td>0.001432</td>\n",
       "    </tr>\n",
       "    <tr>\n",
       "      <th>EnclosedPorch</th>\n",
       "      <td>0.014761</td>\n",
       "    </tr>\n",
       "    <tr>\n",
       "      <th>Blmngtn</th>\n",
       "      <td>-0.023415</td>\n",
       "    </tr>\n",
       "    <tr>\n",
       "      <th>Blueste</th>\n",
       "      <td>-0.010248</td>\n",
       "    </tr>\n",
       "    <tr>\n",
       "      <th>BrDale</th>\n",
       "      <td>-0.026145</td>\n",
       "    </tr>\n",
       "    <tr>\n",
       "      <th>BrkSide</th>\n",
       "      <td>0.023331</td>\n",
       "    </tr>\n",
       "    <tr>\n",
       "      <th>ClearCr</th>\n",
       "      <td>-0.0076</td>\n",
       "    </tr>\n",
       "    <tr>\n",
       "      <th>CollgCr</th>\n",
       "      <td>-0.015644</td>\n",
       "    </tr>\n",
       "    <tr>\n",
       "      <th>Crawfor</th>\n",
       "      <td>0.046626</td>\n",
       "    </tr>\n",
       "    <tr>\n",
       "      <th>Edwards</th>\n",
       "      <td>-0.004122</td>\n",
       "    </tr>\n",
       "    <tr>\n",
       "      <th>Gilbert</th>\n",
       "      <td>-0.018291</td>\n",
       "    </tr>\n",
       "    <tr>\n",
       "      <th>IDOTRR</th>\n",
       "      <td>0.00645</td>\n",
       "    </tr>\n",
       "    <tr>\n",
       "      <th>MeadowV</th>\n",
       "      <td>-0.016777</td>\n",
       "    </tr>\n",
       "    <tr>\n",
       "      <th>Mitchel</th>\n",
       "      <td>-0.03596</td>\n",
       "    </tr>\n",
       "    <tr>\n",
       "      <th>Names</th>\n",
       "      <td>-0.03032</td>\n",
       "    </tr>\n",
       "    <tr>\n",
       "      <th>NoRidge</th>\n",
       "      <td>0.049962</td>\n",
       "    </tr>\n",
       "    <tr>\n",
       "      <th>NPkVill</th>\n",
       "      <td>-0.01693</td>\n",
       "    </tr>\n",
       "    <tr>\n",
       "      <th>NriddgHt</th>\n",
       "      <td>0.115307</td>\n",
       "    </tr>\n",
       "    <tr>\n",
       "      <th>NWAmes</th>\n",
       "      <td>-0.053448</td>\n",
       "    </tr>\n",
       "    <tr>\n",
       "      <th>OLDTown</th>\n",
       "      <td>-0.009491</td>\n",
       "    </tr>\n",
       "    <tr>\n",
       "      <th>SWISU</th>\n",
       "      <td>-0.000253</td>\n",
       "    </tr>\n",
       "    <tr>\n",
       "      <th>Sawyer</th>\n",
       "      <td>-0.016876</td>\n",
       "    </tr>\n",
       "    <tr>\n",
       "      <th>SawyerW</th>\n",
       "      <td>-0.036939</td>\n",
       "    </tr>\n",
       "    <tr>\n",
       "      <th>Somerst</th>\n",
       "      <td>0.022468</td>\n",
       "    </tr>\n",
       "    <tr>\n",
       "      <th>StoneBr</th>\n",
       "      <td>0.080606</td>\n",
       "    </tr>\n",
       "    <tr>\n",
       "      <th>Timber</th>\n",
       "      <td>0.000658</td>\n",
       "    </tr>\n",
       "    <tr>\n",
       "      <th>Veenker</th>\n",
       "      <td>-0.015087</td>\n",
       "    </tr>\n",
       "    <tr>\n",
       "      <th>Bsmt Qual</th>\n",
       "      <td>0.027057</td>\n",
       "    </tr>\n",
       "    <tr>\n",
       "      <th>streetft</th>\n",
       "      <td>0.016929</td>\n",
       "    </tr>\n",
       "  </tbody>\n",
       "</table>\n",
       "</div>"
      ],
      "text/plain": [
       "                      1\n",
       "0                      \n",
       "intercept      0.009448\n",
       "LotArea        0.094423\n",
       "OverallQual    0.219183\n",
       "OverallCond     0.08172\n",
       "YearBuilt      0.164522\n",
       "YearRemodAdd   0.046017\n",
       "BsmtFinSF1     0.118144\n",
       "BsmtUnfSF     -0.022644\n",
       "TotalBsmtSF    0.096451\n",
       "1stFlrSF       0.211913\n",
       "2ndFlrSF       0.178768\n",
       "GrLivArea      0.098313\n",
       "FullBath      -0.004712\n",
       "HalfBath       0.032426\n",
       "BedroomAbvGr  -0.083883\n",
       "TotRmsAbvGrd   0.067067\n",
       "Fireplaces     0.021208\n",
       "GarageCars    -0.020624\n",
       "GarageArea     0.101865\n",
       "WoodDeckSF     0.022016\n",
       "OpenPorchSF    0.001432\n",
       "EnclosedPorch  0.014761\n",
       "Blmngtn       -0.023415\n",
       "Blueste       -0.010248\n",
       "BrDale        -0.026145\n",
       "BrkSide        0.023331\n",
       "ClearCr         -0.0076\n",
       "CollgCr       -0.015644\n",
       "Crawfor        0.046626\n",
       "Edwards       -0.004122\n",
       "Gilbert       -0.018291\n",
       "IDOTRR          0.00645\n",
       "MeadowV       -0.016777\n",
       "Mitchel        -0.03596\n",
       "Names          -0.03032\n",
       "NoRidge        0.049962\n",
       "NPkVill        -0.01693\n",
       "NriddgHt       0.115307\n",
       "NWAmes        -0.053448\n",
       "OLDTown       -0.009491\n",
       "SWISU         -0.000253\n",
       "Sawyer        -0.016876\n",
       "SawyerW       -0.036939\n",
       "Somerst        0.022468\n",
       "StoneBr        0.080606\n",
       "Timber         0.000658\n",
       "Veenker       -0.015087\n",
       "Bsmt Qual      0.027057\n",
       "streetft       0.016929"
      ]
     },
     "execution_count": 889,
     "metadata": {},
     "output_type": "execute_result"
    }
   ],
   "source": [
    "coeffs_D = pd.DataFrame(\n",
    "    [\n",
    "        ['intercept'] + list(X_train_D.columns),\n",
    "        list(lr_D.intercept_) + list(lr_D.coef_[0])\n",
    "    ]\n",
    ").transpose().set_index(0)\n",
    "coeffs_D"
   ]
  },
  {
   "cell_type": "code",
   "execution_count": 890,
   "metadata": {},
   "outputs": [
    {
     "data": {
      "text/plain": [
       "0.8896183604893817"
      ]
     },
     "execution_count": 890,
     "metadata": {},
     "output_type": "execute_result"
    }
   ],
   "source": [
    "lr_D.score(X_train_D,y_train_D)"
   ]
  },
  {
   "cell_type": "code",
   "execution_count": 891,
   "metadata": {},
   "outputs": [
    {
     "name": "stdout",
     "output_type": "stream",
     "text": [
      "[0.21081633]\n",
      "[196745.21006527]\n"
     ]
    }
   ],
   "source": [
    "ypred_D = lr_D.predict(X_test_D)\n",
    "\n",
    "print(ypred_D[0])\n",
    "print((ypred_D[0]*data_1['SalePrice'].std())+data_1['SalePrice'].mean())"
   ]
  },
  {
   "cell_type": "markdown",
   "metadata": {},
   "source": [
    "Ridge"
   ]
  },
  {
   "cell_type": "code",
   "execution_count": 892,
   "metadata": {
    "scrolled": false
   },
   "outputs": [
    {
     "name": "stdout",
     "output_type": "stream",
     "text": [
      "0.12049985962261914\n",
      "0.12046948942916927\n",
      "0.12048003399965211\n",
      "0.12052586405449837\n",
      "0.12060052969107085\n",
      "0.12088332496014\n",
      "0.12126768722699435\n",
      "0.12342265468583799\n",
      "0.1293381185731938\n"
     ]
    },
    {
     "data": {
      "text/plain": [
       "[<matplotlib.lines.Line2D at 0x7f7b657bea90>]"
      ]
     },
     "execution_count": 892,
     "metadata": {},
     "output_type": "execute_result"
    },
    {
     "data": {
      "image/png": "[encoded data removed]",
      "text/plain": [
       "<Figure size 432x288 with 1 Axes>"
      ]
     },
     "metadata": {
      "needs_background": "light"
     },
     "output_type": "display_data"
    }
   ],
   "source": [
    "# The alpha used by Python's ridge should be the lambda in Hull's book times the number of observations\n",
    "alphas_D=[0.01*1800, 0.02*1800, 0.03*1800, 0.04*1800, 0.05*1800, 0.075*1800,0.1*1800,0.2*1800, 0.4*1800]\n",
    "mses_D=[]\n",
    "for alpha in alphas_D:\n",
    "    ridge=Ridge(alpha=alpha)\n",
    "    ridge.fit(X_train_D,y_train_D)\n",
    "    pred=ridge.predict(X_val_D)\n",
    "    mses_D.append(mse(y_val_D,pred))    \n",
    "    print(mse(y_val_D,pred))\n",
    "plt.plot(alphas_D, mses_D)"
   ]
  },
  {
   "cell_type": "markdown",
   "metadata": {},
   "source": [
    "Lasso"
   ]
  },
  {
   "cell_type": "code",
   "execution_count": 893,
   "metadata": {},
   "outputs": [
    {
     "name": "stdout",
     "output_type": "stream",
     "text": [
      "0.12184563276963263\n",
      "0.12184563276963263\n",
      "0.12326956578689556\n",
      "0.12326956578689556\n",
      "0.12584851077857445\n",
      "0.12584851077857445\n",
      "0.12945212948006848\n",
      "0.12945212948006848\n",
      "0.13357626190310895\n",
      "0.13357626190310895\n",
      "0.1430379568798302\n",
      "0.1430379568798302\n",
      "0.1501244134898565\n",
      "0.1501244134898565\n"
     ]
    },
    {
     "data": {
      "text/plain": [
       "[<matplotlib.lines.Line2D at 0x7f7b676b8bb0>]"
      ]
     },
     "execution_count": 893,
     "metadata": {},
     "output_type": "execute_result"
    },
    {
     "data": {
      "image/png": "[encoded data removed]",
      "text/plain": [
       "<Figure size 432x288 with 1 Axes>"
      ]
     },
     "metadata": {
      "needs_background": "light"
     },
     "output_type": "display_data"
    }
   ],
   "source": [
    "lasso_D = Lasso(alpha=0.05)\n",
    "lasso_D.fit(X_train_D, y_train_D)\n",
    "zeros=[]\n",
    "coeffs_D = pd.DataFrame(\n",
    "    [\n",
    "        ['intercept'] + list(X_train_D.columns),\n",
    "        list(lasso_D.intercept_) + list(lasso_D.coef_)\n",
    "    ]\n",
    ").transpose().set_index(0)\n",
    "\n",
    "\n",
    "alphas_D=[0.01/2, 0.02/2, 0.03/2, 0.04/2, 0.05/2, 0.075/2, 0.1/2]\n",
    "mses_D=[]\n",
    "\n",
    "\n",
    "for alpha in alphas_D:\n",
    "    lasso_D=Lasso(alpha=alpha)\n",
    "    lasso_D.fit(X_train_D,y_train_D)\n",
    "    pred=lasso_D.predict(X_val_D)\n",
    "    mses_D.append(mse(y_val_D,pred))\n",
    "    a=coeffs_D==0\n",
    "    zeros.append(int(a.sum()))\n",
    "    print(mse(y_val_D, pred))\n",
    "    print(mse(y_val_D,pred))\n",
    "    \n",
    "\n",
    "plt.plot(alphas_D, mses_D)"
   ]
  },
  {
   "cell_type": "code",
   "execution_count": 894,
   "metadata": {},
   "outputs": [
    {
     "data": {
      "text/plain": [
       "1    33\n",
       "dtype: int64"
      ]
     },
     "execution_count": 894,
     "metadata": {},
     "output_type": "execute_result"
    }
   ],
   "source": [
    "\n",
    "Number_of_zeroes=coeffs_D==0\n",
    "Number_of_zeroes.sum()"
   ]
  },
  {
   "cell_type": "code",
   "execution_count": 895,
   "metadata": {},
   "outputs": [
    {
     "data": {
      "text/plain": [
       "0.8607270279480421"
      ]
     },
     "execution_count": 895,
     "metadata": {},
     "output_type": "execute_result"
    }
   ],
   "source": [
    "lasso_D.score(X_train_D, y_train_D)"
   ]
  },
  {
   "cell_type": "code",
   "execution_count": 896,
   "metadata": {},
   "outputs": [
    {
     "name": "stdout",
     "output_type": "stream",
     "text": [
      "0.897223754603462 0.8896183604893817\n",
      "0.8680771782819183 0.8607270279480421\n"
     ]
    }
   ],
   "source": [
    "# dataset cleaned with randomly assigned observations was chosen\n",
    "\n",
    "#Linear Regression Scoring\n",
    "print(lr_r.score(X_train_r,y_train_r),lr_D.score(X_train_D,y_train_D))\n",
    "\n",
    "\n",
    "#Lasso Scoring\n",
    "print(lasso_r.score(X_train_r, y_train_r), lasso_D.score(X_train_D, y_train_D))\n",
    "\n",
    "#Ridge Scoring\n",
    "# #Ridge A \n",
    "# 0.12568603084387123\n",
    "# 0.126057900333669\n",
    "# 0.12647108908588775\n",
    "# 0.12691459897331914\n",
    "# 0.12738069319104736\n",
    "# 0.12861107960095225\n",
    "# 0.12989519301431376\n",
    "# 0.1351712621550372\n",
    "# 0.14554610880386415\n",
    "\n",
    "# #Ridge D\n",
    "# 0.11944455185889803\n",
    "# 0.11942918351741114\n",
    "# 0.11945788771745545\n",
    "# 0.1195228906508271\n",
    "# 0.11961681615818011\n",
    "# 0.1199456051692106\n",
    "# 0.12037124046400227\n",
    "# 0.12264622456867054\n",
    "# 0.1286778765474493"
   ]
  }
 ],
 "metadata": {
  "file_extension": ".py",
  "kernelspec": {
   "display_name": "Python 3 (ipykernel)",
   "language": "python",
   "name": "python3"
  },
  "language_info": {
   "codemirror_mode": {
    "name": "ipython",
    "version": 3
   },
   "file_extension": ".py",
   "mimetype": "text/x-python",
   "name": "python",
   "nbconvert_exporter": "python",
   "pygments_lexer": "ipython3",
   "version": "3.9.13"
  },
  "mimetype": "text/x-python",
  "name": "python",
  "npconvert_exporter": "python",
  "pygments_lexer": "ipython3",
  "version": 3,
  "vscode": {
   "interpreter": {
    "hash": "90040baa4efb586fda84d92671ada3efc2732127afadc904f84868f0afee4816"
   }
  }
 },
 "nbformat": 4,
 "nbformat_minor": 2
}
